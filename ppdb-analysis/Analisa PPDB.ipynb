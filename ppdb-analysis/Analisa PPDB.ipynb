{
 "cells": [
  {
   "cell_type": "markdown",
   "id": "99508629-96b0-44e8-82c4-ed0d14da58d8",
   "metadata": {},
   "source": [
    "# 1. Import Library"
   ]
  },
  {
   "cell_type": "code",
   "execution_count": 1,
   "id": "14151c5c-2c33-4da7-b485-6b0d778311e7",
   "metadata": {},
   "outputs": [
    {
     "data": {
      "text/html": [
       "        <script type=\"text/javascript\">\n",
       "        window.PlotlyConfig = {MathJaxConfig: 'local'};\n",
       "        if (window.MathJax && window.MathJax.Hub && window.MathJax.Hub.Config) {window.MathJax.Hub.Config({SVG: {font: \"STIX-Web\"}});}\n",
       "        if (typeof require !== 'undefined') {\n",
       "        require.undef(\"plotly\");\n",
       "        requirejs.config({\n",
       "            paths: {\n",
       "                'plotly': ['https://cdn.plot.ly/plotly-2.14.0.min']\n",
       "            }\n",
       "        });\n",
       "        require(['plotly'], function(Plotly) {\n",
       "            window._Plotly = Plotly;\n",
       "        });\n",
       "        }\n",
       "        </script>\n",
       "        "
      ]
     },
     "metadata": {},
     "output_type": "display_data"
    }
   ],
   "source": [
    "import pandas as pd\n",
    "import numpy as np\n",
    "import seaborn as sns\n",
    "import matplotlib.pyplot as plt\n",
    "from matplotlib import rcParams\n",
    "import folium\n",
    "import plotly.offline as pyo\n",
    "import plotly\n",
    "plotly.offline.init_notebook_mode(connected=True)\n",
    "import plotly.graph_objects as go\n",
    "from plotly.subplots import make_subplots\n",
    "\n",
    "%config Completer.use_jedi = True\n",
    "pd.set_option('display.max_rows', 100)\n",
    "pd.set_option('display.max_columns', 100)"
   ]
  },
  {
   "cell_type": "markdown",
   "id": "d2dd2974-ecac-4031-b8e5-70bfb2396d6b",
   "metadata": {},
   "source": [
    "# 2. Apa itu PPDB dan apa saja manfaatnya?\n",
    "\n",
    "PPDB (singkatan dari Penerimaan Peserta Didik Baru) adalah salah satu agenda tahunan penerimaan murid di setiap jenjang sekolah. Metode pendaftaran sekolah melalui daring dari tingkat PAUD, TK, SD, SMP, sampai SMA/SMK. Istilah ini digunakan oleh berbagai sekolah saat ingin menerima murid baru.\n",
    "\n",
    "Bagi Dinas Pendidikan dan Sekolah:\n",
    "- Efisiensi pembiayaan dan mengurangi resiko terjadinya KKN (Korupsi, Kolusi dan Nepotisme).\n",
    "- Meningkatkan reputasi sekolah.\n",
    "- Memberikan akses yang luas kepada masyarakat.\n",
    "- Tersedianya sebuah basis data terintegrasi bagi pihak Dinas Pendidikan maupun Sekolah dalam penyelenggaran penerimaan peserta didik baru.\n",
    "\n",
    "Bagi Siswa dan Orang Tua Siswa:\n",
    "- Mempermudah untuk melakukan pendafaran siswa baru.\n",
    "- Mempermudah akses informasi penerimaan siswa baru.\n",
    "- Pendaftaran menjadi lebih tertib dan mudah dipantau.\n",
    "- Fasilitas dan pelayanan memuaskan dari pihak Sekolah dan Dinas Pendidikan."
   ]
  },
  {
   "cell_type": "code",
   "execution_count": 2,
   "id": "bc9b9529-491a-4b64-9438-6a21e797e45e",
   "metadata": {},
   "outputs": [
    {
     "name": "stdout",
     "output_type": "stream",
     "text": [
      "       Peringkat  Nomer Pendaftaran                          Nama  \\\n",
      "8499         124    200107202690054  GANENDRA DEVEN FEBRIYANDHIKA   \n",
      "10911         73    200107202390103                RAISYAH HAFIDA   \n",
      "1226           6    200104200320200                SYIFA SYAFITRI   \n",
      "4169          27    200102201750107          MUHAMMAD ARYA FAREZY   \n",
      "10094         18    200107202180098                  SANIA ASHIVA   \n",
      "\n",
      "           Kelurahan   RW   RT  Prioritas Zonasi               Umur  \\\n",
      "8499    Lubang Buaya  2.0  7.0               3.0  12 th 05 bl 00 hr   \n",
      "10911  Pejaten Timur  9.0  9.0               3.0  13 th 06 bl 27 hr   \n",
      "1226       Cililitan  7.0  NaN               NaN  12 th 11 bl 18 hr   \n",
      "4169        Rambutan  4.0  7.0               NaN  13 th 01 bl 04 hr   \n",
      "10094    Jati Padang  9.0  6.0               2.0  12 th 05 bl 13 hr   \n",
      "\n",
      "             Asal SMP Jalur Daftar        Status  \n",
      "8499   SMP Negeri 272       Zonasi  Daftar Ulang  \n",
      "10911             239       Zonasi  Daftar Ulang  \n",
      "1226              281     Akademik  Daftar Ulang  \n",
      "4169   SMP Negeri 174          KJP  Daftar Ulang  \n",
      "10094             218       Zonasi  Daftar Ulang  \n"
     ]
    }
   ],
   "source": [
    "df = pd.read_csv('data_ppdb_revisi.csv')\n",
    "n = 5\n",
    "print(df.sample(n))\n",
    "# sumber data dari https://arsip.siap-ppdb.com/2021/jakarta/#/ dengan mendesain ulang beberapa kolom dan value nya"
   ]
  },
  {
   "cell_type": "code",
   "execution_count": 3,
   "id": "6b5639ed-8d3f-45f9-a323-216c54e5bab4",
   "metadata": {
    "tags": []
   },
   "outputs": [
    {
     "name": "stdout",
     "output_type": "stream",
     "text": [
      "<class 'pandas.core.frame.DataFrame'>\n",
      "RangeIndex: 11925 entries, 0 to 11924\n",
      "Data columns (total 11 columns):\n",
      " #   Column             Non-Null Count  Dtype  \n",
      "---  ------             --------------  -----  \n",
      " 0   Peringkat          11925 non-null  int64  \n",
      " 1   Nomer Pendaftaran  11925 non-null  int64  \n",
      " 2   Nama               11925 non-null  object \n",
      " 3   Kelurahan          11832 non-null  object \n",
      " 4   RW                 11805 non-null  float64\n",
      " 5   RT                 8412 non-null   float64\n",
      " 6   Prioritas Zonasi   7189 non-null   float64\n",
      " 7   Umur               11925 non-null  object \n",
      " 8   Asal SMP           11925 non-null  object \n",
      " 9   Jalur Daftar       11925 non-null  object \n",
      " 10  Status             11925 non-null  object \n",
      "dtypes: float64(3), int64(2), object(6)\n",
      "memory usage: 1.0+ MB\n"
     ]
    }
   ],
   "source": [
    "df.info()"
   ]
  },
  {
   "cell_type": "markdown",
   "id": "7d87f29f-7b18-4f60-8238-743cabce6b69",
   "metadata": {},
   "source": [
    "# 3. Cleaning Data\n",
    "\n",
    "Pembersihan data adalah salah satu subtugas paling penting dari setiap project seorang data scientist, data analyst, dan data engineer. Meskipun ini bisa menjadi proses yang sangat membosankan, tetapi proses ini tidak boleh diremehkan.\n",
    "\n",
    "Dengan melihat sampel dari baris kumpulan data (dari tugas di atas), saya mengamati bahwa beberapa value di kolom seperti kolom `Asal SMP` ada value yang tidak teratur dan beda dengan value pada umumnya. Itu baru terlihat di kolom `Asal SMP` belum lagi di kolom yang lainnya.\n",
    "\n",
    "Oleh karena itu, sekarang kita lanjutkan untuk membersihkan data kita. Khususnya, karakter yang kelebihan space atau ada nama Kelurahan yang typo."
   ]
  },
  {
   "cell_type": "markdown",
   "id": "7303139d-acc6-417d-9b6c-9fdd30d65c51",
   "metadata": {},
   "source": [
    "## 3.1 Cleaning Column `Kelurahan`"
   ]
  },
  {
   "cell_type": "code",
   "execution_count": 4,
   "id": "04da4d85-ff1f-4a78-90f3-e27d20cf522a",
   "metadata": {},
   "outputs": [],
   "source": [
    "df['Kelurahan'] = df['Kelurahan'].str.strip() # memangkas value Kelurahan yang kelebihan spasi"
   ]
  },
  {
   "cell_type": "code",
   "execution_count": 5,
   "id": "99d8f579-adc3-4abc-b949-eb2fe3f0e738",
   "metadata": {
    "tags": []
   },
   "outputs": [
    {
     "data": {
      "text/plain": [
       "Ciracas               719\n",
       "Lubang Buaya          585\n",
       "Kebon Pala            577\n",
       "Tengah                501\n",
       "Rambutan              451\n",
       "                     ... \n",
       "Lagoa                   1\n",
       "cijantung               1\n",
       "Kedaung Kali Angke      1\n",
       "Duri Pulo               1\n",
       "Petogogan               1\n",
       "Name: Kelurahan, Length: 213, dtype: int64"
      ]
     },
     "execution_count": 5,
     "metadata": {},
     "output_type": "execute_result"
    }
   ],
   "source": [
    "df['Kelurahan'].value_counts()"
   ]
  },
  {
   "cell_type": "code",
   "execution_count": 6,
   "id": "890d5a89-296d-44a9-84db-650fbc0318ff",
   "metadata": {},
   "outputs": [],
   "source": [
    "df['Kelurahan'].replace(['Cilitan', 'cijantung', 'Srengsen Sawah', 'pinang ranti', 'balekambang', 'Cililtan', 'Duri selatan', 'Cilandak Badak', \n",
    "                         'Kepala Dua Wetan', 'Cipinang Besar', 'Utan Kayu utara', 'Gedonga', 'Tanjung barat', 'Balekambang'],\n",
    "                        ['Cililitan', 'Cijantung', 'Srengseng Sawah', 'Pinang Ranti', 'Balekambang', 'Cililitan', 'Duri Selatan', 'Cilandak Barat', \n",
    "                         'Kelapa Dua Wetan', 'Cipinang Besar Utara', 'Utan Kayu Utara', 'Gedong', 'Tanjung Barat', 'Bale Kambang'], inplace=True)"
   ]
  },
  {
   "cell_type": "markdown",
   "id": "c47839d3-a784-4a4c-88fe-893a4f0b9895",
   "metadata": {
    "tags": []
   },
   "source": [
    "## 3.2 Cleaning Column `RW`"
   ]
  },
  {
   "cell_type": "code",
   "execution_count": 7,
   "id": "17437afe-7345-41e5-9157-d8696f3eb5af",
   "metadata": {
    "tags": []
   },
   "outputs": [
    {
     "data": {
      "text/plain": [
       "3.0     1578\n",
       "2.0     1555\n",
       "1.0     1459\n",
       "4.0     1330\n",
       "5.0     1035\n",
       "6.0     1018\n",
       "9.0      872\n",
       "7.0      863\n",
       "10.0     695\n",
       "8.0      581\n",
       "11.0     424\n",
       "12.0     222\n",
       "15.0      58\n",
       "13.0      44\n",
       "14.0      32\n",
       "16.0      30\n",
       "17.0       4\n",
       "18.0       3\n",
       "19.0       2\n",
       "Name: RW, dtype: int64"
      ]
     },
     "execution_count": 7,
     "metadata": {},
     "output_type": "execute_result"
    }
   ],
   "source": [
    "df['RW'].value_counts() #tujuannya adalah untuk mencari null value. jika ada null value maka di isi dengan angka 0"
   ]
  },
  {
   "cell_type": "code",
   "execution_count": 8,
   "id": "1c9b933c-03d7-4690-9f61-5712698ec6de",
   "metadata": {},
   "outputs": [],
   "source": [
    "df['RW'] = df['RW'].fillna(0) #null value di isi angka 0 agar tipe datanya bisa diubah dari float menjadi integer"
   ]
  },
  {
   "cell_type": "code",
   "execution_count": 9,
   "id": "1ef1bc01-0938-4405-8bc0-1d0a6812925f",
   "metadata": {},
   "outputs": [],
   "source": [
    "df['RW'] = df['RW'].astype(int) #syntax mengubah tipe data dari float menjadi integer"
   ]
  },
  {
   "cell_type": "markdown",
   "id": "b6d3ae98-e288-4281-bd9f-93626830bf59",
   "metadata": {},
   "source": [
    "## 3.3 Cleaning Column `RT`"
   ]
  },
  {
   "cell_type": "code",
   "execution_count": 10,
   "id": "bad2d1a0-17e8-4381-9d73-cf92f481895c",
   "metadata": {
    "tags": []
   },
   "outputs": [
    {
     "data": {
      "text/plain": [
       "3.0     769\n",
       "1.0     742\n",
       "2.0     711\n",
       "4.0     709\n",
       "6.0     701\n",
       "8.0     695\n",
       "5.0     687\n",
       "7.0     685\n",
       "9.0     545\n",
       "10.0    500\n",
       "11.0    477\n",
       "12.0    361\n",
       "14.0    250\n",
       "13.0    245\n",
       "15.0    148\n",
       "16.0     94\n",
       "17.0     59\n",
       "18.0     25\n",
       "19.0      9\n",
       "Name: RT, dtype: int64"
      ]
     },
     "execution_count": 10,
     "metadata": {},
     "output_type": "execute_result"
    }
   ],
   "source": [
    "df['RT'].value_counts() #tujuannya adalah untuk mencari null value. jika ada null value maka di isi dengan angka 0"
   ]
  },
  {
   "cell_type": "code",
   "execution_count": 11,
   "id": "53501d27-a3e6-4ca8-99b1-94f9eb4f4dbc",
   "metadata": {},
   "outputs": [],
   "source": [
    "df['RT'] = df['RT'].fillna(0) #null value di isi angka 0 agar tipe datanya bisa diubah dari float menjadi integer"
   ]
  },
  {
   "cell_type": "code",
   "execution_count": 12,
   "id": "036224c9-a6c6-468a-aeac-7b853cd389fa",
   "metadata": {},
   "outputs": [],
   "source": [
    "df['RT'] = df['RT'].astype(int) #syntax mengubah tipe data dari float menjadi integer"
   ]
  },
  {
   "cell_type": "markdown",
   "id": "904f7d3d-3375-4229-9bc4-01e9a73b0fbf",
   "metadata": {
    "tags": []
   },
   "source": [
    "## 3.4 Cleaning Column `Asal SMP`"
   ]
  },
  {
   "cell_type": "code",
   "execution_count": 13,
   "id": "b55a9d7b-abef-401e-ab44-4ff4d8fe2d6f",
   "metadata": {
    "tags": []
   },
   "outputs": [
    {
     "data": {
      "text/plain": [
       "35                403\n",
       "SMP Negeri 259    364\n",
       "281               348\n",
       "SMP Negeri 257    329\n",
       "239               329\n",
       "49                328\n",
       "SMP Negeri 81     328\n",
       "SMP Negeri 179    326\n",
       "SMP Negeri 268    325\n",
       "SMP Negeri 184    323\n",
       "20                312\n",
       "182               294\n",
       "210               294\n",
       "150               291\n",
       "SMP Negeri 106    290\n",
       "126               290\n",
       "SMP Negeri 275    289\n",
       "SMP Negeri 209    286\n",
       "SMP Negeri 263    256\n",
       "SMP Negeri 174    255\n",
       "41                254\n",
       "218               253\n",
       "SMP Negeri 80     253\n",
       "SMP Negeri 272    252\n",
       "SMP Negeri 214    252\n",
       "SMP Negeri 171    251\n",
       "SMP Negeri 222    223\n",
       "SMP Negeri 102    221\n",
       "24                221\n",
       "SMP Negeri 246    220\n",
       "227               220\n",
       "SMP Negeri 208    219\n",
       "154               218\n",
       "107               218\n",
       "SMP Negeri 217    218\n",
       "238               218\n",
       "SMP Negeri 223    217\n",
       "SMP Negeri 287    217\n",
       "SMP Negeri 251    217\n",
       "SMP Negeri 128    216\n",
       "163               214\n",
       "SMP Negeri 103    183\n",
       "SMP Negeri 203    182\n",
       "SMP Negeri 188    181\n",
       "155               181\n",
       "SMP Negeri 50     146\n",
       "Name: Asal SMP, dtype: int64"
      ]
     },
     "execution_count": 13,
     "metadata": {},
     "output_type": "execute_result"
    }
   ],
   "source": [
    "df['Asal SMP'].value_counts() #melihat nama value yang ada, apakah sudah seragam atau masih berantakan"
   ]
  },
  {
   "cell_type": "code",
   "execution_count": 14,
   "id": "57196a73-d2a4-4bb9-8680-a8d497c5413c",
   "metadata": {},
   "outputs": [],
   "source": [
    "df['Asal SMP'].replace(['SMP Negeri 259', 'SMP Negeri 257', 'SMP Negeri 81', 'SMP Negeri 179', 'SMP Negeri 268', 'SMP Negeri 184', 'SMP Negeri 106', \n",
    "                        'SMP Negeri 275', 'SMP Negeri 209', 'SMP Negeri 263', 'SMP Negeri 174', 'SMP Negeri 80', 'SMP Negeri 272', 'SMP Negeri 214',\n",
    "                        'SMP Negeri 171', 'SMP Negeri 222', 'SMP Negeri 102', 'SMP Negeri 246', 'SMP Negeri 208', 'SMP Negeri 217', 'SMP Negeri 251',\n",
    "                        'SMP Negeri 287', 'SMP Negeri 223', 'SMP Negeri 128', 'SMP Negeri 103', 'SMP Negeri 203', 'SMP Negeri 188', 'SMP Negeri 50']\n",
    "                       ,[259, 257, 81, 179, 268, 184, 106, 275, 209, 263, 174, 80, 272, 214, 171, 222, 102, 246, 208, 217, 251, 287, 223, 128, 103, 203, 188, 50], inplace=True)"
   ]
  },
  {
   "cell_type": "code",
   "execution_count": 15,
   "id": "624d98b5-30f8-4a95-adcc-80cdaa360203",
   "metadata": {
    "tags": []
   },
   "outputs": [
    {
     "data": {
      "text/plain": [
       "35     403\n",
       "259    364\n",
       "281    348\n",
       "257    329\n",
       "239    329\n",
       "49     328\n",
       "81     328\n",
       "179    326\n",
       "268    325\n",
       "184    323\n",
       "20     312\n",
       "182    294\n",
       "210    294\n",
       "150    291\n",
       "106    290\n",
       "126    290\n",
       "275    289\n",
       "209    286\n",
       "263    256\n",
       "174    255\n",
       "41     254\n",
       "218    253\n",
       "80     253\n",
       "272    252\n",
       "214    252\n",
       "171    251\n",
       "222    223\n",
       "102    221\n",
       "24     221\n",
       "246    220\n",
       "227    220\n",
       "208    219\n",
       "154    218\n",
       "107    218\n",
       "217    218\n",
       "238    218\n",
       "223    217\n",
       "287    217\n",
       "251    217\n",
       "128    216\n",
       "163    214\n",
       "103    183\n",
       "203    182\n",
       "188    181\n",
       "155    181\n",
       "50     146\n",
       "Name: Asal SMP, dtype: int64"
      ]
     },
     "execution_count": 15,
     "metadata": {},
     "output_type": "execute_result"
    }
   ],
   "source": [
    "df['Asal SMP'].value_counts() # memastikan kembali apakah value sudah seragam atau belum"
   ]
  },
  {
   "cell_type": "markdown",
   "id": "86a80134-eb56-40a7-b1ab-d0a8295e6181",
   "metadata": {},
   "source": [
    "## 3.5 Cleaning Column `Jalur Daftar`"
   ]
  },
  {
   "cell_type": "code",
   "execution_count": 16,
   "id": "d05aa5d9-d4ee-4773-b7c5-a433d5a31c2e",
   "metadata": {},
   "outputs": [
    {
     "data": {
      "text/plain": [
       "Zonasi                               5685\n",
       "KJP                                  1663\n",
       "Akademik                             1576\n",
       "Afirmasi (KJP)                        632\n",
       "Tahap Kedua                           478\n",
       "Prestasi (Akademik)                   477\n",
       "Non Akademik                          443\n",
       "KJP                                   432\n",
       "Prestasi (Non Akademik)               133\n",
       "Inklusi                               114\n",
       "Afirmasi (Inklusi)                     61\n",
       "Akademik                               58\n",
       "Pindah Tugas Orangtua                  56\n",
       "Jalur Kedua                            44\n",
       "Pindah Tugas Orangtua & Anak Guru      28\n",
       "Inklusi                                14\n",
       "Non Akademik                           12\n",
       "Pindahan Tugas Orangtua                 9\n",
       "Tahap Kedua                             9\n",
       "Afirmasi (Anak Panti)                   1\n",
       "Name: Jalur Daftar, dtype: int64"
      ]
     },
     "execution_count": 16,
     "metadata": {},
     "output_type": "execute_result"
    }
   ],
   "source": [
    "df['Jalur Daftar'].value_counts() #melihat nama value yang ada, apakah sudah seragam atau masih berantakan"
   ]
  },
  {
   "cell_type": "code",
   "execution_count": 17,
   "id": "9a84860a-1ca1-4d0b-965f-ce8c885b70d4",
   "metadata": {},
   "outputs": [],
   "source": [
    "df['Jalur Daftar'] = df['Jalur Daftar'].str.strip() #memangkas kelebihan spasi. karena berdasarkan hasil value counts ada 2 value KJP yang sama"
   ]
  },
  {
   "cell_type": "code",
   "execution_count": 18,
   "id": "68ef1a8d-4d1a-498e-b3b7-0b5b53c85535",
   "metadata": {},
   "outputs": [
    {
     "data": {
      "text/plain": [
       "Zonasi                               5685\n",
       "KJP                                  2095\n",
       "Akademik                             1634\n",
       "Afirmasi (KJP)                        632\n",
       "Tahap Kedua                           487\n",
       "Prestasi (Akademik)                   477\n",
       "Non Akademik                          455\n",
       "Prestasi (Non Akademik)               133\n",
       "Inklusi                               128\n",
       "Afirmasi (Inklusi)                     61\n",
       "Pindah Tugas Orangtua                  56\n",
       "Jalur Kedua                            44\n",
       "Pindah Tugas Orangtua & Anak Guru      28\n",
       "Pindahan Tugas Orangtua                 9\n",
       "Afirmasi (Anak Panti)                   1\n",
       "Name: Jalur Daftar, dtype: int64"
      ]
     },
     "execution_count": 18,
     "metadata": {},
     "output_type": "execute_result"
    }
   ],
   "source": [
    "df['Jalur Daftar'].value_counts() #memastikan kembali apakah ada yang masih kelebihan spasi atau tidak"
   ]
  },
  {
   "cell_type": "code",
   "execution_count": 19,
   "id": "3ab51b56-af09-47cf-95e7-2fb2758ab0c9",
   "metadata": {},
   "outputs": [],
   "source": [
    "df['Jalur Daftar'].replace(['KJP', 'Akademik', 'Non Akademik', 'Inklusi', 'Pindah Tugas Orangtua', 'Pindahan Tugas Orangtua', 'Jalur Kedua'], \n",
    "                           ['Afirmasi (KJP)', 'Prestasi (Akademik)', 'Prestasi (Non Akademik)', 'Afirmasi (Inklusi)', 'Pindah Tugas Orangtua & Anak Guru', \n",
    "                            'Pindah Tugas Orangtua & Anak Guru', 'Tahap Kedua'], inplace=True)\n",
    "# mengubah nama value sesuai dengan PPDB DKI Jakarta"
   ]
  },
  {
   "cell_type": "code",
   "execution_count": 20,
   "id": "454860b8-a084-4dc3-85e4-8f7ebeec932b",
   "metadata": {},
   "outputs": [
    {
     "data": {
      "text/plain": [
       "Zonasi                               5685\n",
       "Afirmasi (KJP)                       2727\n",
       "Prestasi (Akademik)                  2111\n",
       "Prestasi (Non Akademik)               588\n",
       "Tahap Kedua                           531\n",
       "Afirmasi (Inklusi)                    189\n",
       "Pindah Tugas Orangtua & Anak Guru      93\n",
       "Afirmasi (Anak Panti)                   1\n",
       "Name: Jalur Daftar, dtype: int64"
      ]
     },
     "execution_count": 20,
     "metadata": {},
     "output_type": "execute_result"
    }
   ],
   "source": [
    "df['Jalur Daftar'].value_counts() # memastikan kembali apakah value sudah sesuai dengan PPDB DKI Jakarta atau belum"
   ]
  },
  {
   "cell_type": "markdown",
   "id": "d5e8e20e-46a3-4283-91dd-bda0eba64fa8",
   "metadata": {},
   "source": [
    "## 3.6 Cleaning Column `Status`"
   ]
  },
  {
   "cell_type": "code",
   "execution_count": 21,
   "id": "8c1e9b25-f300-4a2f-bccf-548b1baff819",
   "metadata": {},
   "outputs": [
    {
     "data": {
      "text/plain": [
       "Daftar Ulang          11602\n",
       "Tidak Daftar Ulang      179\n",
       "Daftar Ulang            137\n",
       "Pindah sekolah            3\n",
       "Pindah Ke 49              3\n",
       "Tidak Naik Kelas          1\n",
       "Name: Status, dtype: int64"
      ]
     },
     "execution_count": 21,
     "metadata": {},
     "output_type": "execute_result"
    }
   ],
   "source": [
    "df['Status'].value_counts()"
   ]
  },
  {
   "cell_type": "code",
   "execution_count": 22,
   "id": "f1ab3c05-63ed-41c9-8652-7e9da7e63d99",
   "metadata": {},
   "outputs": [],
   "source": [
    "df['Status'] = df['Status'].str.strip() # memangkas kelebihan spasi berdasarkan value Daftar Ulang"
   ]
  },
  {
   "cell_type": "code",
   "execution_count": 23,
   "id": "74935c02-7508-45aa-a445-eb2fe9f36383",
   "metadata": {},
   "outputs": [],
   "source": [
    "df['Status'].replace(['Pindah sekolah'],['Pindah Sekolah'], inplace=True) # value Pindah Sekolah, huruf s pada sekolah masih huruf kecil bukan kapital"
   ]
  },
  {
   "cell_type": "code",
   "execution_count": 24,
   "id": "b4a608cc-3c99-41aa-b163-3c48915dc805",
   "metadata": {},
   "outputs": [
    {
     "data": {
      "text/plain": [
       "Daftar Ulang          11739\n",
       "Tidak Daftar Ulang      179\n",
       "Pindah Sekolah            3\n",
       "Pindah Ke 49              3\n",
       "Tidak Naik Kelas          1\n",
       "Name: Status, dtype: int64"
      ]
     },
     "execution_count": 24,
     "metadata": {},
     "output_type": "execute_result"
    }
   ],
   "source": [
    "df['Status'].value_counts() # memastikan kembali apakah value sudah sesuai dengan kemauan pribadi atau belum\n",
    "# sumber data pindah sekolah & pindah ke 49 di dapatkan dari teman adik yang memang saling kenal sehingga data yang didapatkan valid"
   ]
  },
  {
   "cell_type": "markdown",
   "id": "3e632315-9cc2-400a-8903-d69ff733d33c",
   "metadata": {},
   "source": [
    "## 3.7 Memastikan apakah tipe data sudah tepat atau belum"
   ]
  },
  {
   "cell_type": "code",
   "execution_count": 25,
   "id": "4786f77a-c5eb-49e9-a92b-82181667118a",
   "metadata": {},
   "outputs": [
    {
     "data": {
      "text/plain": [
       "Peringkat              int64\n",
       "Nomer Pendaftaran      int64\n",
       "Nama                  object\n",
       "Kelurahan             object\n",
       "RW                     int32\n",
       "RT                     int32\n",
       "Prioritas Zonasi     float64\n",
       "Umur                  object\n",
       "Asal SMP              object\n",
       "Jalur Daftar          object\n",
       "Status                object\n",
       "dtype: object"
      ]
     },
     "execution_count": 25,
     "metadata": {},
     "output_type": "execute_result"
    }
   ],
   "source": [
    "df.dtypes"
   ]
  },
  {
   "cell_type": "markdown",
   "id": "3fbf3e49-83e3-455f-9ad3-239ff299ee64",
   "metadata": {},
   "source": [
    "# 4. Klasifikasi zonasi berdasarkan zonasi 1, zonasi 2, dan zonasi 3\n",
    "\n",
    "Untuk Memudahkan analisa, alangkah baiknya membuat kolom baru yang valuenya hanya berisi `Zonasi 1`, `Zonasi 2`, `Zonasi 3`, dan `Belum Diketahui`. Tujuannya adalah untuk mengetahui siapa saja yang sudah masuk di `zonasi 1 dan 2`. Jika sudah didapatkan nama-nama yang masuk kedalam `zonasi 1 dan 2`, maka kemungkinan besar mereka tidak akan memilih sekolah yang diluar cakupannya yaitu `zonasi 3`. Kecuali jika nama-nama tersebut mendaftar melalui `jalur prestasi` atau `jalur afirmasi`."
   ]
  },
  {
   "cell_type": "code",
   "execution_count": 26,
   "id": "94f274d1-79e0-483a-ab52-f21a9721bb88",
   "metadata": {},
   "outputs": [
    {
     "data": {
      "text/html": [
       "<div>\n",
       "<style scoped>\n",
       "    .dataframe tbody tr th:only-of-type {\n",
       "        vertical-align: middle;\n",
       "    }\n",
       "\n",
       "    .dataframe tbody tr th {\n",
       "        vertical-align: top;\n",
       "    }\n",
       "\n",
       "    .dataframe thead th {\n",
       "        text-align: right;\n",
       "    }\n",
       "</style>\n",
       "<table border=\"1\" class=\"dataframe\">\n",
       "  <thead>\n",
       "    <tr style=\"text-align: right;\">\n",
       "      <th></th>\n",
       "      <th>index</th>\n",
       "      <th>Peringkat</th>\n",
       "      <th>Nomer Pendaftaran</th>\n",
       "      <th>Nama</th>\n",
       "      <th>Kelurahan</th>\n",
       "      <th>RW</th>\n",
       "      <th>RT</th>\n",
       "      <th>Prioritas Zonasi</th>\n",
       "      <th>Umur</th>\n",
       "      <th>Asal SMP</th>\n",
       "      <th>Jalur Daftar</th>\n",
       "      <th>Status</th>\n",
       "    </tr>\n",
       "  </thead>\n",
       "  <tbody>\n",
       "    <tr>\n",
       "      <th>0</th>\n",
       "      <td>398</td>\n",
       "      <td>1</td>\n",
       "      <td>200103200320003</td>\n",
       "      <td>MUHAMMAD ABDUL RAHMAN</td>\n",
       "      <td>Batu Ampar</td>\n",
       "      <td>4</td>\n",
       "      <td>0</td>\n",
       "      <td>3.0</td>\n",
       "      <td>15 th 00 bl 28 hr</td>\n",
       "      <td>20</td>\n",
       "      <td>Afirmasi (Inklusi)</td>\n",
       "      <td>Daftar Ulang</td>\n",
       "    </tr>\n",
       "    <tr>\n",
       "      <th>1</th>\n",
       "      <td>996</td>\n",
       "      <td>1</td>\n",
       "      <td>200103201280002</td>\n",
       "      <td>TRI ZAHRINI</td>\n",
       "      <td>Batu Ampar</td>\n",
       "      <td>0</td>\n",
       "      <td>0</td>\n",
       "      <td>3.0</td>\n",
       "      <td>14 th 11 bl 23 hr</td>\n",
       "      <td>126</td>\n",
       "      <td>Afirmasi (Inklusi)</td>\n",
       "      <td>Daftar Ulang</td>\n",
       "    </tr>\n",
       "    <tr>\n",
       "      <th>2</th>\n",
       "      <td>2269</td>\n",
       "      <td>8</td>\n",
       "      <td>200107200590084</td>\n",
       "      <td>ARVA SABILLILAH</td>\n",
       "      <td>Cililitan</td>\n",
       "      <td>7</td>\n",
       "      <td>12</td>\n",
       "      <td>3.0</td>\n",
       "      <td>14 th 11 bl 13 hr</td>\n",
       "      <td>50</td>\n",
       "      <td>Zonasi</td>\n",
       "      <td>Daftar Ulang</td>\n",
       "    </tr>\n",
       "    <tr>\n",
       "      <th>3</th>\n",
       "      <td>252</td>\n",
       "      <td>15</td>\n",
       "      <td>200102200060218</td>\n",
       "      <td>ANGGI PRATIWI</td>\n",
       "      <td>Kramat Jati</td>\n",
       "      <td>11</td>\n",
       "      <td>10</td>\n",
       "      <td>2.0</td>\n",
       "      <td>14 th 10 bl 29 hr</td>\n",
       "      <td>49</td>\n",
       "      <td>Afirmasi (KJP)</td>\n",
       "      <td>Tidak Naik Kelas</td>\n",
       "    </tr>\n",
       "    <tr>\n",
       "      <th>4</th>\n",
       "      <td>5678</td>\n",
       "      <td>46</td>\n",
       "      <td>200102202100027</td>\n",
       "      <td>MUHAMAD ISLAMI</td>\n",
       "      <td>Tengah</td>\n",
       "      <td>4</td>\n",
       "      <td>11</td>\n",
       "      <td>NaN</td>\n",
       "      <td>14 th 10 bl 27 hr</td>\n",
       "      <td>209</td>\n",
       "      <td>Afirmasi (KJP)</td>\n",
       "      <td>Daftar Ulang</td>\n",
       "    </tr>\n",
       "  </tbody>\n",
       "</table>\n",
       "</div>"
      ],
      "text/plain": [
       "   index  Peringkat  Nomer Pendaftaran                   Nama    Kelurahan  \\\n",
       "0    398          1    200103200320003  MUHAMMAD ABDUL RAHMAN   Batu Ampar   \n",
       "1    996          1    200103201280002            TRI ZAHRINI   Batu Ampar   \n",
       "2   2269          8    200107200590084        ARVA SABILLILAH    Cililitan   \n",
       "3    252         15    200102200060218          ANGGI PRATIWI  Kramat Jati   \n",
       "4   5678         46    200102202100027         MUHAMAD ISLAMI       Tengah   \n",
       "\n",
       "   RW  RT  Prioritas Zonasi               Umur Asal SMP        Jalur Daftar  \\\n",
       "0   4   0               3.0  15 th 00 bl 28 hr       20  Afirmasi (Inklusi)   \n",
       "1   0   0               3.0  14 th 11 bl 23 hr      126  Afirmasi (Inklusi)   \n",
       "2   7  12               3.0  14 th 11 bl 13 hr       50              Zonasi   \n",
       "3  11  10               2.0  14 th 10 bl 29 hr       49      Afirmasi (KJP)   \n",
       "4   4  11               NaN  14 th 10 bl 27 hr      209      Afirmasi (KJP)   \n",
       "\n",
       "             Status  \n",
       "0      Daftar Ulang  \n",
       "1      Daftar Ulang  \n",
       "2      Daftar Ulang  \n",
       "3  Tidak Naik Kelas  \n",
       "4      Daftar Ulang  "
      ]
     },
     "execution_count": 26,
     "metadata": {},
     "output_type": "execute_result"
    }
   ],
   "source": [
    "df_51 = df[df['Kelurahan'].isin(['Batu Ampar', 'Bale Kambang', 'Pejaten Barat', 'Pejaten Timur', 'Cawang', 'Cililitan', 'Gedong', 'Rawajati', \n",
    "                         'Kalibata', 'Kramat Jati', 'Tengah'])].sort_values('Umur', ascending=False).reset_index()\n",
    "df_51.head()"
   ]
  },
  {
   "cell_type": "code",
   "execution_count": 31,
   "id": "ba3221ea-eba8-48f7-89a0-96725ed3440a",
   "metadata": {},
   "outputs": [],
   "source": [
    "status_zonasi = []\n",
    "for x,y,z in zip(df_51['RT'], df_51['RW'], df_51['Kelurahan']):\n",
    "    if x in [12, 15, 7, 11, 11, 10, 9 ,14] and y == [2, 5, 4, 4, 2, 2, 2, 2] and z == ['Batu Ampar']:\n",
    "        c = 'Zonasi 1'\n",
    "    elif x in [1, 9 , 6, 5, 8, 15, 17, 1, 10, 13, 4, 6, 12] and y == [4, 3, 5, 5, 2, 2, 2, 6, 4, 4, 4, 4, 4] and z == ['Batu Ampar']:\n",
    "        c = 'Zonasi 2'\n",
    "    else:\n",
    "        c = 'Zonasi 3'\n",
    "    status_zonasi.append(c)"
   ]
  },
  {
   "cell_type": "code",
   "execution_count": 32,
   "id": "57561ba3-4001-4304-b5c0-a5a9dd2063d9",
   "metadata": {},
   "outputs": [],
   "source": [
    "df_51['Status Zonasi'] = status_zonasi"
   ]
  },
  {
   "cell_type": "code",
   "execution_count": 34,
   "id": "7d0ea7f5-371a-47c2-9957-914ea2055125",
   "metadata": {},
   "outputs": [
    {
     "data": {
      "text/plain": [
       "Zonasi 3    3596\n",
       "Name: Status Zonasi, dtype: int64"
      ]
     },
     "execution_count": 34,
     "metadata": {},
     "output_type": "execute_result"
    }
   ],
   "source": [
    "df_51['Status Zonasi'].value_counts()"
   ]
  },
  {
   "cell_type": "code",
   "execution_count": 27,
   "id": "9a3e2a0c-b101-4221-b2c1-9a6b93c309f8",
   "metadata": {},
   "outputs": [],
   "source": [
    "# Membuat kolom baru dengan keterangan value nya 'Belum Diketahui'\n",
    "df_51.loc[(df_51['Jalur Daftar'] == 'Prestasi (Akademik)') & (df_51['Kelurahan'] == 'Batu Ampar'), 'Status Zonasi'] = 'Belum Diketahui'\n",
    "df_51.loc[(df_51['Jalur Daftar'] == 'Prestasi (Non Akademik)') & (df_51['Kelurahan'] == 'Batu Ampar'), 'Status Zonasi'] = 'Belum Diketahui'\n",
    "df_51.loc[(df_51['Jalur Daftar'] == 'Afirmasi (Inklusi)') & (df_51['Kelurahan'] == 'Batu Ampar'), 'Status Zonasi'] = 'Belum Diketahui'\n",
    "df_51.loc[(df_51['Jalur Daftar'] == 'Afirmasi (Anak Panti)') & (df_51['Kelurahan'] == 'Batu Ampar'), 'Status Zonasi'] = 'Belum Diketahui'\n",
    "df_51.loc[(df_51['Jalur Daftar'] == 'Tahap Kedua') & (df_51['Kelurahan'] == 'Batu Ampar'), 'Status Zonasi'] = 'Belum Diketahui'\n",
    "    \n",
    "df_51.loc[(df_51['Jalur Daftar'] == 'Prestasi (Akademik)') & (df_51['Kelurahan'] == 'Bale Kambang'), 'Status Zonasi'] = 'Belum Diketahui'\n",
    "df_51.loc[(df_51['Jalur Daftar'] == 'Prestasi (Non Akademik)') & (df_51['Kelurahan'] == 'Bale Kambang'), 'Status Zonasi'] = 'Belum Diketahui'\n",
    "df_51.loc[(df_51['Jalur Daftar'] == 'Afirmasi (Inklusi)') & (df_51['Kelurahan'] == 'Bale Kambang'), 'Status Zonasi'] = 'Belum Diketahui'\n",
    "df_51.loc[(df_51['Jalur Daftar'] == 'Afirmasi (Anak Panti)') & (df_51['Kelurahan'] == 'Bale Kambang'), 'Status Zonasi'] = 'Belum Diketahui'\n",
    "df_51.loc[(df_51['Jalur Daftar'] == 'Tahap Kedua') & (df_51['Kelurahan'] == 'Bale Kambang'), 'Status Zonasi'] = 'Belum Diketahui'\n",
    "    \n",
    "df_51.loc[(df_51['Jalur Daftar'] == 'Prestasi (Akademik)') & (df_51['Kelurahan'] == 'Pejaten Barat'), 'Status Zonasi'] = 'Belum Diketahui'\n",
    "df_51.loc[(df_51['Jalur Daftar'] == 'Prestasi (Non Akademik)') & (df_51['Kelurahan'] == 'Pejaten Barat'), 'Status Zonasi'] = 'Belum Diketahui'\n",
    "df_51.loc[(df_51['Jalur Daftar'] == 'Afirmasi (Inklusi)') & (df_51['Kelurahan'] == 'Pejaten Barat'), 'Status Zonasi'] = 'Belum Diketahui'\n",
    "df_51.loc[(df_51['Jalur Daftar'] == 'Afirmasi (Anak Panti)') & (df_51['Kelurahan'] == 'Pejaten Barat'), 'Status Zonasi'] = 'Belum Diketahui'\n",
    "df_51.loc[(df_51['Jalur Daftar'] == 'Tahap Kedua') & (df_51['Kelurahan'] == 'Pejaten Barat'), 'Status Zonasi'] = 'Belum Diketahui'\n",
    "    \n",
    "df_51.loc[(df_51['Jalur Daftar'] == 'Prestasi (Akademik)') & (df_51['Kelurahan'] == 'Pejaten Timur'), 'Status Zonasi'] = 'Belum Diketahui'\n",
    "df_51.loc[(df_51['Jalur Daftar'] == 'Prestasi (Non Akademik)') & (df_51['Kelurahan'] == 'Pejaten Timur'), 'Status Zonasi'] = 'Belum Diketahui'\n",
    "df_51.loc[(df_51['Jalur Daftar'] == 'Afirmasi (Inklusi)') & (df_51['Kelurahan'] == 'Pejaten Timur'), 'Status Zonasi'] = 'Belum Diketahui'\n",
    "df_51.loc[(df_51['Jalur Daftar'] == 'Afirmasi (Anak Panti)') & (df_51['Kelurahan'] == 'Pejaten Timur'), 'Status Zonasi'] = 'Belum Diketahui'\n",
    "df_51.loc[(df_51['Jalur Daftar'] == 'Tahap Kedua') & (df_51['Kelurahan'] == 'Pejaten Timur'), 'Status Zonasi'] = 'Belum Diketahui'\n",
    "    \n",
    "df_51.loc[(df_51['Jalur Daftar'] == 'Prestasi (Akademik)') & (df_51['Kelurahan'] == 'Cawang'), 'Status Zonasi'] = 'Belum Diketahui'\n",
    "df_51.loc[(df_51['Jalur Daftar'] == 'Prestasi (Non Akademik)') & (df_51['Kelurahan'] == 'Cawang'), 'Status Zonasi'] = 'Belum Diketahui'\n",
    "df_51.loc[(df_51['Jalur Daftar'] == 'Afirmasi (Inklusi)') & (df_51['Kelurahan'] == 'Cawang'), 'Status Zonasi'] = 'Belum Diketahui'\n",
    "df_51.loc[(df_51['Jalur Daftar'] == 'Afirmasi (Anak Panti)') & (df_51['Kelurahan'] == 'Cawang'), 'Status Zonasi'] = 'Belum Diketahui'\n",
    "df_51.loc[(df_51['Jalur Daftar'] == 'Tahap Kedua') & (df_51['Kelurahan'] == 'Cawang'), 'Status Zonasi'] = 'Belum Diketahui'\n",
    "    \n",
    "df_51.loc[(df_51['Jalur Daftar'] == 'Prestasi (Akademik)') & (df_51['Kelurahan'] == 'Cililitan'), 'Status Zonasi'] = 'Belum Diketahui'\n",
    "df_51.loc[(df_51['Jalur Daftar'] == 'Prestasi (Non Akademik)') & (df_51['Kelurahan'] == 'Cililitan'), 'Status Zonasi'] = 'Belum Diketahui'\n",
    "df_51.loc[(df_51['Jalur Daftar'] == 'Afirmasi (Inklusi)') & (df_51['Kelurahan'] == 'Cililitan'), 'Status Zonasi'] = 'Belum Diketahui'\n",
    "df_51.loc[(df_51['Jalur Daftar'] == 'Afirmasi (Anak Panti)') & (df_51['Kelurahan'] == 'Cililitan'), 'Status Zonasi'] = 'Belum Diketahui'\n",
    "df_51.loc[(df_51['Jalur Daftar'] == 'Tahap Kedua') & (df_51['Kelurahan'] == 'Cililitan'), 'Status Zonasi'] = 'Belum Diketahui'\n",
    "    \n",
    "df_51.loc[(df_51['Jalur Daftar'] == 'Prestasi (Akademik)') & (df_51['Kelurahan'] == 'Gedong'), 'Status Zonasi'] = 'Belum Diketahui'\n",
    "df_51.loc[(df_51['Jalur Daftar'] == 'Prestasi (Non Akademik)') & (df_51['Kelurahan'] == 'Gedong'), 'Status Zonasi'] = 'Belum Diketahui'\n",
    "df_51.loc[(df_51['Jalur Daftar'] == 'Afirmasi (Inklusi)') & (df_51['Kelurahan'] == 'Gedong'), 'Status Zonasi'] = 'Belum Diketahui'\n",
    "df_51.loc[(df_51['Jalur Daftar'] == 'Afirmasi (Anak Panti)') & (df_51['Kelurahan'] == 'Gedong'), 'Status Zonasi'] = 'Belum Diketahui'\n",
    "df_51.loc[(df_51['Jalur Daftar'] == 'Tahap Kedua') & (df_51['Kelurahan'] == 'Gedong'), 'Status Zonasi'] = 'Belum Diketahui'\n",
    "    \n",
    "df_51.loc[(df_51['Jalur Daftar'] == 'Prestasi (Akademik)') & (df_51['Kelurahan'] == 'Rawajati'), 'Status Zonasi'] = 'Belum Diketahui'\n",
    "df_51.loc[(df_51['Jalur Daftar'] == 'Prestasi (Non Akademik)') & (df_51['Kelurahan'] == 'Rawajati'), 'Status Zonasi'] = 'Belum Diketahui'\n",
    "df_51.loc[(df_51['Jalur Daftar'] == 'Afirmasi (Inklusi)') & (df_51['Kelurahan'] == 'Rawajati'), 'Status Zonasi'] = 'Belum Diketahui'\n",
    "df_51.loc[(df_51['Jalur Daftar'] == 'Afirmasi (Anak Panti)') & (df_51['Kelurahan'] == 'Rawajati'), 'Status Zonasi'] = 'Belum Diketahui'\n",
    "df_51.loc[(df_51['Jalur Daftar'] == 'Tahap Kedua') & (df_51['Kelurahan'] == 'Rawajati'), 'Status Zonasi'] = 'Belum Diketahui'\n",
    "    \n",
    "df_51.loc[(df_51['Jalur Daftar'] == 'Prestasi (Akademik)') & (df_51['Kelurahan'] == 'Kalibata'), 'Status Zonasi'] = 'Belum Diketahui'\n",
    "df_51.loc[(df_51['Jalur Daftar'] == 'Prestasi (Non Akademik)') & (df_51['Kelurahan'] == 'Kalibata'), 'Status Zonasi'] = 'Belum Diketahui'\n",
    "df_51.loc[(df_51['Jalur Daftar'] == 'Afirmasi (Inklusi)') & (df_51['Kelurahan'] == 'Kalibata'), 'Status Zonasi'] = 'Belum Diketahui'\n",
    "df_51.loc[(df_51['Jalur Daftar'] == 'Afirmasi (Anak Panti)') & (df_51['Kelurahan'] == 'Kalibata'), 'Status Zonasi'] = 'Belum Diketahui'\n",
    "df_51.loc[(df_51['Jalur Daftar'] == 'Tahap Kedua') & (df_51['Kelurahan'] == 'Kalibata'), 'Status Zonasi'] = 'Belum Diketahui'\n",
    "    \n",
    "df_51.loc[(df_51['Jalur Daftar'] == 'Prestasi (Akademik)') & (df_51['Kelurahan'] == 'Kramat Jati'), 'Status Zonasi'] = 'Belum Diketahui'\n",
    "df_51.loc[(df_51['Jalur Daftar'] == 'Prestasi (Non Akademik)') & (df_51['Kelurahan'] == 'Kramat Jati'), 'Status Zonasi'] = 'Belum Diketahui'\n",
    "df_51.loc[(df_51['Jalur Daftar'] == 'Afirmasi (Inklusi)') & (df_51['Kelurahan'] == 'Kramat Jati'), 'Status Zonasi'] = 'Belum Diketahui'\n",
    "df_51.loc[(df_51['Jalur Daftar'] == 'Afirmasi (Anak Panti)') & (df_51['Kelurahan'] == 'Kramat Jati'), 'Status Zonasi'] = 'Belum Diketahui'\n",
    "df_51.loc[(df_51['Jalur Daftar'] == 'Tahap Kedua') & (df_51['Kelurahan'] == 'Kramat Jati'), 'Status Zonasi'] = 'Belum Diketahui'\n",
    "    \n",
    "df_51.loc[(df_51['Jalur Daftar'] == 'Prestasi (Akademik)') & (df_51['Kelurahan'] == 'Tengah'), 'Status Zonasi'] = 'Belum Diketahui'\n",
    "df_51.loc[(df_51['Jalur Daftar'] == 'Prestasi (Non Akademik)') & (df_51['Kelurahan'] == 'Tengah'), 'Status Zonasi'] = 'Belum Diketahui'\n",
    "df_51.loc[(df_51['Jalur Daftar'] == 'Afirmasi (Inklusi)') & (df_51['Kelurahan'] == 'Tengah'), 'Status Zonasi'] = 'Belum Diketahui'\n",
    "df_51.loc[(df_51['Jalur Daftar'] == 'Afirmasi (Anak Panti)') & (df_51['Kelurahan'] == 'Tengah'), 'Status Zonasi'] = 'Belum Diketahui'\n",
    "df_51.loc[(df_51['Jalur Daftar'] == 'Tahap Kedua') & (df_51['Kelurahan'] == 'Tengah'), 'Status Zonasi'] = 'Belum Diketahui'"
   ]
  },
  {
   "cell_type": "code",
   "execution_count": 35,
   "id": "a13f656b-c8f2-46dd-812c-316c5ce82bfe",
   "metadata": {},
   "outputs": [],
   "source": [
    "status_zonasi = []\n",
    "for x,y,z in zip(df_51['RT'], df_51['RW'], df_51['Kelurahan']):\n",
    "    if x in [12, 15, 7, 11, 11, 10, 9 ,14] and y == [2, 5, 4, 4, 2, 2, 2, 2] and z == ['Batu Ampar']:\n",
    "        c = 'Zonasi 1'\n",
    "    elif x in [1, 9 , 6, 5, 8, 15, 17, 1, 10, 13, 4, 6, 12] and y == [4, 3, 5, 5, 2, 2, 2, 6, 4, 4, 4, 4, 4] and z == ['Batu Ampar']:\n",
    "        c = 'Zonasi 2'\n",
    "    else:\n",
    "        c = 'Zonasi 3'\n",
    "    status_zonasi.append(c)"
   ]
  },
  {
   "cell_type": "code",
   "execution_count": 38,
   "id": "d0405845-f33d-4d5b-b5c8-386ebd357869",
   "metadata": {},
   "outputs": [
    {
     "data": {
      "text/plain": [
       "Zonasi 3           2595\n",
       "Belum Diketahui     935\n",
       "Zonasi 2             46\n",
       "Zonasi 1             20\n",
       "Name: Status Zonasi, dtype: int64"
      ]
     },
     "execution_count": 38,
     "metadata": {},
     "output_type": "execute_result"
    }
   ],
   "source": [
    "df_51['Status Zonasi'].value_counts()"
   ]
  },
  {
   "cell_type": "code",
   "execution_count": 28,
   "id": "bd459691-b56a-4598-9f0d-5279ecc7e1b7",
   "metadata": {},
   "outputs": [],
   "source": [
    "# Membuat kolom baru dengan keterangan value nya ZONASI 3\n",
    "df_51.loc[(df_51['Jalur Daftar'] == 'Zonasi') & (df_51['Kelurahan'] == 'Batu Ampar'), 'Status Zonasi'] = 'Zonasi 3'\n",
    "df_51.loc[(df_51['Jalur Daftar'] == 'Afirmasi (KJP)') & (df_51['Kelurahan'] == 'Batu Ampar'), 'Status Zonasi'] = 'Zonasi 3'\n",
    "    \n",
    "df_51.loc[(df_51['Jalur Daftar'] == 'Zonasi') & (df_51['Kelurahan'] == 'Bale Kambang'), 'Status Zonasi'] = 'Zonasi 3'\n",
    "df_51.loc[(df_51['Jalur Daftar'] == 'Afirmasi (KJP)') & (df_51['Kelurahan'] == 'Bale Kamabang'), 'Status Zonasi'] = 'Zonasi 3'\n",
    "    \n",
    "df_51.loc[(df_51['Jalur Daftar'] == 'Zonasi') & (df_51['Kelurahan'] == 'Kramat Jati'), 'Status Zonasi'] = 'Zonasi 3'\n",
    "df_51.loc[(df_51['Jalur Daftar'] == 'Afirmasi (KJP)') & (df_51['Kelurahan'] == 'Kramat Jati'), 'Status Zonasi'] = 'Zonasi 3'\n",
    "    \n",
    "df_51.loc[(df_51['Jalur Daftar'] == 'Zonasi') & (df_51['Kelurahan'] == 'Pejaten Barat'), 'Status Zonasi'] = 'Zonasi 3'\n",
    "df_51.loc[(df_51['Jalur Daftar'] == 'Afirmasi (KJP)') & (df_51['Kelurahan'] == 'Pejaten Barat'), 'Status Zonasi'] = 'Zonasi 3'\n",
    "    \n",
    "df_51.loc[(df_51['Jalur Daftar'] == 'Zonasi') & (df_51['Kelurahan'] == 'Pejaten Timur'), 'Status Zonasi'] = 'Zonasi 3'\n",
    "df_51.loc[(df_51['Jalur Daftar'] == 'Afirmasi (KJP)') & (df_51['Kelurahan'] == 'Pejaten Timur'), 'Status Zonasi'] = 'Zonasi 3'\n",
    "    \n",
    "df_51.loc[(df_51['Jalur Daftar'] == 'Zonasi') & (df_51['Kelurahan'] == 'Cawang'), 'Status Zonasi'] = 'Zonasi 3'\n",
    "df_51.loc[(df_51['Jalur Daftar'] == 'Afirmasi (KJP)') & (df_51['Kelurahan'] == 'Cawang'), 'Status Zonasi'] = 'Zonasi 3'\n",
    "    \n",
    "df_51.loc[(df_51['Jalur Daftar'] == 'Zonasi') & (df_51['Kelurahan'] == 'Cililitan'), 'Status Zonasi'] = 'Zonasi 3'\n",
    "df_51.loc[(df_51['Jalur Daftar'] == 'Afirmasi (KJP)') & (df_51['Kelurahan'] == 'Cililitan'), 'Status Zonasi'] = 'Zonasi 3'\n",
    "    \n",
    "df_51.loc[(df_51['Jalur Daftar'] == 'Zonasi') & (df_51['Kelurahan'] == 'Gedong'), 'Status Zonasi'] = 'Zonasi 3'\n",
    "df_51.loc[(df_51['Jalur Daftar'] == 'Afirmasi (KJP)') & (df_51['Kelurahan'] == 'Gedong'), 'Status Zonasi'] = 'Zonasi 3'\n",
    "    \n",
    "df_51.loc[(df_51['Jalur Daftar'] == 'Zonasi') & (df_51['Kelurahan'] == 'Cawang'), 'Status Zonasi'] = 'Zonasi 3'\n",
    "df_51.loc[(df_51['Jalur Daftar'] == 'Afirmasi (KJP)') & (df_51['Kelurahan'] == 'Cawang'), 'Status Zonasi'] = 'Zonasi 3'\n",
    "    \n",
    "df_51.loc[(df_51['Jalur Daftar'] == 'Zonasi') & (df_51['Kelurahan'] == 'Tengah'), 'Status Zonasi'] = 'Zonasi 3'\n",
    "df_51.loc[(df_51['Jalur Daftar'] == 'Afirmasi (KJP)') & (df_51['Kelurahan'] == 'Tengah'), 'Status Zonasi'] = 'Zonasi 3'\n",
    "    \n",
    "df_51.loc[(df_51['Jalur Daftar'] == 'Zonasi') & (df_51['Kelurahan'] == 'Kalibata'), 'Status Zonasi'] = 'Zonasi 3'\n",
    "df_51.loc[(df_51['Jalur Daftar'] == 'Afirmasi (KJP)') & (df_51['Kelurahan'] == 'Kalibata'), 'Status Zonasi'] = 'Zonasi 3'\n",
    "    \n",
    "df_51.loc[(df_51['Jalur Daftar'] == 'Zonasi') & (df_51['Kelurahan'] == 'Rawajati'), 'Status Zonasi'] = 'Zonasi 3'\n",
    "df_51.loc[(df_51['Jalur Daftar'] == 'Afirmasi (KJP)') & (df_51['Kelurahan'] == 'Rawajati'), 'Status Zonasi'] = 'Zonasi 3'\n",
    "    \n",
    "df_51.loc[(df_51['Jalur Daftar'] == 'Zonasi') & (df_51['Kelurahan'] == 'Bale Kambang'), 'Status Zonasi'] = 'Zonasi 3'\n",
    "df_51.loc[(df_51['Jalur Daftar'] == 'Afirmasi (KJP)') & (df_51['Kelurahan'] == 'Bale Kambang'), 'Status Zonasi'] = 'Zonasi 3'"
   ]
  },
  {
   "cell_type": "code",
   "execution_count": 29,
   "id": "4d126a82-6576-4da2-8348-82a66bce7986",
   "metadata": {},
   "outputs": [],
   "source": [
    "# Membuat kolom baru dengan keterangan value nya 'zonasi 1' dan 'zonasi 2'\n",
    "df_51.loc[(df_51['RT'] == 12) & (df_51['RW'] == 2) & (df_51['Kelurahan'] == 'Batu Ampar'), 'Status Zonasi'] = 'Zonasi 1'\n",
    "df_51.loc[(df_51['RT'] == 15) & (df_51['RW'] == 5) & (df_51['Kelurahan'] == 'Batu Ampar'), 'Status Zonasi'] = 'Zonasi 1'\n",
    "df_51.loc[(df_51['RT'] == 7) & (df_51['RW'] == 4) & (df_51['Kelurahan'] == 'Batu Ampar'), 'Status Zonasi'] = 'Zonasi 1'\n",
    "df_51.loc[(df_51['RT'] == 11) & (df_51['RW'] == 4) & (df_51['Kelurahan'] == 'Batu Ampar'), 'Status Zonasi'] = 'Zonasi 1'\n",
    "df_51.loc[(df_51['RT'] == 11) & (df_51['RW'] == 2) & (df_51['Kelurahan'] == 'Batu Ampar'), 'Status Zonasi'] = 'Zonasi 1'\n",
    "df_51.loc[(df_51['RT'] == 10) & (df_51['RW'] == 2) & (df_51['Kelurahan'] == 'Batu Ampar'), 'Status Zonasi'] = 'Zonasi 1'\n",
    "df_51.loc[(df_51['RT'] == 9) & (df_51['RW'] == 2) & (df_51['Kelurahan'] == 'Batu Ampar'), 'Status Zonasi'] = 'Zonasi 1'\n",
    "df_51.loc[(df_51['RT'] == 14) & (df_51['RW'] == 2) & (df_51['Kelurahan'] == 'Batu Ampar'), 'Status Zonasi'] = 'Zonasi 1'\n",
    "\n",
    "df_51.loc[(df_51['RT'] == 1) & (df_51['RW'] == 4) & (df_51['Kelurahan'] == 'Batu Ampar'), 'Status Zonasi'] = 'Zonasi 2'\n",
    "df_51.loc[(df_51['RT'] == 9) & (df_51['RW'] == 3) & (df_51['Kelurahan'] == 'Batu Ampar'), 'Status Zonasi'] = 'Zonasi 2'\n",
    "df_51.loc[(df_51['RT'] == 6) & (df_51['RW'] == 5) & (df_51['Kelurahan'] == 'Batu Ampar'), 'Status Zonasi'] = 'Zonasi 2'\n",
    "df_51.loc[(df_51['RT'] == 5) & (df_51['RW'] == 5) & (df_51['Kelurahan'] == 'Batu Ampar'), 'Status Zonasi'] = 'Zonasi 2'\n",
    "df_51.loc[(df_51['RT'] == 8) & (df_51['RW'] == 2) & (df_51['Kelurahan'] == 'Batu Ampar'), 'Status Zonasi'] = 'Zonasi 2'\n",
    "df_51.loc[(df_51['RT'] == 15) & (df_51['RW'] == 2) & (df_51['Kelurahan'] == 'Batu Ampar'), 'Status Zonasi'] = 'Zonasi 2'\n",
    "df_51.loc[(df_51['RT'] == 17) & (df_51['RW'] == 2) & (df_51['Kelurahan'] == 'Batu Ampar'), 'Status Zonasi'] = 'Zonasi 2'\n",
    "df_51.loc[(df_51['RT'] == 1) & (df_51['RW'] == 6) & (df_51['Kelurahan'] == 'Batu Ampar'), 'Status Zonasi'] = 'Zonasi 2'\n",
    "df_51.loc[(df_51['RT'] == 10) & (df_51['RW'] == 4) & (df_51['Kelurahan'] == 'Batu Ampar'), 'Status Zonasi'] = 'Zonasi 2'\n",
    "df_51.loc[(df_51['RT'] == 13) & (df_51['RW'] == 4) & (df_51['Kelurahan'] == 'Batu Ampar'), 'Status Zonasi'] = 'Zonasi 2'\n",
    "df_51.loc[(df_51['RT'] == 4) & (df_51['RW'] == 4) & (df_51['Kelurahan'] == 'Batu Ampar'), 'Status Zonasi'] = 'Zonasi 2'\n",
    "df_51.loc[(df_51['RT'] == 6) & (df_51['RW'] == 4) & (df_51['Kelurahan'] == 'Batu Ampar'), 'Status Zonasi'] = 'Zonasi 2'\n",
    "df_51.loc[(df_51['RT'] == 12) & (df_51['RW'] == 4) & (df_51['Kelurahan'] == 'Batu Ampar'), 'Status Zonasi'] = 'Zonasi 2'"
   ]
  },
  {
   "cell_type": "markdown",
   "id": "315bf6b9-ba02-4b19-b75d-44bc4393dde3",
   "metadata": {},
   "source": [
    "# 5. Analisa\n",
    "\n",
    "Setelah data sudah benar-benar bersih, maka langkah selanjutnya adalah analisa. CPDB(Calon Peserta Didik Baru) atas nama Tyas Adira Rahayu Ningsih kira-kira ada diurutan ke berapa jika masuk di salah 1 SMA Negeri yang masih 1 zonasi dengan kelurahannya. Adapun aturannya akan dijelaskan dibawah ini.\n",
    "\n",
    "A) Seleksi pada jalur zonasi sebagai berikut:\n",
    "1. Zona prioritas pertama diperuntukkan bagi CPDB yang berdomisili di RT yang sama dengan RT lokasi sekolah dan CPDB yang berdomisili di RT yang berbatasan langsung / bersinggungan dengan RT lokasi sekolah.\n",
    "2. Zona prioritas kedua diperuntukkan bagi CPDB yang berdomisili di RT pada sekitar sekolah berdasarkan pemetaan.\n",
    "3. Zona prioritas ketiga diperuntukkan bagi CPDB yang berdomisili sama dan atau berdekatan dengan kelurahan sekolah (info lebih lanjut bisa baca di (https://berkas-jkt.siap-ppdb.com/jakarta/juknis.220612235857.pdf))\n",
    "\n",
    "B) Dalam hal jumlah CPDB yang mendaftar melalui zonasi melebihi daya tampung, maka dilakukan seleksi dengan urutan langkah sebagai berikut:\n",
    "1. Zona prioritas\n",
    "2. Usia dari yang tertua ke yang termuda\n",
    "3. Urutan pilihan sekolah\n",
    "4. Waktu Mendaftar\n",
    "\n",
    "Sebagai informasi, bahwasanya CPDB atas nama Tyas Adira Rahayu Ningsih telah gagal dalam seleksi di `Jalur Prestasi` serta tidak bisa mendaftar di `Jalur Afirmasi(KJP)` dikarenakan tidak memiliki KJP. Jadi peluang untuk masuk SMA negeri masih ada karena data yang dipakai adalah data anak SMP yang bersekolah di SMP wilayah Jakarta Timur"
   ]
  },
  {
   "cell_type": "markdown",
   "id": "29560933-9590-4a4f-a3ca-07ca7c6d872b",
   "metadata": {},
   "source": [
    "## 4.1 Menganalisa diurutan keberapa jika mendaftar di SMA Negeri 51 Jakarta"
   ]
  },
  {
   "cell_type": "code",
   "execution_count": 30,
   "id": "584f7397-30ad-4ed6-8d88-1a8dab177bbd",
   "metadata": {},
   "outputs": [
    {
     "data": {
      "text/html": [
       "<div>\n",
       "<style scoped>\n",
       "    .dataframe tbody tr th:only-of-type {\n",
       "        vertical-align: middle;\n",
       "    }\n",
       "\n",
       "    .dataframe tbody tr th {\n",
       "        vertical-align: top;\n",
       "    }\n",
       "\n",
       "    .dataframe thead th {\n",
       "        text-align: right;\n",
       "    }\n",
       "</style>\n",
       "<table border=\"1\" class=\"dataframe\">\n",
       "  <thead>\n",
       "    <tr style=\"text-align: right;\">\n",
       "      <th></th>\n",
       "      <th>index</th>\n",
       "      <th>Peringkat</th>\n",
       "      <th>Nomer Pendaftaran</th>\n",
       "      <th>Nama</th>\n",
       "      <th>Kelurahan</th>\n",
       "      <th>RW</th>\n",
       "      <th>RT</th>\n",
       "      <th>Prioritas Zonasi</th>\n",
       "      <th>Umur</th>\n",
       "      <th>Asal SMP</th>\n",
       "      <th>Jalur Daftar</th>\n",
       "      <th>Status</th>\n",
       "      <th>Status Zonasi</th>\n",
       "    </tr>\n",
       "  </thead>\n",
       "  <tbody>\n",
       "    <tr>\n",
       "      <th>1249</th>\n",
       "      <td>63</td>\n",
       "      <td>64</td>\n",
       "      <td>200107200060003</td>\n",
       "      <td>TYAS ADIRA RAHAYU NINGSIH</td>\n",
       "      <td>Batu Ampar</td>\n",
       "      <td>5</td>\n",
       "      <td>7</td>\n",
       "      <td>3.0</td>\n",
       "      <td>12 th 11 bl 11 hr</td>\n",
       "      <td>49</td>\n",
       "      <td>Zonasi</td>\n",
       "      <td>Daftar Ulang</td>\n",
       "      <td>Zonasi 3</td>\n",
       "    </tr>\n",
       "  </tbody>\n",
       "</table>\n",
       "</div>"
      ],
      "text/plain": [
       "      index  Peringkat  Nomer Pendaftaran                        Nama  \\\n",
       "1249     63         64    200107200060003  TYAS ADIRA RAHAYU NINGSIH    \n",
       "\n",
       "       Kelurahan  RW  RT  Prioritas Zonasi               Umur Asal SMP  \\\n",
       "1249  Batu Ampar   5   7               3.0  12 th 11 bl 11 hr       49   \n",
       "\n",
       "     Jalur Daftar        Status Status Zonasi  \n",
       "1249       Zonasi  Daftar Ulang      Zonasi 3  "
      ]
     },
     "execution_count": 30,
     "metadata": {},
     "output_type": "execute_result"
    }
   ],
   "source": [
    "df_51.loc[df_51['Nama'].str.contains('Tyas Adira Rahayu Ningsih', case=False)] # melihat di posisi berapa value dari kolom Nama yaitu Tyas Adira Rahayu Ningsih"
   ]
  },
  {
   "cell_type": "code",
   "execution_count": 31,
   "id": "1d1af606-f1b7-4deb-887d-016798d7627c",
   "metadata": {},
   "outputs": [
    {
     "data": {
      "text/html": [
       "<div>\n",
       "<style scoped>\n",
       "    .dataframe tbody tr th:only-of-type {\n",
       "        vertical-align: middle;\n",
       "    }\n",
       "\n",
       "    .dataframe tbody tr th {\n",
       "        vertical-align: top;\n",
       "    }\n",
       "\n",
       "    .dataframe thead th {\n",
       "        text-align: right;\n",
       "    }\n",
       "</style>\n",
       "<table border=\"1\" class=\"dataframe\">\n",
       "  <thead>\n",
       "    <tr style=\"text-align: right;\">\n",
       "      <th></th>\n",
       "      <th>index</th>\n",
       "      <th>Peringkat</th>\n",
       "      <th>Nomer Pendaftaran</th>\n",
       "      <th>Nama</th>\n",
       "      <th>Kelurahan</th>\n",
       "      <th>RW</th>\n",
       "      <th>RT</th>\n",
       "      <th>Prioritas Zonasi</th>\n",
       "      <th>Umur</th>\n",
       "      <th>Asal SMP</th>\n",
       "      <th>Jalur Daftar</th>\n",
       "      <th>Status</th>\n",
       "      <th>Status Zonasi</th>\n",
       "    </tr>\n",
       "  </thead>\n",
       "  <tbody>\n",
       "  </tbody>\n",
       "</table>\n",
       "</div>"
      ],
      "text/plain": [
       "Empty DataFrame\n",
       "Columns: [index, Peringkat, Nomer Pendaftaran, Nama, Kelurahan, RW, RT, Prioritas Zonasi, Umur, Asal SMP, Jalur Daftar, Status, Status Zonasi]\n",
       "Index: []"
      ]
     },
     "execution_count": 31,
     "metadata": {},
     "output_type": "execute_result"
    }
   ],
   "source": [
    "df_51.loc[df_51['Status Zonasi'].isnull()] # Untuk mengetahui baris mana yang memiliki NaN di kolom tertentu"
   ]
  },
  {
   "cell_type": "code",
   "execution_count": 32,
   "id": "8b723563-8549-4f61-81c5-0c4f65e580ea",
   "metadata": {
    "tags": []
   },
   "outputs": [
    {
     "data": {
      "text/plain": [
       "Zonasi 3           2595\n",
       "Belum Diketahui     935\n",
       "Zonasi 2             46\n",
       "Zonasi 1             20\n",
       "Name: Status Zonasi, dtype: int64"
      ]
     },
     "execution_count": 32,
     "metadata": {},
     "output_type": "execute_result"
    }
   ],
   "source": [
    "df_51['Status Zonasi'].value_counts() # untuk mengetahui siapa saja yang masuk ke dalam zonasi 1 dan zonasi 2"
   ]
  },
  {
   "cell_type": "code",
   "execution_count": 33,
   "id": "3a85b6e0-759b-477b-8291-e558c16f4731",
   "metadata": {
    "tags": []
   },
   "outputs": [
    {
     "data": {
      "text/html": [
       "<div>\n",
       "<style scoped>\n",
       "    .dataframe tbody tr th:only-of-type {\n",
       "        vertical-align: middle;\n",
       "    }\n",
       "\n",
       "    .dataframe tbody tr th {\n",
       "        vertical-align: top;\n",
       "    }\n",
       "\n",
       "    .dataframe thead th {\n",
       "        text-align: right;\n",
       "    }\n",
       "</style>\n",
       "<table border=\"1\" class=\"dataframe\">\n",
       "  <thead>\n",
       "    <tr style=\"text-align: right;\">\n",
       "      <th></th>\n",
       "      <th>index</th>\n",
       "      <th>Peringkat</th>\n",
       "      <th>Nomer Pendaftaran</th>\n",
       "      <th>Nama</th>\n",
       "      <th>Kelurahan</th>\n",
       "      <th>RW</th>\n",
       "      <th>RT</th>\n",
       "      <th>Prioritas Zonasi</th>\n",
       "      <th>Umur</th>\n",
       "      <th>Asal SMP</th>\n",
       "      <th>Jalur Daftar</th>\n",
       "      <th>Status</th>\n",
       "      <th>Status Zonasi</th>\n",
       "    </tr>\n",
       "  </thead>\n",
       "  <tbody>\n",
       "    <tr>\n",
       "      <th>107</th>\n",
       "      <td>1092</td>\n",
       "      <td>26</td>\n",
       "      <td>200107201280058</td>\n",
       "      <td>BAGAS SETIAWAN</td>\n",
       "      <td>Batu Ampar</td>\n",
       "      <td>5</td>\n",
       "      <td>15</td>\n",
       "      <td>3.0</td>\n",
       "      <td>14 th 00 bl 09 hr</td>\n",
       "      <td>126</td>\n",
       "      <td>Zonasi</td>\n",
       "      <td>Daftar Ulang</td>\n",
       "      <td>Zonasi 1</td>\n",
       "    </tr>\n",
       "    <tr>\n",
       "      <th>140</th>\n",
       "      <td>1094</td>\n",
       "      <td>28</td>\n",
       "      <td>200107201280063</td>\n",
       "      <td>RIAN FADILAH</td>\n",
       "      <td>Batu Ampar</td>\n",
       "      <td>2</td>\n",
       "      <td>8</td>\n",
       "      <td>3.0</td>\n",
       "      <td>13 th 10 bl 21 hr</td>\n",
       "      <td>126</td>\n",
       "      <td>Zonasi</td>\n",
       "      <td>Daftar Ulang</td>\n",
       "      <td>Zonasi 2</td>\n",
       "    </tr>\n",
       "    <tr>\n",
       "      <th>294</th>\n",
       "      <td>471</td>\n",
       "      <td>69</td>\n",
       "      <td>200102200320052</td>\n",
       "      <td>REISYA AULIA PUTRI</td>\n",
       "      <td>Batu Ampar</td>\n",
       "      <td>4</td>\n",
       "      <td>10</td>\n",
       "      <td>3.0</td>\n",
       "      <td>13 th 06 bl 04 hr</td>\n",
       "      <td>20</td>\n",
       "      <td>Afirmasi (KJP)</td>\n",
       "      <td>Daftar Ulang</td>\n",
       "      <td>Zonasi 2</td>\n",
       "    </tr>\n",
       "    <tr>\n",
       "      <th>369</th>\n",
       "      <td>510</td>\n",
       "      <td>37</td>\n",
       "      <td>200107200320119</td>\n",
       "      <td>FARHAN AKBAR PEBRIANSYAH</td>\n",
       "      <td>Batu Ampar</td>\n",
       "      <td>4</td>\n",
       "      <td>6</td>\n",
       "      <td>3.0</td>\n",
       "      <td>13 th 04 bl 26 hr</td>\n",
       "      <td>20</td>\n",
       "      <td>Zonasi</td>\n",
       "      <td>Daftar Ulang</td>\n",
       "      <td>Zonasi 2</td>\n",
       "    </tr>\n",
       "    <tr>\n",
       "      <th>384</th>\n",
       "      <td>1036</td>\n",
       "      <td>36</td>\n",
       "      <td>200102201280001</td>\n",
       "      <td>YOGA FEBRYANSYAH</td>\n",
       "      <td>Batu Ampar</td>\n",
       "      <td>2</td>\n",
       "      <td>9</td>\n",
       "      <td>3.0</td>\n",
       "      <td>13 th 04 bl 19 hr</td>\n",
       "      <td>126</td>\n",
       "      <td>Afirmasi (KJP)</td>\n",
       "      <td>Daftar Ulang</td>\n",
       "      <td>Zonasi 1</td>\n",
       "    </tr>\n",
       "    <tr>\n",
       "      <th>460</th>\n",
       "      <td>1110</td>\n",
       "      <td>44</td>\n",
       "      <td>200107201280099</td>\n",
       "      <td>SAFANI PARI</td>\n",
       "      <td>Batu Ampar</td>\n",
       "      <td>2</td>\n",
       "      <td>11</td>\n",
       "      <td>3.0</td>\n",
       "      <td>13 th 03 bl 21 hr</td>\n",
       "      <td>126</td>\n",
       "      <td>Zonasi</td>\n",
       "      <td>Daftar Ulang</td>\n",
       "      <td>Zonasi 1</td>\n",
       "    </tr>\n",
       "    <tr>\n",
       "      <th>462</th>\n",
       "      <td>1111</td>\n",
       "      <td>45</td>\n",
       "      <td>200107201280131</td>\n",
       "      <td>AMELIA ZAHRA EDWIN PUTRI</td>\n",
       "      <td>Batu Ampar</td>\n",
       "      <td>2</td>\n",
       "      <td>17</td>\n",
       "      <td>3.0</td>\n",
       "      <td>13 th 03 bl 21 hr</td>\n",
       "      <td>126</td>\n",
       "      <td>Zonasi</td>\n",
       "      <td>Daftar Ulang</td>\n",
       "      <td>Zonasi 2</td>\n",
       "    </tr>\n",
       "    <tr>\n",
       "      <th>472</th>\n",
       "      <td>1112</td>\n",
       "      <td>46</td>\n",
       "      <td>200107201280077</td>\n",
       "      <td>LIDYA PUSPITA</td>\n",
       "      <td>Batu Ampar</td>\n",
       "      <td>2</td>\n",
       "      <td>14</td>\n",
       "      <td>3.0</td>\n",
       "      <td>13 th 03 bl 19 hr</td>\n",
       "      <td>126</td>\n",
       "      <td>Zonasi</td>\n",
       "      <td>Daftar Ulang</td>\n",
       "      <td>Zonasi 1</td>\n",
       "    </tr>\n",
       "    <tr>\n",
       "      <th>486</th>\n",
       "      <td>1114</td>\n",
       "      <td>48</td>\n",
       "      <td>200107201280148</td>\n",
       "      <td>SYAFIQ MILHAN</td>\n",
       "      <td>Batu Ampar</td>\n",
       "      <td>4</td>\n",
       "      <td>4</td>\n",
       "      <td>3.0</td>\n",
       "      <td>13 th 03 bl 13 hr</td>\n",
       "      <td>126</td>\n",
       "      <td>Zonasi</td>\n",
       "      <td>Daftar Ulang</td>\n",
       "      <td>Zonasi 2</td>\n",
       "    </tr>\n",
       "    <tr>\n",
       "      <th>491</th>\n",
       "      <td>1115</td>\n",
       "      <td>49</td>\n",
       "      <td>200107201280117</td>\n",
       "      <td>MUHAMAD RAIHAN ASHARI</td>\n",
       "      <td>Batu Ampar</td>\n",
       "      <td>4</td>\n",
       "      <td>13</td>\n",
       "      <td>3.0</td>\n",
       "      <td>13 th 03 bl 12 hr</td>\n",
       "      <td>126</td>\n",
       "      <td>Zonasi</td>\n",
       "      <td>Daftar Ulang</td>\n",
       "      <td>Zonasi 2</td>\n",
       "    </tr>\n",
       "    <tr>\n",
       "      <th>529</th>\n",
       "      <td>1117</td>\n",
       "      <td>51</td>\n",
       "      <td>200107201280085</td>\n",
       "      <td>FEYZAR HADI ABDULLAH</td>\n",
       "      <td>Batu Ampar</td>\n",
       "      <td>2</td>\n",
       "      <td>8</td>\n",
       "      <td>3.0</td>\n",
       "      <td>13 th 03 bl 01 hr</td>\n",
       "      <td>126</td>\n",
       "      <td>Zonasi</td>\n",
       "      <td>Daftar Ulang</td>\n",
       "      <td>Zonasi 2</td>\n",
       "    </tr>\n",
       "    <tr>\n",
       "      <th>590</th>\n",
       "      <td>1120</td>\n",
       "      <td>54</td>\n",
       "      <td>200107201280056</td>\n",
       "      <td>AZKA RAINDRA PUTRA NADJHA</td>\n",
       "      <td>Batu Ampar</td>\n",
       "      <td>4</td>\n",
       "      <td>13</td>\n",
       "      <td>3.0</td>\n",
       "      <td>13 th 02 bl 17 hr</td>\n",
       "      <td>126</td>\n",
       "      <td>Zonasi</td>\n",
       "      <td>Daftar Ulang</td>\n",
       "      <td>Zonasi 2</td>\n",
       "    </tr>\n",
       "    <tr>\n",
       "      <th>596</th>\n",
       "      <td>36</td>\n",
       "      <td>37</td>\n",
       "      <td>200107200060295</td>\n",
       "      <td>MUHAMMAD NABEEL PASHA</td>\n",
       "      <td>Batu Ampar</td>\n",
       "      <td>4</td>\n",
       "      <td>1</td>\n",
       "      <td>3.0</td>\n",
       "      <td>13 th 02 bl 15 hr</td>\n",
       "      <td>49</td>\n",
       "      <td>Zonasi</td>\n",
       "      <td>Daftar Ulang</td>\n",
       "      <td>Zonasi 2</td>\n",
       "    </tr>\n",
       "    <tr>\n",
       "      <th>601</th>\n",
       "      <td>1121</td>\n",
       "      <td>55</td>\n",
       "      <td>200107201280094</td>\n",
       "      <td>SAYID ALI</td>\n",
       "      <td>Batu Ampar</td>\n",
       "      <td>4</td>\n",
       "      <td>10</td>\n",
       "      <td>3.0</td>\n",
       "      <td>13 th 02 bl 13 hr</td>\n",
       "      <td>126</td>\n",
       "      <td>Zonasi</td>\n",
       "      <td>Daftar Ulang</td>\n",
       "      <td>Zonasi 2</td>\n",
       "    </tr>\n",
       "    <tr>\n",
       "      <th>633</th>\n",
       "      <td>1123</td>\n",
       "      <td>57</td>\n",
       "      <td>200107201280122</td>\n",
       "      <td>KHAIRUL ABDULLAH AZZAM</td>\n",
       "      <td>Batu Ampar</td>\n",
       "      <td>2</td>\n",
       "      <td>8</td>\n",
       "      <td>3.0</td>\n",
       "      <td>13 th 02 bl 08 hr</td>\n",
       "      <td>126</td>\n",
       "      <td>Zonasi</td>\n",
       "      <td>Daftar Ulang</td>\n",
       "      <td>Zonasi 2</td>\n",
       "    </tr>\n",
       "    <tr>\n",
       "      <th>663</th>\n",
       "      <td>1126</td>\n",
       "      <td>60</td>\n",
       "      <td>200107201280034</td>\n",
       "      <td>TEGAR ADI NUGROHO</td>\n",
       "      <td>Batu Ampar</td>\n",
       "      <td>2</td>\n",
       "      <td>8</td>\n",
       "      <td>3.0</td>\n",
       "      <td>13 th 02 bl 03 hr</td>\n",
       "      <td>126</td>\n",
       "      <td>Zonasi</td>\n",
       "      <td>Daftar Ulang</td>\n",
       "      <td>Zonasi 2</td>\n",
       "    </tr>\n",
       "    <tr>\n",
       "      <th>722</th>\n",
       "      <td>545</td>\n",
       "      <td>72</td>\n",
       "      <td>200107200320013</td>\n",
       "      <td>FAJAR MAULANA</td>\n",
       "      <td>Batu Ampar</td>\n",
       "      <td>2</td>\n",
       "      <td>8</td>\n",
       "      <td>3.0</td>\n",
       "      <td>13 th 01 bl 24 hr</td>\n",
       "      <td>20</td>\n",
       "      <td>Zonasi</td>\n",
       "      <td>Daftar Ulang</td>\n",
       "      <td>Zonasi 2</td>\n",
       "    </tr>\n",
       "    <tr>\n",
       "      <th>726</th>\n",
       "      <td>1131</td>\n",
       "      <td>65</td>\n",
       "      <td>200107201280169</td>\n",
       "      <td>ANDREAS RUBEN DOKO</td>\n",
       "      <td>Batu Ampar</td>\n",
       "      <td>3</td>\n",
       "      <td>9</td>\n",
       "      <td>3.0</td>\n",
       "      <td>13 th 01 bl 23 hr</td>\n",
       "      <td>126</td>\n",
       "      <td>Zonasi</td>\n",
       "      <td>Daftar Ulang</td>\n",
       "      <td>Zonasi 2</td>\n",
       "    </tr>\n",
       "    <tr>\n",
       "      <th>818</th>\n",
       "      <td>2059</td>\n",
       "      <td>82</td>\n",
       "      <td>200107200460129</td>\n",
       "      <td>SYAHARA ALMA AULIA</td>\n",
       "      <td>Batu Ampar</td>\n",
       "      <td>4</td>\n",
       "      <td>7</td>\n",
       "      <td>3.0</td>\n",
       "      <td>13 th 01 bl 07 hr</td>\n",
       "      <td>35</td>\n",
       "      <td>Zonasi</td>\n",
       "      <td>Daftar Ulang</td>\n",
       "      <td>Zonasi 1</td>\n",
       "    </tr>\n",
       "    <tr>\n",
       "      <th>822</th>\n",
       "      <td>453</td>\n",
       "      <td>51</td>\n",
       "      <td>200102200320034</td>\n",
       "      <td>MUHAMMAD ARDIAN</td>\n",
       "      <td>Batu Ampar</td>\n",
       "      <td>4</td>\n",
       "      <td>7</td>\n",
       "      <td>3.0</td>\n",
       "      <td>13 th 01 bl 07 hr</td>\n",
       "      <td>20</td>\n",
       "      <td>Afirmasi (KJP)</td>\n",
       "      <td>Daftar Ulang</td>\n",
       "      <td>Zonasi 1</td>\n",
       "    </tr>\n",
       "    <tr>\n",
       "      <th>858</th>\n",
       "      <td>1134</td>\n",
       "      <td>68</td>\n",
       "      <td>200107201280052</td>\n",
       "      <td>VALDA RASIKA NUR AULIA</td>\n",
       "      <td>Batu Ampar</td>\n",
       "      <td>4</td>\n",
       "      <td>4</td>\n",
       "      <td>3.0</td>\n",
       "      <td>13 th 01 bl 03 hr</td>\n",
       "      <td>126</td>\n",
       "      <td>Zonasi</td>\n",
       "      <td>Daftar Ulang</td>\n",
       "      <td>Zonasi 2</td>\n",
       "    </tr>\n",
       "    <tr>\n",
       "      <th>899</th>\n",
       "      <td>567</td>\n",
       "      <td>94</td>\n",
       "      <td>200107200320068</td>\n",
       "      <td>ADARA KALILA WICAKSONO</td>\n",
       "      <td>Batu Ampar</td>\n",
       "      <td>4</td>\n",
       "      <td>1</td>\n",
       "      <td>3.0</td>\n",
       "      <td>13 th 00 bl 25 hr</td>\n",
       "      <td>20</td>\n",
       "      <td>Zonasi</td>\n",
       "      <td>Daftar Ulang</td>\n",
       "      <td>Zonasi 2</td>\n",
       "    </tr>\n",
       "    <tr>\n",
       "      <th>900</th>\n",
       "      <td>1136</td>\n",
       "      <td>70</td>\n",
       "      <td>200107201280040</td>\n",
       "      <td>AHMAD FAHLEVI</td>\n",
       "      <td>Batu Ampar</td>\n",
       "      <td>4</td>\n",
       "      <td>1</td>\n",
       "      <td>3.0</td>\n",
       "      <td>13 th 00 bl 24 hr</td>\n",
       "      <td>126</td>\n",
       "      <td>Zonasi</td>\n",
       "      <td>Daftar Ulang</td>\n",
       "      <td>Zonasi 2</td>\n",
       "    </tr>\n",
       "    <tr>\n",
       "      <th>908</th>\n",
       "      <td>1137</td>\n",
       "      <td>71</td>\n",
       "      <td>200107201280062</td>\n",
       "      <td>ANDINI NADIA RASTI</td>\n",
       "      <td>Batu Ampar</td>\n",
       "      <td>5</td>\n",
       "      <td>5</td>\n",
       "      <td>3.0</td>\n",
       "      <td>13 th 00 bl 23 hr</td>\n",
       "      <td>126</td>\n",
       "      <td>Zonasi</td>\n",
       "      <td>Daftar Ulang</td>\n",
       "      <td>Zonasi 2</td>\n",
       "    </tr>\n",
       "    <tr>\n",
       "      <th>926</th>\n",
       "      <td>1139</td>\n",
       "      <td>73</td>\n",
       "      <td>200107201280112</td>\n",
       "      <td>ZULAIKHA NURUL HIDAYAH</td>\n",
       "      <td>Batu Ampar</td>\n",
       "      <td>2</td>\n",
       "      <td>15</td>\n",
       "      <td>3.0</td>\n",
       "      <td>13 th 00 bl 20 hr</td>\n",
       "      <td>126</td>\n",
       "      <td>Zonasi</td>\n",
       "      <td>Daftar Ulang</td>\n",
       "      <td>Zonasi 2</td>\n",
       "    </tr>\n",
       "    <tr>\n",
       "      <th>966</th>\n",
       "      <td>581</td>\n",
       "      <td>108</td>\n",
       "      <td>200107200320273</td>\n",
       "      <td>MUHAMAD EURO IKBAR</td>\n",
       "      <td>Batu Ampar</td>\n",
       "      <td>2</td>\n",
       "      <td>8</td>\n",
       "      <td>3.0</td>\n",
       "      <td>13 th 00 bl 14 hr</td>\n",
       "      <td>20</td>\n",
       "      <td>Zonasi</td>\n",
       "      <td>Daftar Ulang</td>\n",
       "      <td>Zonasi 2</td>\n",
       "    </tr>\n",
       "    <tr>\n",
       "      <th>984</th>\n",
       "      <td>583</td>\n",
       "      <td>110</td>\n",
       "      <td>200107200320127</td>\n",
       "      <td>AZKA AULIA ADVIANTI</td>\n",
       "      <td>Batu Ampar</td>\n",
       "      <td>4</td>\n",
       "      <td>6</td>\n",
       "      <td>3.0</td>\n",
       "      <td>13 th 00 bl 09 hr</td>\n",
       "      <td>20</td>\n",
       "      <td>Zonasi</td>\n",
       "      <td>Daftar Ulang</td>\n",
       "      <td>Zonasi 2</td>\n",
       "    </tr>\n",
       "    <tr>\n",
       "      <th>991</th>\n",
       "      <td>1143</td>\n",
       "      <td>77</td>\n",
       "      <td>200107201280105</td>\n",
       "      <td>ZAHRA DAFI ALZENA</td>\n",
       "      <td>Batu Ampar</td>\n",
       "      <td>2</td>\n",
       "      <td>14</td>\n",
       "      <td>3.0</td>\n",
       "      <td>13 th 00 bl 08 hr</td>\n",
       "      <td>126</td>\n",
       "      <td>Zonasi</td>\n",
       "      <td>Daftar Ulang</td>\n",
       "      <td>Zonasi 1</td>\n",
       "    </tr>\n",
       "    <tr>\n",
       "      <th>1008</th>\n",
       "      <td>584</td>\n",
       "      <td>111</td>\n",
       "      <td>200107200320035</td>\n",
       "      <td>JUNAYZA HADHIRAH PUTRIE</td>\n",
       "      <td>Batu Ampar</td>\n",
       "      <td>4</td>\n",
       "      <td>10</td>\n",
       "      <td>3.0</td>\n",
       "      <td>13 th 00 bl 05 hr</td>\n",
       "      <td>20</td>\n",
       "      <td>Zonasi</td>\n",
       "      <td>Daftar Ulang</td>\n",
       "      <td>Zonasi 2</td>\n",
       "    </tr>\n",
       "    <tr>\n",
       "      <th>1070</th>\n",
       "      <td>1147</td>\n",
       "      <td>81</td>\n",
       "      <td>200107201280115</td>\n",
       "      <td>RAYYA PITTA ALINE</td>\n",
       "      <td>Batu Ampar</td>\n",
       "      <td>4</td>\n",
       "      <td>12</td>\n",
       "      <td>3.0</td>\n",
       "      <td>12 th 11 bl 29 hr</td>\n",
       "      <td>126</td>\n",
       "      <td>Zonasi</td>\n",
       "      <td>Daftar Ulang</td>\n",
       "      <td>Zonasi 2</td>\n",
       "    </tr>\n",
       "    <tr>\n",
       "      <th>1072</th>\n",
       "      <td>1149</td>\n",
       "      <td>83</td>\n",
       "      <td>200107201280119</td>\n",
       "      <td>ALI KAZIM</td>\n",
       "      <td>Batu Ampar</td>\n",
       "      <td>3</td>\n",
       "      <td>9</td>\n",
       "      <td>3.0</td>\n",
       "      <td>12 th 11 bl 28 hr</td>\n",
       "      <td>126</td>\n",
       "      <td>Zonasi</td>\n",
       "      <td>Daftar Ulang</td>\n",
       "      <td>Zonasi 2</td>\n",
       "    </tr>\n",
       "    <tr>\n",
       "      <th>1086</th>\n",
       "      <td>1150</td>\n",
       "      <td>84</td>\n",
       "      <td>200107201280032</td>\n",
       "      <td>MUHAMMAD AWAL ASYAKUR</td>\n",
       "      <td>Batu Ampar</td>\n",
       "      <td>2</td>\n",
       "      <td>8</td>\n",
       "      <td>3.0</td>\n",
       "      <td>12 th 11 bl 27 hr</td>\n",
       "      <td>126</td>\n",
       "      <td>Zonasi</td>\n",
       "      <td>Daftar Ulang</td>\n",
       "      <td>Zonasi 2</td>\n",
       "    </tr>\n",
       "    <tr>\n",
       "      <th>1107</th>\n",
       "      <td>601</td>\n",
       "      <td>128</td>\n",
       "      <td>200107200320210</td>\n",
       "      <td>THALITHA FAUZIAH</td>\n",
       "      <td>Batu Ampar</td>\n",
       "      <td>4</td>\n",
       "      <td>13</td>\n",
       "      <td>3.0</td>\n",
       "      <td>12 th 11 bl 24 hr</td>\n",
       "      <td>20</td>\n",
       "      <td>Zonasi</td>\n",
       "      <td>Daftar Ulang</td>\n",
       "      <td>Zonasi 2</td>\n",
       "    </tr>\n",
       "    <tr>\n",
       "      <th>1124</th>\n",
       "      <td>1152</td>\n",
       "      <td>86</td>\n",
       "      <td>200107201280116</td>\n",
       "      <td>SALWA KHUZAIMAH</td>\n",
       "      <td>Batu Ampar</td>\n",
       "      <td>5</td>\n",
       "      <td>15</td>\n",
       "      <td>3.0</td>\n",
       "      <td>12 th 11 bl 23 hr</td>\n",
       "      <td>126</td>\n",
       "      <td>Zonasi</td>\n",
       "      <td>Daftar Ulang</td>\n",
       "      <td>Zonasi 1</td>\n",
       "    </tr>\n",
       "    <tr>\n",
       "      <th>1125</th>\n",
       "      <td>1151</td>\n",
       "      <td>85</td>\n",
       "      <td>200107201280031</td>\n",
       "      <td>RORO ZAKIYAH NUR KARIMAH</td>\n",
       "      <td>Batu Ampar</td>\n",
       "      <td>2</td>\n",
       "      <td>12</td>\n",
       "      <td>3.0</td>\n",
       "      <td>12 th 11 bl 23 hr</td>\n",
       "      <td>126</td>\n",
       "      <td>Zonasi</td>\n",
       "      <td>Daftar Ulang</td>\n",
       "      <td>Zonasi 1</td>\n",
       "    </tr>\n",
       "    <tr>\n",
       "      <th>1138</th>\n",
       "      <td>1153</td>\n",
       "      <td>87</td>\n",
       "      <td>200107201280006</td>\n",
       "      <td>RIZKI NURAINI</td>\n",
       "      <td>Batu Ampar</td>\n",
       "      <td>4</td>\n",
       "      <td>11</td>\n",
       "      <td>3.0</td>\n",
       "      <td>12 th 11 bl 22 hr</td>\n",
       "      <td>126</td>\n",
       "      <td>Zonasi</td>\n",
       "      <td>Daftar Ulang</td>\n",
       "      <td>Zonasi 1</td>\n",
       "    </tr>\n",
       "    <tr>\n",
       "      <th>1279</th>\n",
       "      <td>1157</td>\n",
       "      <td>91</td>\n",
       "      <td>200107201280022</td>\n",
       "      <td>ALIA FATIMAH</td>\n",
       "      <td>Batu Ampar</td>\n",
       "      <td>5</td>\n",
       "      <td>15</td>\n",
       "      <td>3.0</td>\n",
       "      <td>12 th 11 bl 08 hr</td>\n",
       "      <td>126</td>\n",
       "      <td>Zonasi</td>\n",
       "      <td>Daftar Ulang</td>\n",
       "      <td>Zonasi 1</td>\n",
       "    </tr>\n",
       "    <tr>\n",
       "      <th>1340</th>\n",
       "      <td>1355</td>\n",
       "      <td>55</td>\n",
       "      <td>200102202780047</td>\n",
       "      <td>LAYLA ROHMATUNNISA</td>\n",
       "      <td>Batu Ampar</td>\n",
       "      <td>2</td>\n",
       "      <td>17</td>\n",
       "      <td>3.0</td>\n",
       "      <td>12 th 11 bl 02 hr</td>\n",
       "      <td>281</td>\n",
       "      <td>Afirmasi (KJP)</td>\n",
       "      <td>Daftar Ulang</td>\n",
       "      <td>Zonasi 2</td>\n",
       "    </tr>\n",
       "    <tr>\n",
       "      <th>1354</th>\n",
       "      <td>1163</td>\n",
       "      <td>97</td>\n",
       "      <td>200107201280037</td>\n",
       "      <td>ANNISA SALSABILLA BAGUS PUTRI</td>\n",
       "      <td>Batu Ampar</td>\n",
       "      <td>4</td>\n",
       "      <td>13</td>\n",
       "      <td>3.0</td>\n",
       "      <td>12 th 11 bl 01 hr</td>\n",
       "      <td>126</td>\n",
       "      <td>Zonasi</td>\n",
       "      <td>Daftar Ulang</td>\n",
       "      <td>Zonasi 2</td>\n",
       "    </tr>\n",
       "    <tr>\n",
       "      <th>1362</th>\n",
       "      <td>619</td>\n",
       "      <td>146</td>\n",
       "      <td>200107200320204</td>\n",
       "      <td>ASIANDRA PUTRI SYAHAILATUA</td>\n",
       "      <td>Batu Ampar</td>\n",
       "      <td>4</td>\n",
       "      <td>6</td>\n",
       "      <td>3.0</td>\n",
       "      <td>12 th 11 bl 00 hr</td>\n",
       "      <td>20</td>\n",
       "      <td>Zonasi</td>\n",
       "      <td>Daftar Ulang</td>\n",
       "      <td>Zonasi 2</td>\n",
       "    </tr>\n",
       "    <tr>\n",
       "      <th>1568</th>\n",
       "      <td>78</td>\n",
       "      <td>79</td>\n",
       "      <td>200107200060035</td>\n",
       "      <td>NAWAL SYAROF</td>\n",
       "      <td>Batu Ampar</td>\n",
       "      <td>4</td>\n",
       "      <td>6</td>\n",
       "      <td>3.0</td>\n",
       "      <td>12 th 10 bl 12 hr</td>\n",
       "      <td>49</td>\n",
       "      <td>Zonasi</td>\n",
       "      <td>Daftar Ulang</td>\n",
       "      <td>Zonasi 2</td>\n",
       "    </tr>\n",
       "    <tr>\n",
       "      <th>1622</th>\n",
       "      <td>1447</td>\n",
       "      <td>68</td>\n",
       "      <td>200107200320079</td>\n",
       "      <td>RIZQI HASBUALLAH</td>\n",
       "      <td>Batu Ampar</td>\n",
       "      <td>4</td>\n",
       "      <td>10</td>\n",
       "      <td>3.0</td>\n",
       "      <td>12 th 10 bl 08 hr</td>\n",
       "      <td>281</td>\n",
       "      <td>Zonasi</td>\n",
       "      <td>Daftar Ulang</td>\n",
       "      <td>Zonasi 2</td>\n",
       "    </tr>\n",
       "    <tr>\n",
       "      <th>1635</th>\n",
       "      <td>292</td>\n",
       "      <td>55</td>\n",
       "      <td>200102200060039</td>\n",
       "      <td>MONICA SYLVI AGUSTIN</td>\n",
       "      <td>Batu Ampar</td>\n",
       "      <td>4</td>\n",
       "      <td>4</td>\n",
       "      <td>3.0</td>\n",
       "      <td>12 th 10 bl 07 hr</td>\n",
       "      <td>49</td>\n",
       "      <td>Afirmasi (KJP)</td>\n",
       "      <td>Daftar Ulang</td>\n",
       "      <td>Zonasi 2</td>\n",
       "    </tr>\n",
       "    <tr>\n",
       "      <th>1737</th>\n",
       "      <td>1182</td>\n",
       "      <td>116</td>\n",
       "      <td>200107201280066</td>\n",
       "      <td>SEPTIAN NUR RAMADHAN</td>\n",
       "      <td>Batu Ampar</td>\n",
       "      <td>2</td>\n",
       "      <td>9</td>\n",
       "      <td>3.0</td>\n",
       "      <td>12 th 09 bl 26 hr</td>\n",
       "      <td>126</td>\n",
       "      <td>Zonasi</td>\n",
       "      <td>Daftar Ulang</td>\n",
       "      <td>Zonasi 1</td>\n",
       "    </tr>\n",
       "    <tr>\n",
       "      <th>1860</th>\n",
       "      <td>96</td>\n",
       "      <td>97</td>\n",
       "      <td>200107200060228</td>\n",
       "      <td>BEBY SEPTI RAYHANDITA</td>\n",
       "      <td>Batu Ampar</td>\n",
       "      <td>2</td>\n",
       "      <td>11</td>\n",
       "      <td>3.0</td>\n",
       "      <td>12 th 09 bl 16 hr</td>\n",
       "      <td>49</td>\n",
       "      <td>Zonasi</td>\n",
       "      <td>Daftar Ulang</td>\n",
       "      <td>Zonasi 1</td>\n",
       "    </tr>\n",
       "    <tr>\n",
       "      <th>1982</th>\n",
       "      <td>1196</td>\n",
       "      <td>130</td>\n",
       "      <td>200107200320364</td>\n",
       "      <td>KAYYISAH HUWAIDA ATHIRA</td>\n",
       "      <td>Batu Ampar</td>\n",
       "      <td>4</td>\n",
       "      <td>1</td>\n",
       "      <td>3.0</td>\n",
       "      <td>12 th 09 bl 05 hr</td>\n",
       "      <td>126</td>\n",
       "      <td>Zonasi</td>\n",
       "      <td>Tidak Daftar Ulang</td>\n",
       "      <td>Zonasi 2</td>\n",
       "    </tr>\n",
       "    <tr>\n",
       "      <th>1994</th>\n",
       "      <td>106</td>\n",
       "      <td>107</td>\n",
       "      <td>200107200060013</td>\n",
       "      <td>NABILA RAMADHANI</td>\n",
       "      <td>Batu Ampar</td>\n",
       "      <td>2</td>\n",
       "      <td>14</td>\n",
       "      <td>3.0</td>\n",
       "      <td>12 th 09 bl 04 hr</td>\n",
       "      <td>49</td>\n",
       "      <td>Zonasi</td>\n",
       "      <td>Daftar Ulang</td>\n",
       "      <td>Zonasi 1</td>\n",
       "    </tr>\n",
       "    <tr>\n",
       "      <th>2003</th>\n",
       "      <td>1051</td>\n",
       "      <td>51</td>\n",
       "      <td>200102201280018</td>\n",
       "      <td>AHMAD MUZAKKI</td>\n",
       "      <td>Batu Ampar</td>\n",
       "      <td>2</td>\n",
       "      <td>17</td>\n",
       "      <td>3.0</td>\n",
       "      <td>12 th 09 bl 04 hr</td>\n",
       "      <td>126</td>\n",
       "      <td>Afirmasi (KJP)</td>\n",
       "      <td>Daftar Ulang</td>\n",
       "      <td>Zonasi 2</td>\n",
       "    </tr>\n",
       "    <tr>\n",
       "      <th>2033</th>\n",
       "      <td>2142</td>\n",
       "      <td>165</td>\n",
       "      <td>200107200320361</td>\n",
       "      <td>FADLAN AHMAD RAMADHAN</td>\n",
       "      <td>Batu Ampar</td>\n",
       "      <td>4</td>\n",
       "      <td>1</td>\n",
       "      <td>3.0</td>\n",
       "      <td>12 th 09 bl 01 hr</td>\n",
       "      <td>35</td>\n",
       "      <td>Zonasi</td>\n",
       "      <td>Daftar Ulang</td>\n",
       "      <td>Zonasi 2</td>\n",
       "    </tr>\n",
       "    <tr>\n",
       "      <th>2137</th>\n",
       "      <td>1356</td>\n",
       "      <td>56</td>\n",
       "      <td>200102202780048</td>\n",
       "      <td>ATAYA DIMAS AL FAHRI</td>\n",
       "      <td>Batu Ampar</td>\n",
       "      <td>2</td>\n",
       "      <td>8</td>\n",
       "      <td>3.0</td>\n",
       "      <td>12 th 08 bl 23 hr</td>\n",
       "      <td>281</td>\n",
       "      <td>Afirmasi (KJP)</td>\n",
       "      <td>Daftar Ulang</td>\n",
       "      <td>Zonasi 2</td>\n",
       "    </tr>\n",
       "    <tr>\n",
       "      <th>2183</th>\n",
       "      <td>113</td>\n",
       "      <td>114</td>\n",
       "      <td>200107200060343</td>\n",
       "      <td>RAISAH KHANSA</td>\n",
       "      <td>Batu Ampar</td>\n",
       "      <td>2</td>\n",
       "      <td>12</td>\n",
       "      <td>3.0</td>\n",
       "      <td>12 th 08 bl 19 hr</td>\n",
       "      <td>49</td>\n",
       "      <td>Zonasi</td>\n",
       "      <td>Tidak Daftar Ulang</td>\n",
       "      <td>Zonasi 1</td>\n",
       "    </tr>\n",
       "    <tr>\n",
       "      <th>2215</th>\n",
       "      <td>116</td>\n",
       "      <td>117</td>\n",
       "      <td>200107200590029</td>\n",
       "      <td>MUHAMMAD HUSEIN</td>\n",
       "      <td>Batu Ampar</td>\n",
       "      <td>2</td>\n",
       "      <td>17</td>\n",
       "      <td>3.0</td>\n",
       "      <td>12 th 08 bl 15 hr</td>\n",
       "      <td>49</td>\n",
       "      <td>Zonasi</td>\n",
       "      <td>Daftar Ulang</td>\n",
       "      <td>Zonasi 2</td>\n",
       "    </tr>\n",
       "    <tr>\n",
       "      <th>2265</th>\n",
       "      <td>122</td>\n",
       "      <td>123</td>\n",
       "      <td>200107200060133</td>\n",
       "      <td>NAZMA PUTRIA NUGROHO</td>\n",
       "      <td>Batu Ampar</td>\n",
       "      <td>6</td>\n",
       "      <td>1</td>\n",
       "      <td>3.0</td>\n",
       "      <td>12 th 08 bl 09 hr</td>\n",
       "      <td>49</td>\n",
       "      <td>Zonasi</td>\n",
       "      <td>Daftar Ulang</td>\n",
       "      <td>Zonasi 2</td>\n",
       "    </tr>\n",
       "    <tr>\n",
       "      <th>2299</th>\n",
       "      <td>1486</td>\n",
       "      <td>107</td>\n",
       "      <td>200107202780242</td>\n",
       "      <td>MUHAMAD SYAFIQ FAYYADH</td>\n",
       "      <td>Batu Ampar</td>\n",
       "      <td>5</td>\n",
       "      <td>6</td>\n",
       "      <td>3.0</td>\n",
       "      <td>12 th 08 bl 05 hr</td>\n",
       "      <td>281</td>\n",
       "      <td>Zonasi</td>\n",
       "      <td>Daftar Ulang</td>\n",
       "      <td>Zonasi 2</td>\n",
       "    </tr>\n",
       "    <tr>\n",
       "      <th>2374</th>\n",
       "      <td>1500</td>\n",
       "      <td>121</td>\n",
       "      <td>200107201280187</td>\n",
       "      <td>SYECH MUSTHOFA IBRAHIM</td>\n",
       "      <td>Batu Ampar</td>\n",
       "      <td>2</td>\n",
       "      <td>11</td>\n",
       "      <td>3.0</td>\n",
       "      <td>12 th 07 bl 25 hr</td>\n",
       "      <td>281</td>\n",
       "      <td>Zonasi</td>\n",
       "      <td>Daftar Ulang</td>\n",
       "      <td>Zonasi 1</td>\n",
       "    </tr>\n",
       "    <tr>\n",
       "      <th>2375</th>\n",
       "      <td>1499</td>\n",
       "      <td>120</td>\n",
       "      <td>200107202780215</td>\n",
       "      <td>ANDI RIDWANSYAH</td>\n",
       "      <td>Batu Ampar</td>\n",
       "      <td>4</td>\n",
       "      <td>6</td>\n",
       "      <td>3.0</td>\n",
       "      <td>12 th 07 bl 25 hr</td>\n",
       "      <td>281</td>\n",
       "      <td>Zonasi</td>\n",
       "      <td>Daftar Ulang</td>\n",
       "      <td>Zonasi 2</td>\n",
       "    </tr>\n",
       "    <tr>\n",
       "      <th>2487</th>\n",
       "      <td>1508</td>\n",
       "      <td>129</td>\n",
       "      <td>200107201280103</td>\n",
       "      <td>DINDA VINKA AYU</td>\n",
       "      <td>Batu Ampar</td>\n",
       "      <td>5</td>\n",
       "      <td>5</td>\n",
       "      <td>3.0</td>\n",
       "      <td>12 th 07 bl 12 hr</td>\n",
       "      <td>281</td>\n",
       "      <td>Zonasi</td>\n",
       "      <td>Daftar Ulang</td>\n",
       "      <td>Zonasi 2</td>\n",
       "    </tr>\n",
       "    <tr>\n",
       "      <th>2556</th>\n",
       "      <td>149</td>\n",
       "      <td>150</td>\n",
       "      <td>200107200060370</td>\n",
       "      <td>MOCHAMAD RAKHA</td>\n",
       "      <td>Batu Ampar</td>\n",
       "      <td>2</td>\n",
       "      <td>17</td>\n",
       "      <td>3.0</td>\n",
       "      <td>12 th 07 bl 06 hr</td>\n",
       "      <td>49</td>\n",
       "      <td>Zonasi</td>\n",
       "      <td>Tidak Daftar Ulang</td>\n",
       "      <td>Zonasi 2</td>\n",
       "    </tr>\n",
       "    <tr>\n",
       "      <th>2557</th>\n",
       "      <td>1517</td>\n",
       "      <td>138</td>\n",
       "      <td>200107200590193</td>\n",
       "      <td>TALITHA IFTINAH ZAHRA</td>\n",
       "      <td>Batu Ampar</td>\n",
       "      <td>4</td>\n",
       "      <td>11</td>\n",
       "      <td>3.0</td>\n",
       "      <td>12 th 07 bl 06 hr</td>\n",
       "      <td>281</td>\n",
       "      <td>Zonasi</td>\n",
       "      <td>Daftar Ulang</td>\n",
       "      <td>Zonasi 1</td>\n",
       "    </tr>\n",
       "    <tr>\n",
       "      <th>2571</th>\n",
       "      <td>1521</td>\n",
       "      <td>142</td>\n",
       "      <td>200107201280132</td>\n",
       "      <td>KEVIN FATIR REYHANSYAH</td>\n",
       "      <td>Batu Ampar</td>\n",
       "      <td>5</td>\n",
       "      <td>15</td>\n",
       "      <td>3.0</td>\n",
       "      <td>12 th 07 bl 04 hr</td>\n",
       "      <td>281</td>\n",
       "      <td>Zonasi</td>\n",
       "      <td>Tidak Daftar Ulang</td>\n",
       "      <td>Zonasi 1</td>\n",
       "    </tr>\n",
       "    <tr>\n",
       "      <th>2583</th>\n",
       "      <td>1522</td>\n",
       "      <td>143</td>\n",
       "      <td>200107202780113</td>\n",
       "      <td>TALITHA ZAHRA KIANA</td>\n",
       "      <td>Batu Ampar</td>\n",
       "      <td>2</td>\n",
       "      <td>17</td>\n",
       "      <td>3.0</td>\n",
       "      <td>12 th 07 bl 03 hr</td>\n",
       "      <td>281</td>\n",
       "      <td>Zonasi</td>\n",
       "      <td>Daftar Ulang</td>\n",
       "      <td>Zonasi 2</td>\n",
       "    </tr>\n",
       "    <tr>\n",
       "      <th>2632</th>\n",
       "      <td>1528</td>\n",
       "      <td>149</td>\n",
       "      <td>200107202780275</td>\n",
       "      <td>RASTRA GHAISAN HARTANTYO</td>\n",
       "      <td>Batu Ampar</td>\n",
       "      <td>2</td>\n",
       "      <td>12</td>\n",
       "      <td>3.0</td>\n",
       "      <td>12 th 06 bl 29 hr</td>\n",
       "      <td>281</td>\n",
       "      <td>Zonasi</td>\n",
       "      <td>Daftar Ulang</td>\n",
       "      <td>Zonasi 1</td>\n",
       "    </tr>\n",
       "    <tr>\n",
       "      <th>2714</th>\n",
       "      <td>1540</td>\n",
       "      <td>161</td>\n",
       "      <td>200107201280093</td>\n",
       "      <td>RASYA PUTRA ANODYA</td>\n",
       "      <td>Batu Ampar</td>\n",
       "      <td>2</td>\n",
       "      <td>17</td>\n",
       "      <td>3.0</td>\n",
       "      <td>12 th 06 bl 18 hr</td>\n",
       "      <td>281</td>\n",
       "      <td>Zonasi</td>\n",
       "      <td>Daftar Ulang</td>\n",
       "      <td>Zonasi 2</td>\n",
       "    </tr>\n",
       "    <tr>\n",
       "      <th>2852</th>\n",
       "      <td>293</td>\n",
       "      <td>56</td>\n",
       "      <td>200102200060040</td>\n",
       "      <td>FATHURRAHMAN ALFARIZI</td>\n",
       "      <td>Batu Ampar</td>\n",
       "      <td>4</td>\n",
       "      <td>1</td>\n",
       "      <td>3.0</td>\n",
       "      <td>12 th 05 bl 29 hr</td>\n",
       "      <td>49</td>\n",
       "      <td>Afirmasi (KJP)</td>\n",
       "      <td>Daftar Ulang</td>\n",
       "      <td>Zonasi 2</td>\n",
       "    </tr>\n",
       "    <tr>\n",
       "      <th>3062</th>\n",
       "      <td>295</td>\n",
       "      <td>58</td>\n",
       "      <td>200102200060042</td>\n",
       "      <td>FABIAN ATHALLA NAUFAL</td>\n",
       "      <td>Batu Ampar</td>\n",
       "      <td>2</td>\n",
       "      <td>9</td>\n",
       "      <td>3.0</td>\n",
       "      <td>12 th 04 bl 22 hr</td>\n",
       "      <td>49</td>\n",
       "      <td>Afirmasi (KJP)</td>\n",
       "      <td>Daftar Ulang</td>\n",
       "      <td>Zonasi 1</td>\n",
       "    </tr>\n",
       "    <tr>\n",
       "      <th>3074</th>\n",
       "      <td>439</td>\n",
       "      <td>37</td>\n",
       "      <td>200102200320019</td>\n",
       "      <td>JANATRA RAYA PUTRA</td>\n",
       "      <td>Batu Ampar</td>\n",
       "      <td>4</td>\n",
       "      <td>1</td>\n",
       "      <td>3.0</td>\n",
       "      <td>12 th 04 bl 19 hr</td>\n",
       "      <td>20</td>\n",
       "      <td>Afirmasi (KJP)</td>\n",
       "      <td>Daftar Ulang</td>\n",
       "      <td>Zonasi 2</td>\n",
       "    </tr>\n",
       "  </tbody>\n",
       "</table>\n",
       "</div>"
      ],
      "text/plain": [
       "      index  Peringkat  Nomer Pendaftaran                           Nama  \\\n",
       "107    1092         26    200107201280058                 BAGAS SETIAWAN   \n",
       "140    1094         28    200107201280063                   RIAN FADILAH   \n",
       "294     471         69    200102200320052             REISYA AULIA PUTRI   \n",
       "369     510         37    200107200320119      FARHAN AKBAR PEBRIANSYAH    \n",
       "384    1036         36    200102201280001               YOGA FEBRYANSYAH   \n",
       "460    1110         44    200107201280099                    SAFANI PARI   \n",
       "462    1111         45    200107201280131       AMELIA ZAHRA EDWIN PUTRI   \n",
       "472    1112         46    200107201280077                  LIDYA PUSPITA   \n",
       "486    1114         48    200107201280148                  SYAFIQ MILHAN   \n",
       "491    1115         49    200107201280117          MUHAMAD RAIHAN ASHARI   \n",
       "529    1117         51    200107201280085           FEYZAR HADI ABDULLAH   \n",
       "590    1120         54    200107201280056      AZKA RAINDRA PUTRA NADJHA   \n",
       "596      36         37    200107200060295         MUHAMMAD NABEEL PASHA    \n",
       "601    1121         55    200107201280094                      SAYID ALI   \n",
       "633    1123         57    200107201280122         KHAIRUL ABDULLAH AZZAM   \n",
       "663    1126         60    200107201280034              TEGAR ADI NUGROHO   \n",
       "722     545         72    200107200320013                 FAJAR MAULANA    \n",
       "726    1131         65    200107201280169             ANDREAS RUBEN DOKO   \n",
       "818    2059         82    200107200460129             SYAHARA ALMA AULIA   \n",
       "822     453         51    200102200320034                MUHAMMAD ARDIAN   \n",
       "858    1134         68    200107201280052         VALDA RASIKA NUR AULIA   \n",
       "899     567         94    200107200320068        ADARA KALILA WICAKSONO    \n",
       "900    1136         70    200107201280040                  AHMAD FAHLEVI   \n",
       "908    1137         71    200107201280062             ANDINI NADIA RASTI   \n",
       "926    1139         73    200107201280112         ZULAIKHA NURUL HIDAYAH   \n",
       "966     581        108    200107200320273            MUHAMAD EURO IKBAR    \n",
       "984     583        110    200107200320127           AZKA AULIA ADVIANTI    \n",
       "991    1143         77    200107201280105              ZAHRA DAFI ALZENA   \n",
       "1008    584        111    200107200320035       JUNAYZA HADHIRAH PUTRIE    \n",
       "1070   1147         81    200107201280115              RAYYA PITTA ALINE   \n",
       "1072   1149         83    200107201280119                      ALI KAZIM   \n",
       "1086   1150         84    200107201280032          MUHAMMAD AWAL ASYAKUR   \n",
       "1107    601        128    200107200320210              THALITHA FAUZIAH    \n",
       "1124   1152         86    200107201280116                SALWA KHUZAIMAH   \n",
       "1125   1151         85    200107201280031       RORO ZAKIYAH NUR KARIMAH   \n",
       "1138   1153         87    200107201280006                  RIZKI NURAINI   \n",
       "1279   1157         91    200107201280022                   ALIA FATIMAH   \n",
       "1340   1355         55    200102202780047             LAYLA ROHMATUNNISA   \n",
       "1354   1163         97    200107201280037  ANNISA SALSABILLA BAGUS PUTRI   \n",
       "1362    619        146    200107200320204    ASIANDRA PUTRI SYAHAILATUA    \n",
       "1568     78         79    200107200060035                  NAWAL SYAROF    \n",
       "1622   1447         68    200107200320079               RIZQI HASBUALLAH   \n",
       "1635    292         55    200102200060039           MONICA SYLVI AGUSTIN   \n",
       "1737   1182        116    200107201280066           SEPTIAN NUR RAMADHAN   \n",
       "1860     96         97    200107200060228         BEBY SEPTI RAYHANDITA    \n",
       "1982   1196        130    200107200320364        KAYYISAH HUWAIDA ATHIRA   \n",
       "1994    106        107    200107200060013              NABILA RAMADHANI    \n",
       "2003   1051         51    200102201280018                  AHMAD MUZAKKI   \n",
       "2033   2142        165    200107200320361          FADLAN AHMAD RAMADHAN   \n",
       "2137   1356         56    200102202780048           ATAYA DIMAS AL FAHRI   \n",
       "2183    113        114    200107200060343                 RAISAH KHANSA    \n",
       "2215    116        117    200107200590029               MUHAMMAD HUSEIN    \n",
       "2265    122        123    200107200060133          NAZMA PUTRIA NUGROHO    \n",
       "2299   1486        107    200107202780242         MUHAMAD SYAFIQ FAYYADH   \n",
       "2374   1500        121    200107201280187         SYECH MUSTHOFA IBRAHIM   \n",
       "2375   1499        120    200107202780215                ANDI RIDWANSYAH   \n",
       "2487   1508        129    200107201280103                DINDA VINKA AYU   \n",
       "2556    149        150    200107200060370                MOCHAMAD RAKHA    \n",
       "2557   1517        138    200107200590193          TALITHA IFTINAH ZAHRA   \n",
       "2571   1521        142    200107201280132         KEVIN FATIR REYHANSYAH   \n",
       "2583   1522        143    200107202780113            TALITHA ZAHRA KIANA   \n",
       "2632   1528        149    200107202780275       RASTRA GHAISAN HARTANTYO   \n",
       "2714   1540        161    200107201280093             RASYA PUTRA ANODYA   \n",
       "2852    293         56    200102200060040          FATHURRAHMAN ALFARIZI   \n",
       "3062    295         58    200102200060042          FABIAN ATHALLA NAUFAL   \n",
       "3074    439         37    200102200320019             JANATRA RAYA PUTRA   \n",
       "\n",
       "       Kelurahan  RW  RT  Prioritas Zonasi               Umur Asal SMP  \\\n",
       "107   Batu Ampar   5  15               3.0  14 th 00 bl 09 hr      126   \n",
       "140   Batu Ampar   2   8               3.0  13 th 10 bl 21 hr      126   \n",
       "294   Batu Ampar   4  10               3.0  13 th 06 bl 04 hr       20   \n",
       "369   Batu Ampar   4   6               3.0  13 th 04 bl 26 hr       20   \n",
       "384   Batu Ampar   2   9               3.0  13 th 04 bl 19 hr      126   \n",
       "460   Batu Ampar   2  11               3.0  13 th 03 bl 21 hr      126   \n",
       "462   Batu Ampar   2  17               3.0  13 th 03 bl 21 hr      126   \n",
       "472   Batu Ampar   2  14               3.0  13 th 03 bl 19 hr      126   \n",
       "486   Batu Ampar   4   4               3.0  13 th 03 bl 13 hr      126   \n",
       "491   Batu Ampar   4  13               3.0  13 th 03 bl 12 hr      126   \n",
       "529   Batu Ampar   2   8               3.0  13 th 03 bl 01 hr      126   \n",
       "590   Batu Ampar   4  13               3.0  13 th 02 bl 17 hr      126   \n",
       "596   Batu Ampar   4   1               3.0  13 th 02 bl 15 hr       49   \n",
       "601   Batu Ampar   4  10               3.0  13 th 02 bl 13 hr      126   \n",
       "633   Batu Ampar   2   8               3.0  13 th 02 bl 08 hr      126   \n",
       "663   Batu Ampar   2   8               3.0  13 th 02 bl 03 hr      126   \n",
       "722   Batu Ampar   2   8               3.0  13 th 01 bl 24 hr       20   \n",
       "726   Batu Ampar   3   9               3.0  13 th 01 bl 23 hr      126   \n",
       "818   Batu Ampar   4   7               3.0  13 th 01 bl 07 hr       35   \n",
       "822   Batu Ampar   4   7               3.0  13 th 01 bl 07 hr       20   \n",
       "858   Batu Ampar   4   4               3.0  13 th 01 bl 03 hr      126   \n",
       "899   Batu Ampar   4   1               3.0  13 th 00 bl 25 hr       20   \n",
       "900   Batu Ampar   4   1               3.0  13 th 00 bl 24 hr      126   \n",
       "908   Batu Ampar   5   5               3.0  13 th 00 bl 23 hr      126   \n",
       "926   Batu Ampar   2  15               3.0  13 th 00 bl 20 hr      126   \n",
       "966   Batu Ampar   2   8               3.0  13 th 00 bl 14 hr       20   \n",
       "984   Batu Ampar   4   6               3.0  13 th 00 bl 09 hr       20   \n",
       "991   Batu Ampar   2  14               3.0  13 th 00 bl 08 hr      126   \n",
       "1008  Batu Ampar   4  10               3.0  13 th 00 bl 05 hr       20   \n",
       "1070  Batu Ampar   4  12               3.0  12 th 11 bl 29 hr      126   \n",
       "1072  Batu Ampar   3   9               3.0  12 th 11 bl 28 hr      126   \n",
       "1086  Batu Ampar   2   8               3.0  12 th 11 bl 27 hr      126   \n",
       "1107  Batu Ampar   4  13               3.0  12 th 11 bl 24 hr       20   \n",
       "1124  Batu Ampar   5  15               3.0  12 th 11 bl 23 hr      126   \n",
       "1125  Batu Ampar   2  12               3.0  12 th 11 bl 23 hr      126   \n",
       "1138  Batu Ampar   4  11               3.0  12 th 11 bl 22 hr      126   \n",
       "1279  Batu Ampar   5  15               3.0  12 th 11 bl 08 hr      126   \n",
       "1340  Batu Ampar   2  17               3.0  12 th 11 bl 02 hr      281   \n",
       "1354  Batu Ampar   4  13               3.0  12 th 11 bl 01 hr      126   \n",
       "1362  Batu Ampar   4   6               3.0  12 th 11 bl 00 hr       20   \n",
       "1568  Batu Ampar   4   6               3.0  12 th 10 bl 12 hr       49   \n",
       "1622  Batu Ampar   4  10               3.0  12 th 10 bl 08 hr      281   \n",
       "1635  Batu Ampar   4   4               3.0  12 th 10 bl 07 hr       49   \n",
       "1737  Batu Ampar   2   9               3.0  12 th 09 bl 26 hr      126   \n",
       "1860  Batu Ampar   2  11               3.0  12 th 09 bl 16 hr       49   \n",
       "1982  Batu Ampar   4   1               3.0  12 th 09 bl 05 hr      126   \n",
       "1994  Batu Ampar   2  14               3.0  12 th 09 bl 04 hr       49   \n",
       "2003  Batu Ampar   2  17               3.0  12 th 09 bl 04 hr      126   \n",
       "2033  Batu Ampar   4   1               3.0  12 th 09 bl 01 hr       35   \n",
       "2137  Batu Ampar   2   8               3.0  12 th 08 bl 23 hr      281   \n",
       "2183  Batu Ampar   2  12               3.0  12 th 08 bl 19 hr       49   \n",
       "2215  Batu Ampar   2  17               3.0  12 th 08 bl 15 hr       49   \n",
       "2265  Batu Ampar   6   1               3.0  12 th 08 bl 09 hr       49   \n",
       "2299  Batu Ampar   5   6               3.0  12 th 08 bl 05 hr      281   \n",
       "2374  Batu Ampar   2  11               3.0  12 th 07 bl 25 hr      281   \n",
       "2375  Batu Ampar   4   6               3.0  12 th 07 bl 25 hr      281   \n",
       "2487  Batu Ampar   5   5               3.0  12 th 07 bl 12 hr      281   \n",
       "2556  Batu Ampar   2  17               3.0  12 th 07 bl 06 hr       49   \n",
       "2557  Batu Ampar   4  11               3.0  12 th 07 bl 06 hr      281   \n",
       "2571  Batu Ampar   5  15               3.0  12 th 07 bl 04 hr      281   \n",
       "2583  Batu Ampar   2  17               3.0  12 th 07 bl 03 hr      281   \n",
       "2632  Batu Ampar   2  12               3.0  12 th 06 bl 29 hr      281   \n",
       "2714  Batu Ampar   2  17               3.0  12 th 06 bl 18 hr      281   \n",
       "2852  Batu Ampar   4   1               3.0  12 th 05 bl 29 hr       49   \n",
       "3062  Batu Ampar   2   9               3.0  12 th 04 bl 22 hr       49   \n",
       "3074  Batu Ampar   4   1               3.0  12 th 04 bl 19 hr       20   \n",
       "\n",
       "        Jalur Daftar              Status Status Zonasi  \n",
       "107           Zonasi        Daftar Ulang      Zonasi 1  \n",
       "140           Zonasi        Daftar Ulang      Zonasi 2  \n",
       "294   Afirmasi (KJP)        Daftar Ulang      Zonasi 2  \n",
       "369           Zonasi        Daftar Ulang      Zonasi 2  \n",
       "384   Afirmasi (KJP)        Daftar Ulang      Zonasi 1  \n",
       "460           Zonasi        Daftar Ulang      Zonasi 1  \n",
       "462           Zonasi        Daftar Ulang      Zonasi 2  \n",
       "472           Zonasi        Daftar Ulang      Zonasi 1  \n",
       "486           Zonasi        Daftar Ulang      Zonasi 2  \n",
       "491           Zonasi        Daftar Ulang      Zonasi 2  \n",
       "529           Zonasi        Daftar Ulang      Zonasi 2  \n",
       "590           Zonasi        Daftar Ulang      Zonasi 2  \n",
       "596           Zonasi        Daftar Ulang      Zonasi 2  \n",
       "601           Zonasi        Daftar Ulang      Zonasi 2  \n",
       "633           Zonasi        Daftar Ulang      Zonasi 2  \n",
       "663           Zonasi        Daftar Ulang      Zonasi 2  \n",
       "722           Zonasi        Daftar Ulang      Zonasi 2  \n",
       "726           Zonasi        Daftar Ulang      Zonasi 2  \n",
       "818           Zonasi        Daftar Ulang      Zonasi 1  \n",
       "822   Afirmasi (KJP)        Daftar Ulang      Zonasi 1  \n",
       "858           Zonasi        Daftar Ulang      Zonasi 2  \n",
       "899           Zonasi        Daftar Ulang      Zonasi 2  \n",
       "900           Zonasi        Daftar Ulang      Zonasi 2  \n",
       "908           Zonasi        Daftar Ulang      Zonasi 2  \n",
       "926           Zonasi        Daftar Ulang      Zonasi 2  \n",
       "966           Zonasi        Daftar Ulang      Zonasi 2  \n",
       "984           Zonasi        Daftar Ulang      Zonasi 2  \n",
       "991           Zonasi        Daftar Ulang      Zonasi 1  \n",
       "1008          Zonasi        Daftar Ulang      Zonasi 2  \n",
       "1070          Zonasi        Daftar Ulang      Zonasi 2  \n",
       "1072          Zonasi        Daftar Ulang      Zonasi 2  \n",
       "1086          Zonasi        Daftar Ulang      Zonasi 2  \n",
       "1107          Zonasi        Daftar Ulang      Zonasi 2  \n",
       "1124          Zonasi        Daftar Ulang      Zonasi 1  \n",
       "1125          Zonasi        Daftar Ulang      Zonasi 1  \n",
       "1138          Zonasi        Daftar Ulang      Zonasi 1  \n",
       "1279          Zonasi        Daftar Ulang      Zonasi 1  \n",
       "1340  Afirmasi (KJP)        Daftar Ulang      Zonasi 2  \n",
       "1354          Zonasi        Daftar Ulang      Zonasi 2  \n",
       "1362          Zonasi        Daftar Ulang      Zonasi 2  \n",
       "1568          Zonasi        Daftar Ulang      Zonasi 2  \n",
       "1622          Zonasi        Daftar Ulang      Zonasi 2  \n",
       "1635  Afirmasi (KJP)        Daftar Ulang      Zonasi 2  \n",
       "1737          Zonasi        Daftar Ulang      Zonasi 1  \n",
       "1860          Zonasi        Daftar Ulang      Zonasi 1  \n",
       "1982          Zonasi  Tidak Daftar Ulang      Zonasi 2  \n",
       "1994          Zonasi        Daftar Ulang      Zonasi 1  \n",
       "2003  Afirmasi (KJP)        Daftar Ulang      Zonasi 2  \n",
       "2033          Zonasi        Daftar Ulang      Zonasi 2  \n",
       "2137  Afirmasi (KJP)        Daftar Ulang      Zonasi 2  \n",
       "2183          Zonasi  Tidak Daftar Ulang      Zonasi 1  \n",
       "2215          Zonasi        Daftar Ulang      Zonasi 2  \n",
       "2265          Zonasi        Daftar Ulang      Zonasi 2  \n",
       "2299          Zonasi        Daftar Ulang      Zonasi 2  \n",
       "2374          Zonasi        Daftar Ulang      Zonasi 1  \n",
       "2375          Zonasi        Daftar Ulang      Zonasi 2  \n",
       "2487          Zonasi        Daftar Ulang      Zonasi 2  \n",
       "2556          Zonasi  Tidak Daftar Ulang      Zonasi 2  \n",
       "2557          Zonasi        Daftar Ulang      Zonasi 1  \n",
       "2571          Zonasi  Tidak Daftar Ulang      Zonasi 1  \n",
       "2583          Zonasi        Daftar Ulang      Zonasi 2  \n",
       "2632          Zonasi        Daftar Ulang      Zonasi 1  \n",
       "2714          Zonasi        Daftar Ulang      Zonasi 2  \n",
       "2852  Afirmasi (KJP)        Daftar Ulang      Zonasi 2  \n",
       "3062  Afirmasi (KJP)        Daftar Ulang      Zonasi 1  \n",
       "3074  Afirmasi (KJP)        Daftar Ulang      Zonasi 2  "
      ]
     },
     "execution_count": 33,
     "metadata": {},
     "output_type": "execute_result"
    }
   ],
   "source": [
    "df_51[df_51['Status Zonasi'].isin(['Zonasi 1', 'Zonasi 2'])] # syntax ngecek siapa saja yang masuk zonasi 1 dan zonasi 2"
   ]
  },
  {
   "cell_type": "code",
   "execution_count": 34,
   "id": "ccb88a76-d752-4f7b-a9d2-1a739444c876",
   "metadata": {
    "tags": []
   },
   "outputs": [
    {
     "data": {
      "application/vnd.plotly.v1+json": {
       "config": {
        "plotlyServerURL": "https://plot.ly"
       },
       "data": [
        {
         "hole": 0.2,
         "labels": [
          "Zonasi 3",
          "Belum Diketahui",
          "Zonasi 2",
          "Zonasi 1"
         ],
         "marker": {
          "colors": [
           "gold",
           "mediumturquoise",
           "darkorange",
           "lightgreen"
          ],
          "line": {
           "color": "dark red",
           "width": 1
          }
         },
         "textinfo": "label+percent",
         "type": "pie",
         "values": [
          2595,
          935,
          46,
          20
         ]
        }
       ],
       "layout": {
        "autosize": true,
        "template": {
         "data": {
          "bar": [
           {
            "error_x": {
             "color": "#2a3f5f"
            },
            "error_y": {
             "color": "#2a3f5f"
            },
            "marker": {
             "line": {
              "color": "#E5ECF6",
              "width": 0.5
             },
             "pattern": {
              "fillmode": "overlay",
              "size": 10,
              "solidity": 0.2
             }
            },
            "type": "bar"
           }
          ],
          "barpolar": [
           {
            "marker": {
             "line": {
              "color": "#E5ECF6",
              "width": 0.5
             },
             "pattern": {
              "fillmode": "overlay",
              "size": 10,
              "solidity": 0.2
             }
            },
            "type": "barpolar"
           }
          ],
          "carpet": [
           {
            "aaxis": {
             "endlinecolor": "#2a3f5f",
             "gridcolor": "white",
             "linecolor": "white",
             "minorgridcolor": "white",
             "startlinecolor": "#2a3f5f"
            },
            "baxis": {
             "endlinecolor": "#2a3f5f",
             "gridcolor": "white",
             "linecolor": "white",
             "minorgridcolor": "white",
             "startlinecolor": "#2a3f5f"
            },
            "type": "carpet"
           }
          ],
          "choropleth": [
           {
            "colorbar": {
             "outlinewidth": 0,
             "ticks": ""
            },
            "type": "choropleth"
           }
          ],
          "contour": [
           {
            "colorbar": {
             "outlinewidth": 0,
             "ticks": ""
            },
            "colorscale": [
             [
              0,
              "#0d0887"
             ],
             [
              0.1111111111111111,
              "#46039f"
             ],
             [
              0.2222222222222222,
              "#7201a8"
             ],
             [
              0.3333333333333333,
              "#9c179e"
             ],
             [
              0.4444444444444444,
              "#bd3786"
             ],
             [
              0.5555555555555556,
              "#d8576b"
             ],
             [
              0.6666666666666666,
              "#ed7953"
             ],
             [
              0.7777777777777778,
              "#fb9f3a"
             ],
             [
              0.8888888888888888,
              "#fdca26"
             ],
             [
              1,
              "#f0f921"
             ]
            ],
            "type": "contour"
           }
          ],
          "contourcarpet": [
           {
            "colorbar": {
             "outlinewidth": 0,
             "ticks": ""
            },
            "type": "contourcarpet"
           }
          ],
          "heatmap": [
           {
            "colorbar": {
             "outlinewidth": 0,
             "ticks": ""
            },
            "colorscale": [
             [
              0,
              "#0d0887"
             ],
             [
              0.1111111111111111,
              "#46039f"
             ],
             [
              0.2222222222222222,
              "#7201a8"
             ],
             [
              0.3333333333333333,
              "#9c179e"
             ],
             [
              0.4444444444444444,
              "#bd3786"
             ],
             [
              0.5555555555555556,
              "#d8576b"
             ],
             [
              0.6666666666666666,
              "#ed7953"
             ],
             [
              0.7777777777777778,
              "#fb9f3a"
             ],
             [
              0.8888888888888888,
              "#fdca26"
             ],
             [
              1,
              "#f0f921"
             ]
            ],
            "type": "heatmap"
           }
          ],
          "heatmapgl": [
           {
            "colorbar": {
             "outlinewidth": 0,
             "ticks": ""
            },
            "colorscale": [
             [
              0,
              "#0d0887"
             ],
             [
              0.1111111111111111,
              "#46039f"
             ],
             [
              0.2222222222222222,
              "#7201a8"
             ],
             [
              0.3333333333333333,
              "#9c179e"
             ],
             [
              0.4444444444444444,
              "#bd3786"
             ],
             [
              0.5555555555555556,
              "#d8576b"
             ],
             [
              0.6666666666666666,
              "#ed7953"
             ],
             [
              0.7777777777777778,
              "#fb9f3a"
             ],
             [
              0.8888888888888888,
              "#fdca26"
             ],
             [
              1,
              "#f0f921"
             ]
            ],
            "type": "heatmapgl"
           }
          ],
          "histogram": [
           {
            "marker": {
             "pattern": {
              "fillmode": "overlay",
              "size": 10,
              "solidity": 0.2
             }
            },
            "type": "histogram"
           }
          ],
          "histogram2d": [
           {
            "colorbar": {
             "outlinewidth": 0,
             "ticks": ""
            },
            "colorscale": [
             [
              0,
              "#0d0887"
             ],
             [
              0.1111111111111111,
              "#46039f"
             ],
             [
              0.2222222222222222,
              "#7201a8"
             ],
             [
              0.3333333333333333,
              "#9c179e"
             ],
             [
              0.4444444444444444,
              "#bd3786"
             ],
             [
              0.5555555555555556,
              "#d8576b"
             ],
             [
              0.6666666666666666,
              "#ed7953"
             ],
             [
              0.7777777777777778,
              "#fb9f3a"
             ],
             [
              0.8888888888888888,
              "#fdca26"
             ],
             [
              1,
              "#f0f921"
             ]
            ],
            "type": "histogram2d"
           }
          ],
          "histogram2dcontour": [
           {
            "colorbar": {
             "outlinewidth": 0,
             "ticks": ""
            },
            "colorscale": [
             [
              0,
              "#0d0887"
             ],
             [
              0.1111111111111111,
              "#46039f"
             ],
             [
              0.2222222222222222,
              "#7201a8"
             ],
             [
              0.3333333333333333,
              "#9c179e"
             ],
             [
              0.4444444444444444,
              "#bd3786"
             ],
             [
              0.5555555555555556,
              "#d8576b"
             ],
             [
              0.6666666666666666,
              "#ed7953"
             ],
             [
              0.7777777777777778,
              "#fb9f3a"
             ],
             [
              0.8888888888888888,
              "#fdca26"
             ],
             [
              1,
              "#f0f921"
             ]
            ],
            "type": "histogram2dcontour"
           }
          ],
          "mesh3d": [
           {
            "colorbar": {
             "outlinewidth": 0,
             "ticks": ""
            },
            "type": "mesh3d"
           }
          ],
          "parcoords": [
           {
            "line": {
             "colorbar": {
              "outlinewidth": 0,
              "ticks": ""
             }
            },
            "type": "parcoords"
           }
          ],
          "pie": [
           {
            "automargin": true,
            "type": "pie"
           }
          ],
          "scatter": [
           {
            "fillpattern": {
             "fillmode": "overlay",
             "size": 10,
             "solidity": 0.2
            },
            "type": "scatter"
           }
          ],
          "scatter3d": [
           {
            "line": {
             "colorbar": {
              "outlinewidth": 0,
              "ticks": ""
             }
            },
            "marker": {
             "colorbar": {
              "outlinewidth": 0,
              "ticks": ""
             }
            },
            "type": "scatter3d"
           }
          ],
          "scattercarpet": [
           {
            "marker": {
             "colorbar": {
              "outlinewidth": 0,
              "ticks": ""
             }
            },
            "type": "scattercarpet"
           }
          ],
          "scattergeo": [
           {
            "marker": {
             "colorbar": {
              "outlinewidth": 0,
              "ticks": ""
             }
            },
            "type": "scattergeo"
           }
          ],
          "scattergl": [
           {
            "marker": {
             "colorbar": {
              "outlinewidth": 0,
              "ticks": ""
             }
            },
            "type": "scattergl"
           }
          ],
          "scattermapbox": [
           {
            "marker": {
             "colorbar": {
              "outlinewidth": 0,
              "ticks": ""
             }
            },
            "type": "scattermapbox"
           }
          ],
          "scatterpolar": [
           {
            "marker": {
             "colorbar": {
              "outlinewidth": 0,
              "ticks": ""
             }
            },
            "type": "scatterpolar"
           }
          ],
          "scatterpolargl": [
           {
            "marker": {
             "colorbar": {
              "outlinewidth": 0,
              "ticks": ""
             }
            },
            "type": "scatterpolargl"
           }
          ],
          "scatterternary": [
           {
            "marker": {
             "colorbar": {
              "outlinewidth": 0,
              "ticks": ""
             }
            },
            "type": "scatterternary"
           }
          ],
          "surface": [
           {
            "colorbar": {
             "outlinewidth": 0,
             "ticks": ""
            },
            "colorscale": [
             [
              0,
              "#0d0887"
             ],
             [
              0.1111111111111111,
              "#46039f"
             ],
             [
              0.2222222222222222,
              "#7201a8"
             ],
             [
              0.3333333333333333,
              "#9c179e"
             ],
             [
              0.4444444444444444,
              "#bd3786"
             ],
             [
              0.5555555555555556,
              "#d8576b"
             ],
             [
              0.6666666666666666,
              "#ed7953"
             ],
             [
              0.7777777777777778,
              "#fb9f3a"
             ],
             [
              0.8888888888888888,
              "#fdca26"
             ],
             [
              1,
              "#f0f921"
             ]
            ],
            "type": "surface"
           }
          ],
          "table": [
           {
            "cells": {
             "fill": {
              "color": "#EBF0F8"
             },
             "line": {
              "color": "white"
             }
            },
            "header": {
             "fill": {
              "color": "#C8D4E3"
             },
             "line": {
              "color": "white"
             }
            },
            "type": "table"
           }
          ]
         },
         "layout": {
          "annotationdefaults": {
           "arrowcolor": "#2a3f5f",
           "arrowhead": 0,
           "arrowwidth": 1
          },
          "autotypenumbers": "strict",
          "coloraxis": {
           "colorbar": {
            "outlinewidth": 0,
            "ticks": ""
           }
          },
          "colorscale": {
           "diverging": [
            [
             0,
             "#8e0152"
            ],
            [
             0.1,
             "#c51b7d"
            ],
            [
             0.2,
             "#de77ae"
            ],
            [
             0.3,
             "#f1b6da"
            ],
            [
             0.4,
             "#fde0ef"
            ],
            [
             0.5,
             "#f7f7f7"
            ],
            [
             0.6,
             "#e6f5d0"
            ],
            [
             0.7,
             "#b8e186"
            ],
            [
             0.8,
             "#7fbc41"
            ],
            [
             0.9,
             "#4d9221"
            ],
            [
             1,
             "#276419"
            ]
           ],
           "sequential": [
            [
             0,
             "#0d0887"
            ],
            [
             0.1111111111111111,
             "#46039f"
            ],
            [
             0.2222222222222222,
             "#7201a8"
            ],
            [
             0.3333333333333333,
             "#9c179e"
            ],
            [
             0.4444444444444444,
             "#bd3786"
            ],
            [
             0.5555555555555556,
             "#d8576b"
            ],
            [
             0.6666666666666666,
             "#ed7953"
            ],
            [
             0.7777777777777778,
             "#fb9f3a"
            ],
            [
             0.8888888888888888,
             "#fdca26"
            ],
            [
             1,
             "#f0f921"
            ]
           ],
           "sequentialminus": [
            [
             0,
             "#0d0887"
            ],
            [
             0.1111111111111111,
             "#46039f"
            ],
            [
             0.2222222222222222,
             "#7201a8"
            ],
            [
             0.3333333333333333,
             "#9c179e"
            ],
            [
             0.4444444444444444,
             "#bd3786"
            ],
            [
             0.5555555555555556,
             "#d8576b"
            ],
            [
             0.6666666666666666,
             "#ed7953"
            ],
            [
             0.7777777777777778,
             "#fb9f3a"
            ],
            [
             0.8888888888888888,
             "#fdca26"
            ],
            [
             1,
             "#f0f921"
            ]
           ]
          },
          "colorway": [
           "#636efa",
           "#EF553B",
           "#00cc96",
           "#ab63fa",
           "#FFA15A",
           "#19d3f3",
           "#FF6692",
           "#B6E880",
           "#FF97FF",
           "#FECB52"
          ],
          "font": {
           "color": "#2a3f5f"
          },
          "geo": {
           "bgcolor": "white",
           "lakecolor": "white",
           "landcolor": "#E5ECF6",
           "showlakes": true,
           "showland": true,
           "subunitcolor": "white"
          },
          "hoverlabel": {
           "align": "left"
          },
          "hovermode": "closest",
          "mapbox": {
           "style": "light"
          },
          "paper_bgcolor": "white",
          "plot_bgcolor": "#E5ECF6",
          "polar": {
           "angularaxis": {
            "gridcolor": "white",
            "linecolor": "white",
            "ticks": ""
           },
           "bgcolor": "#E5ECF6",
           "radialaxis": {
            "gridcolor": "white",
            "linecolor": "white",
            "ticks": ""
           }
          },
          "scene": {
           "xaxis": {
            "backgroundcolor": "#E5ECF6",
            "gridcolor": "white",
            "gridwidth": 2,
            "linecolor": "white",
            "showbackground": true,
            "ticks": "",
            "zerolinecolor": "white"
           },
           "yaxis": {
            "backgroundcolor": "#E5ECF6",
            "gridcolor": "white",
            "gridwidth": 2,
            "linecolor": "white",
            "showbackground": true,
            "ticks": "",
            "zerolinecolor": "white"
           },
           "zaxis": {
            "backgroundcolor": "#E5ECF6",
            "gridcolor": "white",
            "gridwidth": 2,
            "linecolor": "white",
            "showbackground": true,
            "ticks": "",
            "zerolinecolor": "white"
           }
          },
          "shapedefaults": {
           "line": {
            "color": "#2a3f5f"
           }
          },
          "ternary": {
           "aaxis": {
            "gridcolor": "white",
            "linecolor": "white",
            "ticks": ""
           },
           "baxis": {
            "gridcolor": "white",
            "linecolor": "white",
            "ticks": ""
           },
           "bgcolor": "#E5ECF6",
           "caxis": {
            "gridcolor": "white",
            "linecolor": "white",
            "ticks": ""
           }
          },
          "title": {
           "x": 0.05
          },
          "xaxis": {
           "automargin": true,
           "gridcolor": "white",
           "linecolor": "white",
           "ticks": "",
           "title": {
            "standoff": 15
           },
           "zerolinecolor": "white",
           "zerolinewidth": 2
          },
          "yaxis": {
           "automargin": true,
           "gridcolor": "white",
           "linecolor": "white",
           "ticks": "",
           "title": {
            "standoff": 15
           },
           "zerolinecolor": "white",
           "zerolinewidth": 2
          }
         }
        }
       }
      },
      "image/png": "[encoded data removed]",
      "text/html": [
       "<div>                            <div id=\"369f5cdc-d344-400b-9b50-c0b33e566230\" class=\"plotly-graph-div\" style=\"height:525px; width:100%;\"></div>            <script type=\"text/javascript\">                require([\"plotly\"], function(Plotly) {                    window.PLOTLYENV=window.PLOTLYENV || {};                                    if (document.getElementById(\"369f5cdc-d344-400b-9b50-c0b33e566230\")) {                    Plotly.newPlot(                        \"369f5cdc-d344-400b-9b50-c0b33e566230\",                        [{\"hole\":0.2,\"labels\":[\"Zonasi 3\",\"Belum Diketahui\",\"Zonasi 2\",\"Zonasi 1\"],\"marker\":{\"colors\":[\"gold\",\"mediumturquoise\",\"darkorange\",\"lightgreen\"],\"line\":{\"color\":\"dark red\",\"width\":1}},\"textinfo\":\"label+percent\",\"values\":[2595,935,46,20],\"type\":\"pie\"}],                        {\"template\":{\"data\":{\"histogram2dcontour\":[{\"type\":\"histogram2dcontour\",\"colorbar\":{\"outlinewidth\":0,\"ticks\":\"\"},\"colorscale\":[[0.0,\"#0d0887\"],[0.1111111111111111,\"#46039f\"],[0.2222222222222222,\"#7201a8\"],[0.3333333333333333,\"#9c179e\"],[0.4444444444444444,\"#bd3786\"],[0.5555555555555556,\"#d8576b\"],[0.6666666666666666,\"#ed7953\"],[0.7777777777777778,\"#fb9f3a\"],[0.8888888888888888,\"#fdca26\"],[1.0,\"#f0f921\"]]}],\"choropleth\":[{\"type\":\"choropleth\",\"colorbar\":{\"outlinewidth\":0,\"ticks\":\"\"}}],\"histogram2d\":[{\"type\":\"histogram2d\",\"colorbar\":{\"outlinewidth\":0,\"ticks\":\"\"},\"colorscale\":[[0.0,\"#0d0887\"],[0.1111111111111111,\"#46039f\"],[0.2222222222222222,\"#7201a8\"],[0.3333333333333333,\"#9c179e\"],[0.4444444444444444,\"#bd3786\"],[0.5555555555555556,\"#d8576b\"],[0.6666666666666666,\"#ed7953\"],[0.7777777777777778,\"#fb9f3a\"],[0.8888888888888888,\"#fdca26\"],[1.0,\"#f0f921\"]]}],\"heatmap\":[{\"type\":\"heatmap\",\"colorbar\":{\"outlinewidth\":0,\"ticks\":\"\"},\"colorscale\":[[0.0,\"#0d0887\"],[0.1111111111111111,\"#46039f\"],[0.2222222222222222,\"#7201a8\"],[0.3333333333333333,\"#9c179e\"],[0.4444444444444444,\"#bd3786\"],[0.5555555555555556,\"#d8576b\"],[0.6666666666666666,\"#ed7953\"],[0.7777777777777778,\"#fb9f3a\"],[0.8888888888888888,\"#fdca26\"],[1.0,\"#f0f921\"]]}],\"heatmapgl\":[{\"type\":\"heatmapgl\",\"colorbar\":{\"outlinewidth\":0,\"ticks\":\"\"},\"colorscale\":[[0.0,\"#0d0887\"],[0.1111111111111111,\"#46039f\"],[0.2222222222222222,\"#7201a8\"],[0.3333333333333333,\"#9c179e\"],[0.4444444444444444,\"#bd3786\"],[0.5555555555555556,\"#d8576b\"],[0.6666666666666666,\"#ed7953\"],[0.7777777777777778,\"#fb9f3a\"],[0.8888888888888888,\"#fdca26\"],[1.0,\"#f0f921\"]]}],\"contourcarpet\":[{\"type\":\"contourcarpet\",\"colorbar\":{\"outlinewidth\":0,\"ticks\":\"\"}}],\"contour\":[{\"type\":\"contour\",\"colorbar\":{\"outlinewidth\":0,\"ticks\":\"\"},\"colorscale\":[[0.0,\"#0d0887\"],[0.1111111111111111,\"#46039f\"],[0.2222222222222222,\"#7201a8\"],[0.3333333333333333,\"#9c179e\"],[0.4444444444444444,\"#bd3786\"],[0.5555555555555556,\"#d8576b\"],[0.6666666666666666,\"#ed7953\"],[0.7777777777777778,\"#fb9f3a\"],[0.8888888888888888,\"#fdca26\"],[1.0,\"#f0f921\"]]}],\"surface\":[{\"type\":\"surface\",\"colorbar\":{\"outlinewidth\":0,\"ticks\":\"\"},\"colorscale\":[[0.0,\"#0d0887\"],[0.1111111111111111,\"#46039f\"],[0.2222222222222222,\"#7201a8\"],[0.3333333333333333,\"#9c179e\"],[0.4444444444444444,\"#bd3786\"],[0.5555555555555556,\"#d8576b\"],[0.6666666666666666,\"#ed7953\"],[0.7777777777777778,\"#fb9f3a\"],[0.8888888888888888,\"#fdca26\"],[1.0,\"#f0f921\"]]}],\"mesh3d\":[{\"type\":\"mesh3d\",\"colorbar\":{\"outlinewidth\":0,\"ticks\":\"\"}}],\"scatter\":[{\"fillpattern\":{\"fillmode\":\"overlay\",\"size\":10,\"solidity\":0.2},\"type\":\"scatter\"}],\"parcoords\":[{\"type\":\"parcoords\",\"line\":{\"colorbar\":{\"outlinewidth\":0,\"ticks\":\"\"}}}],\"scatterpolargl\":[{\"type\":\"scatterpolargl\",\"marker\":{\"colorbar\":{\"outlinewidth\":0,\"ticks\":\"\"}}}],\"bar\":[{\"error_x\":{\"color\":\"#2a3f5f\"},\"error_y\":{\"color\":\"#2a3f5f\"},\"marker\":{\"line\":{\"color\":\"#E5ECF6\",\"width\":0.5},\"pattern\":{\"fillmode\":\"overlay\",\"size\":10,\"solidity\":0.2}},\"type\":\"bar\"}],\"scattergeo\":[{\"type\":\"scattergeo\",\"marker\":{\"colorbar\":{\"outlinewidth\":0,\"ticks\":\"\"}}}],\"scatterpolar\":[{\"type\":\"scatterpolar\",\"marker\":{\"colorbar\":{\"outlinewidth\":0,\"ticks\":\"\"}}}],\"histogram\":[{\"marker\":{\"pattern\":{\"fillmode\":\"overlay\",\"size\":10,\"solidity\":0.2}},\"type\":\"histogram\"}],\"scattergl\":[{\"type\":\"scattergl\",\"marker\":{\"colorbar\":{\"outlinewidth\":0,\"ticks\":\"\"}}}],\"scatter3d\":[{\"type\":\"scatter3d\",\"line\":{\"colorbar\":{\"outlinewidth\":0,\"ticks\":\"\"}},\"marker\":{\"colorbar\":{\"outlinewidth\":0,\"ticks\":\"\"}}}],\"scattermapbox\":[{\"type\":\"scattermapbox\",\"marker\":{\"colorbar\":{\"outlinewidth\":0,\"ticks\":\"\"}}}],\"scatterternary\":[{\"type\":\"scatterternary\",\"marker\":{\"colorbar\":{\"outlinewidth\":0,\"ticks\":\"\"}}}],\"scattercarpet\":[{\"type\":\"scattercarpet\",\"marker\":{\"colorbar\":{\"outlinewidth\":0,\"ticks\":\"\"}}}],\"carpet\":[{\"aaxis\":{\"endlinecolor\":\"#2a3f5f\",\"gridcolor\":\"white\",\"linecolor\":\"white\",\"minorgridcolor\":\"white\",\"startlinecolor\":\"#2a3f5f\"},\"baxis\":{\"endlinecolor\":\"#2a3f5f\",\"gridcolor\":\"white\",\"linecolor\":\"white\",\"minorgridcolor\":\"white\",\"startlinecolor\":\"#2a3f5f\"},\"type\":\"carpet\"}],\"table\":[{\"cells\":{\"fill\":{\"color\":\"#EBF0F8\"},\"line\":{\"color\":\"white\"}},\"header\":{\"fill\":{\"color\":\"#C8D4E3\"},\"line\":{\"color\":\"white\"}},\"type\":\"table\"}],\"barpolar\":[{\"marker\":{\"line\":{\"color\":\"#E5ECF6\",\"width\":0.5},\"pattern\":{\"fillmode\":\"overlay\",\"size\":10,\"solidity\":0.2}},\"type\":\"barpolar\"}],\"pie\":[{\"automargin\":true,\"type\":\"pie\"}]},\"layout\":{\"autotypenumbers\":\"strict\",\"colorway\":[\"#636efa\",\"#EF553B\",\"#00cc96\",\"#ab63fa\",\"#FFA15A\",\"#19d3f3\",\"#FF6692\",\"#B6E880\",\"#FF97FF\",\"#FECB52\"],\"font\":{\"color\":\"#2a3f5f\"},\"hovermode\":\"closest\",\"hoverlabel\":{\"align\":\"left\"},\"paper_bgcolor\":\"white\",\"plot_bgcolor\":\"#E5ECF6\",\"polar\":{\"bgcolor\":\"#E5ECF6\",\"angularaxis\":{\"gridcolor\":\"white\",\"linecolor\":\"white\",\"ticks\":\"\"},\"radialaxis\":{\"gridcolor\":\"white\",\"linecolor\":\"white\",\"ticks\":\"\"}},\"ternary\":{\"bgcolor\":\"#E5ECF6\",\"aaxis\":{\"gridcolor\":\"white\",\"linecolor\":\"white\",\"ticks\":\"\"},\"baxis\":{\"gridcolor\":\"white\",\"linecolor\":\"white\",\"ticks\":\"\"},\"caxis\":{\"gridcolor\":\"white\",\"linecolor\":\"white\",\"ticks\":\"\"}},\"coloraxis\":{\"colorbar\":{\"outlinewidth\":0,\"ticks\":\"\"}},\"colorscale\":{\"sequential\":[[0.0,\"#0d0887\"],[0.1111111111111111,\"#46039f\"],[0.2222222222222222,\"#7201a8\"],[0.3333333333333333,\"#9c179e\"],[0.4444444444444444,\"#bd3786\"],[0.5555555555555556,\"#d8576b\"],[0.6666666666666666,\"#ed7953\"],[0.7777777777777778,\"#fb9f3a\"],[0.8888888888888888,\"#fdca26\"],[1.0,\"#f0f921\"]],\"sequentialminus\":[[0.0,\"#0d0887\"],[0.1111111111111111,\"#46039f\"],[0.2222222222222222,\"#7201a8\"],[0.3333333333333333,\"#9c179e\"],[0.4444444444444444,\"#bd3786\"],[0.5555555555555556,\"#d8576b\"],[0.6666666666666666,\"#ed7953\"],[0.7777777777777778,\"#fb9f3a\"],[0.8888888888888888,\"#fdca26\"],[1.0,\"#f0f921\"]],\"diverging\":[[0,\"#8e0152\"],[0.1,\"#c51b7d\"],[0.2,\"#de77ae\"],[0.3,\"#f1b6da\"],[0.4,\"#fde0ef\"],[0.5,\"#f7f7f7\"],[0.6,\"#e6f5d0\"],[0.7,\"#b8e186\"],[0.8,\"#7fbc41\"],[0.9,\"#4d9221\"],[1,\"#276419\"]]},\"xaxis\":{\"gridcolor\":\"white\",\"linecolor\":\"white\",\"ticks\":\"\",\"title\":{\"standoff\":15},\"zerolinecolor\":\"white\",\"automargin\":true,\"zerolinewidth\":2},\"yaxis\":{\"gridcolor\":\"white\",\"linecolor\":\"white\",\"ticks\":\"\",\"title\":{\"standoff\":15},\"zerolinecolor\":\"white\",\"automargin\":true,\"zerolinewidth\":2},\"scene\":{\"xaxis\":{\"backgroundcolor\":\"#E5ECF6\",\"gridcolor\":\"white\",\"linecolor\":\"white\",\"showbackground\":true,\"ticks\":\"\",\"zerolinecolor\":\"white\",\"gridwidth\":2},\"yaxis\":{\"backgroundcolor\":\"#E5ECF6\",\"gridcolor\":\"white\",\"linecolor\":\"white\",\"showbackground\":true,\"ticks\":\"\",\"zerolinecolor\":\"white\",\"gridwidth\":2},\"zaxis\":{\"backgroundcolor\":\"#E5ECF6\",\"gridcolor\":\"white\",\"linecolor\":\"white\",\"showbackground\":true,\"ticks\":\"\",\"zerolinecolor\":\"white\",\"gridwidth\":2}},\"shapedefaults\":{\"line\":{\"color\":\"#2a3f5f\"}},\"annotationdefaults\":{\"arrowcolor\":\"#2a3f5f\",\"arrowhead\":0,\"arrowwidth\":1},\"geo\":{\"bgcolor\":\"white\",\"landcolor\":\"#E5ECF6\",\"subunitcolor\":\"white\",\"showland\":true,\"showlakes\":true,\"lakecolor\":\"white\"},\"title\":{\"x\":0.05},\"mapbox\":{\"style\":\"light\"}}}},                        {\"responsive\": true}                    ).then(function(){\n",
       "                            \n",
       "var gd = document.getElementById('369f5cdc-d344-400b-9b50-c0b33e566230');\n",
       "var x = new MutationObserver(function (mutations, observer) {{\n",
       "        var display = window.getComputedStyle(gd).display;\n",
       "        if (!display || display === 'none') {{\n",
       "            console.log([gd, 'removed!']);\n",
       "            Plotly.purge(gd);\n",
       "            observer.disconnect();\n",
       "        }}\n",
       "}});\n",
       "\n",
       "// Listen for the removal of the full notebook cells\n",
       "var notebookContainer = gd.closest('#notebook-container');\n",
       "if (notebookContainer) {{\n",
       "    x.observe(notebookContainer, {childList: true});\n",
       "}}\n",
       "\n",
       "// Listen for the clearing of the current output cell\n",
       "var outputEl = gd.closest('.output');\n",
       "if (outputEl) {{\n",
       "    x.observe(outputEl, {childList: true});\n",
       "}}\n",
       "\n",
       "                        })                };                });            </script>        </div>"
      ]
     },
     "metadata": {},
     "output_type": "display_data"
    }
   ],
   "source": [
    "status_pie = df_51['Status Zonasi'].value_counts()\n",
    "labels = status_pie.index\n",
    "values = status_pie.values\n",
    "colors = ['gold', 'mediumturquoise', 'darkorange', 'lightgreen']\n",
    "\n",
    "fig = go.Figure(data=[go.Pie(labels=labels, values=values, textinfo='label+percent', hole=.2,\n",
    "                             marker_colors = colors, marker_line_width=1, marker_line_color='dark red')])\n",
    "\n",
    "fig.show()"
   ]
  },
  {
   "cell_type": "code",
   "execution_count": 37,
   "id": "984c5cae-a845-4775-8e98-1867b0ecb8d0",
   "metadata": {},
   "outputs": [
    {
     "data": {
      "application/vnd.plotly.v1+json": {
       "config": {
        "plotlyServerURL": "https://plot.ly"
       },
       "data": [
        {
         "domain": {
          "x": [
           0,
           0.45
          ],
          "y": [
           0,
           1
          ]
         },
         "hole": 0.4,
         "hoverinfo": "label+percent+name",
         "labels": [
          "US",
          "China",
          "European Union",
          "Russian Federation",
          "Brazil",
          "India",
          "Rest of World"
         ],
         "name": "GHG Emissions",
         "type": "pie",
         "values": [
          16,
          15,
          12,
          6,
          5,
          4,
          42
         ]
        },
        {
         "domain": {
          "x": [
           0.55,
           1
          ],
          "y": [
           0,
           1
          ]
         },
         "hole": 0.4,
         "hoverinfo": "label+percent+name",
         "labels": [
          "US",
          "China",
          "European Union",
          "Russian Federation",
          "Brazil",
          "India",
          "Rest of World"
         ],
         "name": "CO2 Emissions",
         "type": "pie",
         "values": [
          27,
          11,
          25,
          8,
          1,
          3,
          25
         ]
        }
       ],
       "layout": {
        "annotations": [
         {
          "font": {
           "size": 20
          },
          "showarrow": false,
          "text": "GHG",
          "x": 0.18,
          "y": 0.5
         },
         {
          "font": {
           "size": 20
          },
          "showarrow": false,
          "text": "CO2",
          "x": 0.82,
          "y": 0.5
         }
        ],
        "autosize": true,
        "template": {
         "data": {
          "bar": [
           {
            "error_x": {
             "color": "#2a3f5f"
            },
            "error_y": {
             "color": "#2a3f5f"
            },
            "marker": {
             "line": {
              "color": "#E5ECF6",
              "width": 0.5
             },
             "pattern": {
              "fillmode": "overlay",
              "size": 10,
              "solidity": 0.2
             }
            },
            "type": "bar"
           }
          ],
          "barpolar": [
           {
            "marker": {
             "line": {
              "color": "#E5ECF6",
              "width": 0.5
             },
             "pattern": {
              "fillmode": "overlay",
              "size": 10,
              "solidity": 0.2
             }
            },
            "type": "barpolar"
           }
          ],
          "carpet": [
           {
            "aaxis": {
             "endlinecolor": "#2a3f5f",
             "gridcolor": "white",
             "linecolor": "white",
             "minorgridcolor": "white",
             "startlinecolor": "#2a3f5f"
            },
            "baxis": {
             "endlinecolor": "#2a3f5f",
             "gridcolor": "white",
             "linecolor": "white",
             "minorgridcolor": "white",
             "startlinecolor": "#2a3f5f"
            },
            "type": "carpet"
           }
          ],
          "choropleth": [
           {
            "colorbar": {
             "outlinewidth": 0,
             "ticks": ""
            },
            "type": "choropleth"
           }
          ],
          "contour": [
           {
            "colorbar": {
             "outlinewidth": 0,
             "ticks": ""
            },
            "colorscale": [
             [
              0,
              "#0d0887"
             ],
             [
              0.1111111111111111,
              "#46039f"
             ],
             [
              0.2222222222222222,
              "#7201a8"
             ],
             [
              0.3333333333333333,
              "#9c179e"
             ],
             [
              0.4444444444444444,
              "#bd3786"
             ],
             [
              0.5555555555555556,
              "#d8576b"
             ],
             [
              0.6666666666666666,
              "#ed7953"
             ],
             [
              0.7777777777777778,
              "#fb9f3a"
             ],
             [
              0.8888888888888888,
              "#fdca26"
             ],
             [
              1,
              "#f0f921"
             ]
            ],
            "type": "contour"
           }
          ],
          "contourcarpet": [
           {
            "colorbar": {
             "outlinewidth": 0,
             "ticks": ""
            },
            "type": "contourcarpet"
           }
          ],
          "heatmap": [
           {
            "colorbar": {
             "outlinewidth": 0,
             "ticks": ""
            },
            "colorscale": [
             [
              0,
              "#0d0887"
             ],
             [
              0.1111111111111111,
              "#46039f"
             ],
             [
              0.2222222222222222,
              "#7201a8"
             ],
             [
              0.3333333333333333,
              "#9c179e"
             ],
             [
              0.4444444444444444,
              "#bd3786"
             ],
             [
              0.5555555555555556,
              "#d8576b"
             ],
             [
              0.6666666666666666,
              "#ed7953"
             ],
             [
              0.7777777777777778,
              "#fb9f3a"
             ],
             [
              0.8888888888888888,
              "#fdca26"
             ],
             [
              1,
              "#f0f921"
             ]
            ],
            "type": "heatmap"
           }
          ],
          "heatmapgl": [
           {
            "colorbar": {
             "outlinewidth": 0,
             "ticks": ""
            },
            "colorscale": [
             [
              0,
              "#0d0887"
             ],
             [
              0.1111111111111111,
              "#46039f"
             ],
             [
              0.2222222222222222,
              "#7201a8"
             ],
             [
              0.3333333333333333,
              "#9c179e"
             ],
             [
              0.4444444444444444,
              "#bd3786"
             ],
             [
              0.5555555555555556,
              "#d8576b"
             ],
             [
              0.6666666666666666,
              "#ed7953"
             ],
             [
              0.7777777777777778,
              "#fb9f3a"
             ],
             [
              0.8888888888888888,
              "#fdca26"
             ],
             [
              1,
              "#f0f921"
             ]
            ],
            "type": "heatmapgl"
           }
          ],
          "histogram": [
           {
            "marker": {
             "pattern": {
              "fillmode": "overlay",
              "size": 10,
              "solidity": 0.2
             }
            },
            "type": "histogram"
           }
          ],
          "histogram2d": [
           {
            "colorbar": {
             "outlinewidth": 0,
             "ticks": ""
            },
            "colorscale": [
             [
              0,
              "#0d0887"
             ],
             [
              0.1111111111111111,
              "#46039f"
             ],
             [
              0.2222222222222222,
              "#7201a8"
             ],
             [
              0.3333333333333333,
              "#9c179e"
             ],
             [
              0.4444444444444444,
              "#bd3786"
             ],
             [
              0.5555555555555556,
              "#d8576b"
             ],
             [
              0.6666666666666666,
              "#ed7953"
             ],
             [
              0.7777777777777778,
              "#fb9f3a"
             ],
             [
              0.8888888888888888,
              "#fdca26"
             ],
             [
              1,
              "#f0f921"
             ]
            ],
            "type": "histogram2d"
           }
          ],
          "histogram2dcontour": [
           {
            "colorbar": {
             "outlinewidth": 0,
             "ticks": ""
            },
            "colorscale": [
             [
              0,
              "#0d0887"
             ],
             [
              0.1111111111111111,
              "#46039f"
             ],
             [
              0.2222222222222222,
              "#7201a8"
             ],
             [
              0.3333333333333333,
              "#9c179e"
             ],
             [
              0.4444444444444444,
              "#bd3786"
             ],
             [
              0.5555555555555556,
              "#d8576b"
             ],
             [
              0.6666666666666666,
              "#ed7953"
             ],
             [
              0.7777777777777778,
              "#fb9f3a"
             ],
             [
              0.8888888888888888,
              "#fdca26"
             ],
             [
              1,
              "#f0f921"
             ]
            ],
            "type": "histogram2dcontour"
           }
          ],
          "mesh3d": [
           {
            "colorbar": {
             "outlinewidth": 0,
             "ticks": ""
            },
            "type": "mesh3d"
           }
          ],
          "parcoords": [
           {
            "line": {
             "colorbar": {
              "outlinewidth": 0,
              "ticks": ""
             }
            },
            "type": "parcoords"
           }
          ],
          "pie": [
           {
            "automargin": true,
            "type": "pie"
           }
          ],
          "scatter": [
           {
            "fillpattern": {
             "fillmode": "overlay",
             "size": 10,
             "solidity": 0.2
            },
            "type": "scatter"
           }
          ],
          "scatter3d": [
           {
            "line": {
             "colorbar": {
              "outlinewidth": 0,
              "ticks": ""
             }
            },
            "marker": {
             "colorbar": {
              "outlinewidth": 0,
              "ticks": ""
             }
            },
            "type": "scatter3d"
           }
          ],
          "scattercarpet": [
           {
            "marker": {
             "colorbar": {
              "outlinewidth": 0,
              "ticks": ""
             }
            },
            "type": "scattercarpet"
           }
          ],
          "scattergeo": [
           {
            "marker": {
             "colorbar": {
              "outlinewidth": 0,
              "ticks": ""
             }
            },
            "type": "scattergeo"
           }
          ],
          "scattergl": [
           {
            "marker": {
             "colorbar": {
              "outlinewidth": 0,
              "ticks": ""
             }
            },
            "type": "scattergl"
           }
          ],
          "scattermapbox": [
           {
            "marker": {
             "colorbar": {
              "outlinewidth": 0,
              "ticks": ""
             }
            },
            "type": "scattermapbox"
           }
          ],
          "scatterpolar": [
           {
            "marker": {
             "colorbar": {
              "outlinewidth": 0,
              "ticks": ""
             }
            },
            "type": "scatterpolar"
           }
          ],
          "scatterpolargl": [
           {
            "marker": {
             "colorbar": {
              "outlinewidth": 0,
              "ticks": ""
             }
            },
            "type": "scatterpolargl"
           }
          ],
          "scatterternary": [
           {
            "marker": {
             "colorbar": {
              "outlinewidth": 0,
              "ticks": ""
             }
            },
            "type": "scatterternary"
           }
          ],
          "surface": [
           {
            "colorbar": {
             "outlinewidth": 0,
             "ticks": ""
            },
            "colorscale": [
             [
              0,
              "#0d0887"
             ],
             [
              0.1111111111111111,
              "#46039f"
             ],
             [
              0.2222222222222222,
              "#7201a8"
             ],
             [
              0.3333333333333333,
              "#9c179e"
             ],
             [
              0.4444444444444444,
              "#bd3786"
             ],
             [
              0.5555555555555556,
              "#d8576b"
             ],
             [
              0.6666666666666666,
              "#ed7953"
             ],
             [
              0.7777777777777778,
              "#fb9f3a"
             ],
             [
              0.8888888888888888,
              "#fdca26"
             ],
             [
              1,
              "#f0f921"
             ]
            ],
            "type": "surface"
           }
          ],
          "table": [
           {
            "cells": {
             "fill": {
              "color": "#EBF0F8"
             },
             "line": {
              "color": "white"
             }
            },
            "header": {
             "fill": {
              "color": "#C8D4E3"
             },
             "line": {
              "color": "white"
             }
            },
            "type": "table"
           }
          ]
         },
         "layout": {
          "annotationdefaults": {
           "arrowcolor": "#2a3f5f",
           "arrowhead": 0,
           "arrowwidth": 1
          },
          "autotypenumbers": "strict",
          "coloraxis": {
           "colorbar": {
            "outlinewidth": 0,
            "ticks": ""
           }
          },
          "colorscale": {
           "diverging": [
            [
             0,
             "#8e0152"
            ],
            [
             0.1,
             "#c51b7d"
            ],
            [
             0.2,
             "#de77ae"
            ],
            [
             0.3,
             "#f1b6da"
            ],
            [
             0.4,
             "#fde0ef"
            ],
            [
             0.5,
             "#f7f7f7"
            ],
            [
             0.6,
             "#e6f5d0"
            ],
            [
             0.7,
             "#b8e186"
            ],
            [
             0.8,
             "#7fbc41"
            ],
            [
             0.9,
             "#4d9221"
            ],
            [
             1,
             "#276419"
            ]
           ],
           "sequential": [
            [
             0,
             "#0d0887"
            ],
            [
             0.1111111111111111,
             "#46039f"
            ],
            [
             0.2222222222222222,
             "#7201a8"
            ],
            [
             0.3333333333333333,
             "#9c179e"
            ],
            [
             0.4444444444444444,
             "#bd3786"
            ],
            [
             0.5555555555555556,
             "#d8576b"
            ],
            [
             0.6666666666666666,
             "#ed7953"
            ],
            [
             0.7777777777777778,
             "#fb9f3a"
            ],
            [
             0.8888888888888888,
             "#fdca26"
            ],
            [
             1,
             "#f0f921"
            ]
           ],
           "sequentialminus": [
            [
             0,
             "#0d0887"
            ],
            [
             0.1111111111111111,
             "#46039f"
            ],
            [
             0.2222222222222222,
             "#7201a8"
            ],
            [
             0.3333333333333333,
             "#9c179e"
            ],
            [
             0.4444444444444444,
             "#bd3786"
            ],
            [
             0.5555555555555556,
             "#d8576b"
            ],
            [
             0.6666666666666666,
             "#ed7953"
            ],
            [
             0.7777777777777778,
             "#fb9f3a"
            ],
            [
             0.8888888888888888,
             "#fdca26"
            ],
            [
             1,
             "#f0f921"
            ]
           ]
          },
          "colorway": [
           "#636efa",
           "#EF553B",
           "#00cc96",
           "#ab63fa",
           "#FFA15A",
           "#19d3f3",
           "#FF6692",
           "#B6E880",
           "#FF97FF",
           "#FECB52"
          ],
          "font": {
           "color": "#2a3f5f"
          },
          "geo": {
           "bgcolor": "white",
           "lakecolor": "white",
           "landcolor": "#E5ECF6",
           "showlakes": true,
           "showland": true,
           "subunitcolor": "white"
          },
          "hoverlabel": {
           "align": "left"
          },
          "hovermode": "closest",
          "mapbox": {
           "style": "light"
          },
          "paper_bgcolor": "white",
          "plot_bgcolor": "#E5ECF6",
          "polar": {
           "angularaxis": {
            "gridcolor": "white",
            "linecolor": "white",
            "ticks": ""
           },
           "bgcolor": "#E5ECF6",
           "radialaxis": {
            "gridcolor": "white",
            "linecolor": "white",
            "ticks": ""
           }
          },
          "scene": {
           "xaxis": {
            "backgroundcolor": "#E5ECF6",
            "gridcolor": "white",
            "gridwidth": 2,
            "linecolor": "white",
            "showbackground": true,
            "ticks": "",
            "zerolinecolor": "white"
           },
           "yaxis": {
            "backgroundcolor": "#E5ECF6",
            "gridcolor": "white",
            "gridwidth": 2,
            "linecolor": "white",
            "showbackground": true,
            "ticks": "",
            "zerolinecolor": "white"
           },
           "zaxis": {
            "backgroundcolor": "#E5ECF6",
            "gridcolor": "white",
            "gridwidth": 2,
            "linecolor": "white",
            "showbackground": true,
            "ticks": "",
            "zerolinecolor": "white"
           }
          },
          "shapedefaults": {
           "line": {
            "color": "#2a3f5f"
           }
          },
          "ternary": {
           "aaxis": {
            "gridcolor": "white",
            "linecolor": "white",
            "ticks": ""
           },
           "baxis": {
            "gridcolor": "white",
            "linecolor": "white",
            "ticks": ""
           },
           "bgcolor": "#E5ECF6",
           "caxis": {
            "gridcolor": "white",
            "linecolor": "white",
            "ticks": ""
           }
          },
          "title": {
           "x": 0.05
          },
          "xaxis": {
           "automargin": true,
           "gridcolor": "white",
           "linecolor": "white",
           "ticks": "",
           "title": {
            "standoff": 15
           },
           "zerolinecolor": "white",
           "zerolinewidth": 2
          },
          "yaxis": {
           "automargin": true,
           "gridcolor": "white",
           "linecolor": "white",
           "ticks": "",
           "title": {
            "standoff": 15
           },
           "zerolinecolor": "white",
           "zerolinewidth": 2
          }
         }
        },
        "title": {
         "text": "Global Emissions 1990-2011"
        }
       }
      },
      "image/png": "[encoded data removed]",
      "text/html": [
       "<div>                            <div id=\"b57998da-1ff1-416c-ae44-fcc8185fc572\" class=\"plotly-graph-div\" style=\"height:525px; width:100%;\"></div>            <script type=\"text/javascript\">                require([\"plotly\"], function(Plotly) {                    window.PLOTLYENV=window.PLOTLYENV || {};                                    if (document.getElementById(\"b57998da-1ff1-416c-ae44-fcc8185fc572\")) {                    Plotly.newPlot(                        \"b57998da-1ff1-416c-ae44-fcc8185fc572\",                        [{\"labels\":[\"US\",\"China\",\"European Union\",\"Russian Federation\",\"Brazil\",\"India\",\"Rest of World\"],\"name\":\"GHG Emissions\",\"values\":[16,15,12,6,5,4,42],\"type\":\"pie\",\"domain\":{\"x\":[0.0,0.45],\"y\":[0.0,1.0]},\"hole\":0.4,\"hoverinfo\":\"label+percent+name\"},{\"labels\":[\"US\",\"China\",\"European Union\",\"Russian Federation\",\"Brazil\",\"India\",\"Rest of World\"],\"name\":\"CO2 Emissions\",\"values\":[27,11,25,8,1,3,25],\"type\":\"pie\",\"domain\":{\"x\":[0.55,1.0],\"y\":[0.0,1.0]},\"hole\":0.4,\"hoverinfo\":\"label+percent+name\"}],                        {\"template\":{\"data\":{\"histogram2dcontour\":[{\"type\":\"histogram2dcontour\",\"colorbar\":{\"outlinewidth\":0,\"ticks\":\"\"},\"colorscale\":[[0.0,\"#0d0887\"],[0.1111111111111111,\"#46039f\"],[0.2222222222222222,\"#7201a8\"],[0.3333333333333333,\"#9c179e\"],[0.4444444444444444,\"#bd3786\"],[0.5555555555555556,\"#d8576b\"],[0.6666666666666666,\"#ed7953\"],[0.7777777777777778,\"#fb9f3a\"],[0.8888888888888888,\"#fdca26\"],[1.0,\"#f0f921\"]]}],\"choropleth\":[{\"type\":\"choropleth\",\"colorbar\":{\"outlinewidth\":0,\"ticks\":\"\"}}],\"histogram2d\":[{\"type\":\"histogram2d\",\"colorbar\":{\"outlinewidth\":0,\"ticks\":\"\"},\"colorscale\":[[0.0,\"#0d0887\"],[0.1111111111111111,\"#46039f\"],[0.2222222222222222,\"#7201a8\"],[0.3333333333333333,\"#9c179e\"],[0.4444444444444444,\"#bd3786\"],[0.5555555555555556,\"#d8576b\"],[0.6666666666666666,\"#ed7953\"],[0.7777777777777778,\"#fb9f3a\"],[0.8888888888888888,\"#fdca26\"],[1.0,\"#f0f921\"]]}],\"heatmap\":[{\"type\":\"heatmap\",\"colorbar\":{\"outlinewidth\":0,\"ticks\":\"\"},\"colorscale\":[[0.0,\"#0d0887\"],[0.1111111111111111,\"#46039f\"],[0.2222222222222222,\"#7201a8\"],[0.3333333333333333,\"#9c179e\"],[0.4444444444444444,\"#bd3786\"],[0.5555555555555556,\"#d8576b\"],[0.6666666666666666,\"#ed7953\"],[0.7777777777777778,\"#fb9f3a\"],[0.8888888888888888,\"#fdca26\"],[1.0,\"#f0f921\"]]}],\"heatmapgl\":[{\"type\":\"heatmapgl\",\"colorbar\":{\"outlinewidth\":0,\"ticks\":\"\"},\"colorscale\":[[0.0,\"#0d0887\"],[0.1111111111111111,\"#46039f\"],[0.2222222222222222,\"#7201a8\"],[0.3333333333333333,\"#9c179e\"],[0.4444444444444444,\"#bd3786\"],[0.5555555555555556,\"#d8576b\"],[0.6666666666666666,\"#ed7953\"],[0.7777777777777778,\"#fb9f3a\"],[0.8888888888888888,\"#fdca26\"],[1.0,\"#f0f921\"]]}],\"contourcarpet\":[{\"type\":\"contourcarpet\",\"colorbar\":{\"outlinewidth\":0,\"ticks\":\"\"}}],\"contour\":[{\"type\":\"contour\",\"colorbar\":{\"outlinewidth\":0,\"ticks\":\"\"},\"colorscale\":[[0.0,\"#0d0887\"],[0.1111111111111111,\"#46039f\"],[0.2222222222222222,\"#7201a8\"],[0.3333333333333333,\"#9c179e\"],[0.4444444444444444,\"#bd3786\"],[0.5555555555555556,\"#d8576b\"],[0.6666666666666666,\"#ed7953\"],[0.7777777777777778,\"#fb9f3a\"],[0.8888888888888888,\"#fdca26\"],[1.0,\"#f0f921\"]]}],\"surface\":[{\"type\":\"surface\",\"colorbar\":{\"outlinewidth\":0,\"ticks\":\"\"},\"colorscale\":[[0.0,\"#0d0887\"],[0.1111111111111111,\"#46039f\"],[0.2222222222222222,\"#7201a8\"],[0.3333333333333333,\"#9c179e\"],[0.4444444444444444,\"#bd3786\"],[0.5555555555555556,\"#d8576b\"],[0.6666666666666666,\"#ed7953\"],[0.7777777777777778,\"#fb9f3a\"],[0.8888888888888888,\"#fdca26\"],[1.0,\"#f0f921\"]]}],\"mesh3d\":[{\"type\":\"mesh3d\",\"colorbar\":{\"outlinewidth\":0,\"ticks\":\"\"}}],\"scatter\":[{\"fillpattern\":{\"fillmode\":\"overlay\",\"size\":10,\"solidity\":0.2},\"type\":\"scatter\"}],\"parcoords\":[{\"type\":\"parcoords\",\"line\":{\"colorbar\":{\"outlinewidth\":0,\"ticks\":\"\"}}}],\"scatterpolargl\":[{\"type\":\"scatterpolargl\",\"marker\":{\"colorbar\":{\"outlinewidth\":0,\"ticks\":\"\"}}}],\"bar\":[{\"error_x\":{\"color\":\"#2a3f5f\"},\"error_y\":{\"color\":\"#2a3f5f\"},\"marker\":{\"line\":{\"color\":\"#E5ECF6\",\"width\":0.5},\"pattern\":{\"fillmode\":\"overlay\",\"size\":10,\"solidity\":0.2}},\"type\":\"bar\"}],\"scattergeo\":[{\"type\":\"scattergeo\",\"marker\":{\"colorbar\":{\"outlinewidth\":0,\"ticks\":\"\"}}}],\"scatterpolar\":[{\"type\":\"scatterpolar\",\"marker\":{\"colorbar\":{\"outlinewidth\":0,\"ticks\":\"\"}}}],\"histogram\":[{\"marker\":{\"pattern\":{\"fillmode\":\"overlay\",\"size\":10,\"solidity\":0.2}},\"type\":\"histogram\"}],\"scattergl\":[{\"type\":\"scattergl\",\"marker\":{\"colorbar\":{\"outlinewidth\":0,\"ticks\":\"\"}}}],\"scatter3d\":[{\"type\":\"scatter3d\",\"line\":{\"colorbar\":{\"outlinewidth\":0,\"ticks\":\"\"}},\"marker\":{\"colorbar\":{\"outlinewidth\":0,\"ticks\":\"\"}}}],\"scattermapbox\":[{\"type\":\"scattermapbox\",\"marker\":{\"colorbar\":{\"outlinewidth\":0,\"ticks\":\"\"}}}],\"scatterternary\":[{\"type\":\"scatterternary\",\"marker\":{\"colorbar\":{\"outlinewidth\":0,\"ticks\":\"\"}}}],\"scattercarpet\":[{\"type\":\"scattercarpet\",\"marker\":{\"colorbar\":{\"outlinewidth\":0,\"ticks\":\"\"}}}],\"carpet\":[{\"aaxis\":{\"endlinecolor\":\"#2a3f5f\",\"gridcolor\":\"white\",\"linecolor\":\"white\",\"minorgridcolor\":\"white\",\"startlinecolor\":\"#2a3f5f\"},\"baxis\":{\"endlinecolor\":\"#2a3f5f\",\"gridcolor\":\"white\",\"linecolor\":\"white\",\"minorgridcolor\":\"white\",\"startlinecolor\":\"#2a3f5f\"},\"type\":\"carpet\"}],\"table\":[{\"cells\":{\"fill\":{\"color\":\"#EBF0F8\"},\"line\":{\"color\":\"white\"}},\"header\":{\"fill\":{\"color\":\"#C8D4E3\"},\"line\":{\"color\":\"white\"}},\"type\":\"table\"}],\"barpolar\":[{\"marker\":{\"line\":{\"color\":\"#E5ECF6\",\"width\":0.5},\"pattern\":{\"fillmode\":\"overlay\",\"size\":10,\"solidity\":0.2}},\"type\":\"barpolar\"}],\"pie\":[{\"automargin\":true,\"type\":\"pie\"}]},\"layout\":{\"autotypenumbers\":\"strict\",\"colorway\":[\"#636efa\",\"#EF553B\",\"#00cc96\",\"#ab63fa\",\"#FFA15A\",\"#19d3f3\",\"#FF6692\",\"#B6E880\",\"#FF97FF\",\"#FECB52\"],\"font\":{\"color\":\"#2a3f5f\"},\"hovermode\":\"closest\",\"hoverlabel\":{\"align\":\"left\"},\"paper_bgcolor\":\"white\",\"plot_bgcolor\":\"#E5ECF6\",\"polar\":{\"bgcolor\":\"#E5ECF6\",\"angularaxis\":{\"gridcolor\":\"white\",\"linecolor\":\"white\",\"ticks\":\"\"},\"radialaxis\":{\"gridcolor\":\"white\",\"linecolor\":\"white\",\"ticks\":\"\"}},\"ternary\":{\"bgcolor\":\"#E5ECF6\",\"aaxis\":{\"gridcolor\":\"white\",\"linecolor\":\"white\",\"ticks\":\"\"},\"baxis\":{\"gridcolor\":\"white\",\"linecolor\":\"white\",\"ticks\":\"\"},\"caxis\":{\"gridcolor\":\"white\",\"linecolor\":\"white\",\"ticks\":\"\"}},\"coloraxis\":{\"colorbar\":{\"outlinewidth\":0,\"ticks\":\"\"}},\"colorscale\":{\"sequential\":[[0.0,\"#0d0887\"],[0.1111111111111111,\"#46039f\"],[0.2222222222222222,\"#7201a8\"],[0.3333333333333333,\"#9c179e\"],[0.4444444444444444,\"#bd3786\"],[0.5555555555555556,\"#d8576b\"],[0.6666666666666666,\"#ed7953\"],[0.7777777777777778,\"#fb9f3a\"],[0.8888888888888888,\"#fdca26\"],[1.0,\"#f0f921\"]],\"sequentialminus\":[[0.0,\"#0d0887\"],[0.1111111111111111,\"#46039f\"],[0.2222222222222222,\"#7201a8\"],[0.3333333333333333,\"#9c179e\"],[0.4444444444444444,\"#bd3786\"],[0.5555555555555556,\"#d8576b\"],[0.6666666666666666,\"#ed7953\"],[0.7777777777777778,\"#fb9f3a\"],[0.8888888888888888,\"#fdca26\"],[1.0,\"#f0f921\"]],\"diverging\":[[0,\"#8e0152\"],[0.1,\"#c51b7d\"],[0.2,\"#de77ae\"],[0.3,\"#f1b6da\"],[0.4,\"#fde0ef\"],[0.5,\"#f7f7f7\"],[0.6,\"#e6f5d0\"],[0.7,\"#b8e186\"],[0.8,\"#7fbc41\"],[0.9,\"#4d9221\"],[1,\"#276419\"]]},\"xaxis\":{\"gridcolor\":\"white\",\"linecolor\":\"white\",\"ticks\":\"\",\"title\":{\"standoff\":15},\"zerolinecolor\":\"white\",\"automargin\":true,\"zerolinewidth\":2},\"yaxis\":{\"gridcolor\":\"white\",\"linecolor\":\"white\",\"ticks\":\"\",\"title\":{\"standoff\":15},\"zerolinecolor\":\"white\",\"automargin\":true,\"zerolinewidth\":2},\"scene\":{\"xaxis\":{\"backgroundcolor\":\"#E5ECF6\",\"gridcolor\":\"white\",\"linecolor\":\"white\",\"showbackground\":true,\"ticks\":\"\",\"zerolinecolor\":\"white\",\"gridwidth\":2},\"yaxis\":{\"backgroundcolor\":\"#E5ECF6\",\"gridcolor\":\"white\",\"linecolor\":\"white\",\"showbackground\":true,\"ticks\":\"\",\"zerolinecolor\":\"white\",\"gridwidth\":2},\"zaxis\":{\"backgroundcolor\":\"#E5ECF6\",\"gridcolor\":\"white\",\"linecolor\":\"white\",\"showbackground\":true,\"ticks\":\"\",\"zerolinecolor\":\"white\",\"gridwidth\":2}},\"shapedefaults\":{\"line\":{\"color\":\"#2a3f5f\"}},\"annotationdefaults\":{\"arrowcolor\":\"#2a3f5f\",\"arrowhead\":0,\"arrowwidth\":1},\"geo\":{\"bgcolor\":\"white\",\"landcolor\":\"#E5ECF6\",\"subunitcolor\":\"white\",\"showland\":true,\"showlakes\":true,\"lakecolor\":\"white\"},\"title\":{\"x\":0.05},\"mapbox\":{\"style\":\"light\"}}},\"title\":{\"text\":\"Global Emissions 1990-2011\"},\"annotations\":[{\"showarrow\":false,\"text\":\"GHG\",\"x\":0.18,\"y\":0.5,\"font\":{\"size\":20}},{\"showarrow\":false,\"text\":\"CO2\",\"x\":0.82,\"y\":0.5,\"font\":{\"size\":20}}]},                        {\"responsive\": true}                    ).then(function(){\n",
       "                            \n",
       "var gd = document.getElementById('b57998da-1ff1-416c-ae44-fcc8185fc572');\n",
       "var x = new MutationObserver(function (mutations, observer) {{\n",
       "        var display = window.getComputedStyle(gd).display;\n",
       "        if (!display || display === 'none') {{\n",
       "            console.log([gd, 'removed!']);\n",
       "            Plotly.purge(gd);\n",
       "            observer.disconnect();\n",
       "        }}\n",
       "}});\n",
       "\n",
       "// Listen for the removal of the full notebook cells\n",
       "var notebookContainer = gd.closest('#notebook-container');\n",
       "if (notebookContainer) {{\n",
       "    x.observe(notebookContainer, {childList: true});\n",
       "}}\n",
       "\n",
       "// Listen for the clearing of the current output cell\n",
       "var outputEl = gd.closest('.output');\n",
       "if (outputEl) {{\n",
       "    x.observe(outputEl, {childList: true});\n",
       "}}\n",
       "\n",
       "                        })                };                });            </script>        </div>"
      ]
     },
     "metadata": {},
     "output_type": "display_data"
    }
   ],
   "source": [
    "status_51 = df_51[]\n",
    "status_62 =\n",
    "status_93 =\n",
    "status_104 =\n",
    "status_14 =\n",
    "\n",
    "labels_51 = \n",
    "labels_62 =\n",
    "labels_93 =\n",
    "labels_104 = \n",
    "labels_14 = \n",
    "\n",
    "values_51 = \n",
    "values_62 =\n",
    "values_93 =\n",
    "values_104 =\n",
    "values_14 =\n",
    "\n",
    "# Create subplots: use 'domain' type for Pie subplot\n",
    "fig = make_subplots(rows=1, cols=2, specs=[[{'type':'domain'}, {'type':'domain'}]])\n",
    "fig.add_trace(go.Pie(labels=labels, values=[16, 15, 12, 6, 5, 4, 42], name=\"GHG Emissions\"),\n",
    "              1, 1)\n",
    "fig.add_trace(go.Pie(labels=labels, values=[27, 11, 25, 8, 1, 3, 25], name=\"CO2 Emissions\"),\n",
    "              1, 2)\n",
    "\n",
    "# Use `hole` to create a donut-like pie chart\n",
    "fig.update_traces(hole=.4, hoverinfo=\"label+percent+name\")\n",
    "\n",
    "fig.update_layout(\n",
    "    title_text=\"Global Emissions 1990-2011\",\n",
    "    # Add annotations in the center of the donut pies.\n",
    "    annotations=[dict(text='GHG', x=0.18, y=0.5, font_size=20, showarrow=False),\n",
    "                 dict(text='CO2', x=0.82, y=0.5, font_size=20, showarrow=False)])\n",
    "fig.show()"
   ]
  },
  {
   "cell_type": "code",
   "execution_count": 35,
   "id": "69a35525-a6ba-4cea-b880-8f608c31a0a7",
   "metadata": {},
   "outputs": [
    {
     "data": {
      "image/png": "[encoded data removed]",
      "text/plain": [
       "<Figure size 1080x576 with 1 Axes>"
      ]
     },
     "metadata": {},
     "output_type": "display_data"
    }
   ],
   "source": [
    "#visualisasi kolom status zonasi dengan menampilkan persentasenya\n",
    "\n",
    "kategori = ['Zonasi 3', 'Zonasi 2', 'Belum Diketahui', 'Zonasi 1']\n",
    "data = [2595, 46, 935, 20]\n",
    "explode = [0, 0, 0, 0]\n",
    "warna =['pink', 'cyan', '#e03364', 'yellowgreen']\n",
    "#colors = sns.color_palette('bright')\n",
    "\n",
    "plt.pie(data,\n",
    "       labels=kategori,\n",
    "       colors=warna,\n",
    "       autopct='%0f%%',\n",
    "       startangle=90,\n",
    "       explode=explode)\n",
    "\n",
    "sns.set_theme()\n",
    "rcParams['figure.figsize'] = 15,8\n",
    "plt.legend(loc='lower right')\n",
    "plt.title('Pembagian Status Zonasi', color='white')\n",
    "plt.show()"
   ]
  },
  {
   "cell_type": "code",
   "execution_count": 119,
   "id": "a6c98e40-51e1-4e0a-b0fd-821f1a764b43",
   "metadata": {},
   "outputs": [
    {
     "data": {
      "application/vnd.plotly.v1+json": {
       "config": {
        "linkText": "Export to plot.ly",
        "plotlyServerURL": "https://plot.ly",
        "showLink": false
       },
       "data": [
        {
         "type": "bar",
         "x": [
          "35",
          "126",
          "20",
          209,
          "150",
          "281",
          "49",
          "182",
          "163",
          223,
          "227",
          50,
          102,
          "238",
          268,
          "239",
          "107",
          "154",
          80,
          275,
          "155",
          263,
          257,
          "41",
          103,
          "24",
          214,
          222,
          259,
          "210",
          287,
          246,
          179,
          272,
          128,
          "218",
          208,
          217,
          184,
          106,
          251,
          81,
          203,
          171,
          188
         ],
         "y": [
          364,
          282,
          278,
          276,
          263,
          244,
          226,
          218,
          199,
          185,
          139,
          131,
          108,
          106,
          104,
          76,
          71,
          62,
          48,
          34,
          33,
          23,
          15,
          14,
          11,
          10,
          9,
          7,
          7,
          6,
          6,
          5,
          5,
          5,
          4,
          4,
          4,
          3,
          2,
          2,
          2,
          2,
          1,
          1,
          1
         ]
        }
       ],
       "layout": {
        "autosize": true,
        "dragmode": "pan",
        "template": {
         "data": {
          "bar": [
           {
            "error_x": {
             "color": "#2a3f5f"
            },
            "error_y": {
             "color": "#2a3f5f"
            },
            "marker": {
             "line": {
              "color": "#E5ECF6",
              "width": 0.5
             },
             "pattern": {
              "fillmode": "overlay",
              "size": 10,
              "solidity": 0.2
             }
            },
            "type": "bar"
           }
          ],
          "barpolar": [
           {
            "marker": {
             "line": {
              "color": "#E5ECF6",
              "width": 0.5
             },
             "pattern": {
              "fillmode": "overlay",
              "size": 10,
              "solidity": 0.2
             }
            },
            "type": "barpolar"
           }
          ],
          "carpet": [
           {
            "aaxis": {
             "endlinecolor": "#2a3f5f",
             "gridcolor": "white",
             "linecolor": "white",
             "minorgridcolor": "white",
             "startlinecolor": "#2a3f5f"
            },
            "baxis": {
             "endlinecolor": "#2a3f5f",
             "gridcolor": "white",
             "linecolor": "white",
             "minorgridcolor": "white",
             "startlinecolor": "#2a3f5f"
            },
            "type": "carpet"
           }
          ],
          "choropleth": [
           {
            "colorbar": {
             "outlinewidth": 0,
             "ticks": ""
            },
            "type": "choropleth"
           }
          ],
          "contour": [
           {
            "colorbar": {
             "outlinewidth": 0,
             "ticks": ""
            },
            "colorscale": [
             [
              0,
              "#0d0887"
             ],
             [
              0.1111111111111111,
              "#46039f"
             ],
             [
              0.2222222222222222,
              "#7201a8"
             ],
             [
              0.3333333333333333,
              "#9c179e"
             ],
             [
              0.4444444444444444,
              "#bd3786"
             ],
             [
              0.5555555555555556,
              "#d8576b"
             ],
             [
              0.6666666666666666,
              "#ed7953"
             ],
             [
              0.7777777777777778,
              "#fb9f3a"
             ],
             [
              0.8888888888888888,
              "#fdca26"
             ],
             [
              1,
              "#f0f921"
             ]
            ],
            "type": "contour"
           }
          ],
          "contourcarpet": [
           {
            "colorbar": {
             "outlinewidth": 0,
             "ticks": ""
            },
            "type": "contourcarpet"
           }
          ],
          "heatmap": [
           {
            "colorbar": {
             "outlinewidth": 0,
             "ticks": ""
            },
            "colorscale": [
             [
              0,
              "#0d0887"
             ],
             [
              0.1111111111111111,
              "#46039f"
             ],
             [
              0.2222222222222222,
              "#7201a8"
             ],
             [
              0.3333333333333333,
              "#9c179e"
             ],
             [
              0.4444444444444444,
              "#bd3786"
             ],
             [
              0.5555555555555556,
              "#d8576b"
             ],
             [
              0.6666666666666666,
              "#ed7953"
             ],
             [
              0.7777777777777778,
              "#fb9f3a"
             ],
             [
              0.8888888888888888,
              "#fdca26"
             ],
             [
              1,
              "#f0f921"
             ]
            ],
            "type": "heatmap"
           }
          ],
          "heatmapgl": [
           {
            "colorbar": {
             "outlinewidth": 0,
             "ticks": ""
            },
            "colorscale": [
             [
              0,
              "#0d0887"
             ],
             [
              0.1111111111111111,
              "#46039f"
             ],
             [
              0.2222222222222222,
              "#7201a8"
             ],
             [
              0.3333333333333333,
              "#9c179e"
             ],
             [
              0.4444444444444444,
              "#bd3786"
             ],
             [
              0.5555555555555556,
              "#d8576b"
             ],
             [
              0.6666666666666666,
              "#ed7953"
             ],
             [
              0.7777777777777778,
              "#fb9f3a"
             ],
             [
              0.8888888888888888,
              "#fdca26"
             ],
             [
              1,
              "#f0f921"
             ]
            ],
            "type": "heatmapgl"
           }
          ],
          "histogram": [
           {
            "marker": {
             "pattern": {
              "fillmode": "overlay",
              "size": 10,
              "solidity": 0.2
             }
            },
            "type": "histogram"
           }
          ],
          "histogram2d": [
           {
            "colorbar": {
             "outlinewidth": 0,
             "ticks": ""
            },
            "colorscale": [
             [
              0,
              "#0d0887"
             ],
             [
              0.1111111111111111,
              "#46039f"
             ],
             [
              0.2222222222222222,
              "#7201a8"
             ],
             [
              0.3333333333333333,
              "#9c179e"
             ],
             [
              0.4444444444444444,
              "#bd3786"
             ],
             [
              0.5555555555555556,
              "#d8576b"
             ],
             [
              0.6666666666666666,
              "#ed7953"
             ],
             [
              0.7777777777777778,
              "#fb9f3a"
             ],
             [
              0.8888888888888888,
              "#fdca26"
             ],
             [
              1,
              "#f0f921"
             ]
            ],
            "type": "histogram2d"
           }
          ],
          "histogram2dcontour": [
           {
            "colorbar": {
             "outlinewidth": 0,
             "ticks": ""
            },
            "colorscale": [
             [
              0,
              "#0d0887"
             ],
             [
              0.1111111111111111,
              "#46039f"
             ],
             [
              0.2222222222222222,
              "#7201a8"
             ],
             [
              0.3333333333333333,
              "#9c179e"
             ],
             [
              0.4444444444444444,
              "#bd3786"
             ],
             [
              0.5555555555555556,
              "#d8576b"
             ],
             [
              0.6666666666666666,
              "#ed7953"
             ],
             [
              0.7777777777777778,
              "#fb9f3a"
             ],
             [
              0.8888888888888888,
              "#fdca26"
             ],
             [
              1,
              "#f0f921"
             ]
            ],
            "type": "histogram2dcontour"
           }
          ],
          "mesh3d": [
           {
            "colorbar": {
             "outlinewidth": 0,
             "ticks": ""
            },
            "type": "mesh3d"
           }
          ],
          "parcoords": [
           {
            "line": {
             "colorbar": {
              "outlinewidth": 0,
              "ticks": ""
             }
            },
            "type": "parcoords"
           }
          ],
          "pie": [
           {
            "automargin": true,
            "type": "pie"
           }
          ],
          "scatter": [
           {
            "fillpattern": {
             "fillmode": "overlay",
             "size": 10,
             "solidity": 0.2
            },
            "type": "scatter"
           }
          ],
          "scatter3d": [
           {
            "line": {
             "colorbar": {
              "outlinewidth": 0,
              "ticks": ""
             }
            },
            "marker": {
             "colorbar": {
              "outlinewidth": 0,
              "ticks": ""
             }
            },
            "type": "scatter3d"
           }
          ],
          "scattercarpet": [
           {
            "marker": {
             "colorbar": {
              "outlinewidth": 0,
              "ticks": ""
             }
            },
            "type": "scattercarpet"
           }
          ],
          "scattergeo": [
           {
            "marker": {
             "colorbar": {
              "outlinewidth": 0,
              "ticks": ""
             }
            },
            "type": "scattergeo"
           }
          ],
          "scattergl": [
           {
            "marker": {
             "colorbar": {
              "outlinewidth": 0,
              "ticks": ""
             }
            },
            "type": "scattergl"
           }
          ],
          "scattermapbox": [
           {
            "marker": {
             "colorbar": {
              "outlinewidth": 0,
              "ticks": ""
             }
            },
            "type": "scattermapbox"
           }
          ],
          "scatterpolar": [
           {
            "marker": {
             "colorbar": {
              "outlinewidth": 0,
              "ticks": ""
             }
            },
            "type": "scatterpolar"
           }
          ],
          "scatterpolargl": [
           {
            "marker": {
             "colorbar": {
              "outlinewidth": 0,
              "ticks": ""
             }
            },
            "type": "scatterpolargl"
           }
          ],
          "scatterternary": [
           {
            "marker": {
             "colorbar": {
              "outlinewidth": 0,
              "ticks": ""
             }
            },
            "type": "scatterternary"
           }
          ],
          "surface": [
           {
            "colorbar": {
             "outlinewidth": 0,
             "ticks": ""
            },
            "colorscale": [
             [
              0,
              "#0d0887"
             ],
             [
              0.1111111111111111,
              "#46039f"
             ],
             [
              0.2222222222222222,
              "#7201a8"
             ],
             [
              0.3333333333333333,
              "#9c179e"
             ],
             [
              0.4444444444444444,
              "#bd3786"
             ],
             [
              0.5555555555555556,
              "#d8576b"
             ],
             [
              0.6666666666666666,
              "#ed7953"
             ],
             [
              0.7777777777777778,
              "#fb9f3a"
             ],
             [
              0.8888888888888888,
              "#fdca26"
             ],
             [
              1,
              "#f0f921"
             ]
            ],
            "type": "surface"
           }
          ],
          "table": [
           {
            "cells": {
             "fill": {
              "color": "#EBF0F8"
             },
             "line": {
              "color": "white"
             }
            },
            "header": {
             "fill": {
              "color": "#C8D4E3"
             },
             "line": {
              "color": "white"
             }
            },
            "type": "table"
           }
          ]
         },
         "layout": {
          "annotationdefaults": {
           "arrowcolor": "#2a3f5f",
           "arrowhead": 0,
           "arrowwidth": 1
          },
          "autotypenumbers": "strict",
          "coloraxis": {
           "colorbar": {
            "outlinewidth": 0,
            "ticks": ""
           }
          },
          "colorscale": {
           "diverging": [
            [
             0,
             "#8e0152"
            ],
            [
             0.1,
             "#c51b7d"
            ],
            [
             0.2,
             "#de77ae"
            ],
            [
             0.3,
             "#f1b6da"
            ],
            [
             0.4,
             "#fde0ef"
            ],
            [
             0.5,
             "#f7f7f7"
            ],
            [
             0.6,
             "#e6f5d0"
            ],
            [
             0.7,
             "#b8e186"
            ],
            [
             0.8,
             "#7fbc41"
            ],
            [
             0.9,
             "#4d9221"
            ],
            [
             1,
             "#276419"
            ]
           ],
           "sequential": [
            [
             0,
             "#0d0887"
            ],
            [
             0.1111111111111111,
             "#46039f"
            ],
            [
             0.2222222222222222,
             "#7201a8"
            ],
            [
             0.3333333333333333,
             "#9c179e"
            ],
            [
             0.4444444444444444,
             "#bd3786"
            ],
            [
             0.5555555555555556,
             "#d8576b"
            ],
            [
             0.6666666666666666,
             "#ed7953"
            ],
            [
             0.7777777777777778,
             "#fb9f3a"
            ],
            [
             0.8888888888888888,
             "#fdca26"
            ],
            [
             1,
             "#f0f921"
            ]
           ],
           "sequentialminus": [
            [
             0,
             "#0d0887"
            ],
            [
             0.1111111111111111,
             "#46039f"
            ],
            [
             0.2222222222222222,
             "#7201a8"
            ],
            [
             0.3333333333333333,
             "#9c179e"
            ],
            [
             0.4444444444444444,
             "#bd3786"
            ],
            [
             0.5555555555555556,
             "#d8576b"
            ],
            [
             0.6666666666666666,
             "#ed7953"
            ],
            [
             0.7777777777777778,
             "#fb9f3a"
            ],
            [
             0.8888888888888888,
             "#fdca26"
            ],
            [
             1,
             "#f0f921"
            ]
           ]
          },
          "colorway": [
           "#636efa",
           "#EF553B",
           "#00cc96",
           "#ab63fa",
           "#FFA15A",
           "#19d3f3",
           "#FF6692",
           "#B6E880",
           "#FF97FF",
           "#FECB52"
          ],
          "font": {
           "color": "#2a3f5f"
          },
          "geo": {
           "bgcolor": "white",
           "lakecolor": "white",
           "landcolor": "#E5ECF6",
           "showlakes": true,
           "showland": true,
           "subunitcolor": "white"
          },
          "hoverlabel": {
           "align": "left"
          },
          "hovermode": "closest",
          "mapbox": {
           "style": "light"
          },
          "paper_bgcolor": "white",
          "plot_bgcolor": "#E5ECF6",
          "polar": {
           "angularaxis": {
            "gridcolor": "white",
            "linecolor": "white",
            "ticks": ""
           },
           "bgcolor": "#E5ECF6",
           "radialaxis": {
            "gridcolor": "white",
            "linecolor": "white",
            "ticks": ""
           }
          },
          "scene": {
           "xaxis": {
            "backgroundcolor": "#E5ECF6",
            "gridcolor": "white",
            "gridwidth": 2,
            "linecolor": "white",
            "showbackground": true,
            "ticks": "",
            "zerolinecolor": "white"
           },
           "yaxis": {
            "backgroundcolor": "#E5ECF6",
            "gridcolor": "white",
            "gridwidth": 2,
            "linecolor": "white",
            "showbackground": true,
            "ticks": "",
            "zerolinecolor": "white"
           },
           "zaxis": {
            "backgroundcolor": "#E5ECF6",
            "gridcolor": "white",
            "gridwidth": 2,
            "linecolor": "white",
            "showbackground": true,
            "ticks": "",
            "zerolinecolor": "white"
           }
          },
          "shapedefaults": {
           "line": {
            "color": "#2a3f5f"
           }
          },
          "ternary": {
           "aaxis": {
            "gridcolor": "white",
            "linecolor": "white",
            "ticks": ""
           },
           "baxis": {
            "gridcolor": "white",
            "linecolor": "white",
            "ticks": ""
           },
           "bgcolor": "#E5ECF6",
           "caxis": {
            "gridcolor": "white",
            "linecolor": "white",
            "ticks": ""
           }
          },
          "title": {
           "x": 0.05
          },
          "xaxis": {
           "automargin": true,
           "gridcolor": "white",
           "linecolor": "white",
           "ticks": "",
           "title": {
            "standoff": 15
           },
           "zerolinecolor": "white",
           "zerolinewidth": 2
          },
          "yaxis": {
           "automargin": true,
           "gridcolor": "white",
           "linecolor": "white",
           "ticks": "",
           "title": {
            "standoff": 15
           },
           "zerolinecolor": "white",
           "zerolinewidth": 2
          }
         }
        },
        "xaxis": {
         "autorange": true,
         "range": [
          19.5,
          287.5
         ],
         "showspikes": false,
         "type": "linear"
        },
        "yaxis": {
         "autorange": true,
         "range": [
          0,
          383.1578947368421
         ],
         "showspikes": false,
         "type": "linear"
        }
       }
      },
      "image/png": "[encoded data removed]",
      "text/html": [
       "<div>                            <div id=\"3454b7fd-c391-4295-99cf-56b52b2a2b59\" class=\"plotly-graph-div\" style=\"height:525px; width:100%;\"></div>            <script type=\"text/javascript\">                require([\"plotly\"], function(Plotly) {                    window.PLOTLYENV=window.PLOTLYENV || {};                                    if (document.getElementById(\"3454b7fd-c391-4295-99cf-56b52b2a2b59\")) {                    Plotly.newPlot(                        \"3454b7fd-c391-4295-99cf-56b52b2a2b59\",                        [{\"x\":[\"35\",\"126\",\"20\",209,\"150\",\"281\",\"49\",\"182\",\"163\",223,\"227\",50,102,\"238\",268,\"239\",\"107\",\"154\",80,275,\"155\",263,257,\"41\",103,\"24\",214,222,259,\"210\",287,246,179,272,128,\"218\",208,217,184,106,251,81,203,171,188],\"y\":[364,282,278,276,263,244,226,218,199,185,139,131,108,106,104,76,71,62,48,34,33,23,15,14,11,10,9,7,7,6,6,5,5,5,4,4,4,3,2,2,2,2,1,1,1],\"type\":\"bar\"}],                        {\"template\":{\"data\":{\"barpolar\":[{\"marker\":{\"line\":{\"color\":\"#E5ECF6\",\"width\":0.5},\"pattern\":{\"fillmode\":\"overlay\",\"size\":10,\"solidity\":0.2}},\"type\":\"barpolar\"}],\"bar\":[{\"error_x\":{\"color\":\"#2a3f5f\"},\"error_y\":{\"color\":\"#2a3f5f\"},\"marker\":{\"line\":{\"color\":\"#E5ECF6\",\"width\":0.5},\"pattern\":{\"fillmode\":\"overlay\",\"size\":10,\"solidity\":0.2}},\"type\":\"bar\"}],\"carpet\":[{\"aaxis\":{\"endlinecolor\":\"#2a3f5f\",\"gridcolor\":\"white\",\"linecolor\":\"white\",\"minorgridcolor\":\"white\",\"startlinecolor\":\"#2a3f5f\"},\"baxis\":{\"endlinecolor\":\"#2a3f5f\",\"gridcolor\":\"white\",\"linecolor\":\"white\",\"minorgridcolor\":\"white\",\"startlinecolor\":\"#2a3f5f\"},\"type\":\"carpet\"}],\"choropleth\":[{\"colorbar\":{\"outlinewidth\":0,\"ticks\":\"\"},\"type\":\"choropleth\"}],\"contourcarpet\":[{\"colorbar\":{\"outlinewidth\":0,\"ticks\":\"\"},\"type\":\"contourcarpet\"}],\"contour\":[{\"colorbar\":{\"outlinewidth\":0,\"ticks\":\"\"},\"colorscale\":[[0.0,\"#0d0887\"],[0.1111111111111111,\"#46039f\"],[0.2222222222222222,\"#7201a8\"],[0.3333333333333333,\"#9c179e\"],[0.4444444444444444,\"#bd3786\"],[0.5555555555555556,\"#d8576b\"],[0.6666666666666666,\"#ed7953\"],[0.7777777777777778,\"#fb9f3a\"],[0.8888888888888888,\"#fdca26\"],[1.0,\"#f0f921\"]],\"type\":\"contour\"}],\"heatmapgl\":[{\"colorbar\":{\"outlinewidth\":0,\"ticks\":\"\"},\"colorscale\":[[0.0,\"#0d0887\"],[0.1111111111111111,\"#46039f\"],[0.2222222222222222,\"#7201a8\"],[0.3333333333333333,\"#9c179e\"],[0.4444444444444444,\"#bd3786\"],[0.5555555555555556,\"#d8576b\"],[0.6666666666666666,\"#ed7953\"],[0.7777777777777778,\"#fb9f3a\"],[0.8888888888888888,\"#fdca26\"],[1.0,\"#f0f921\"]],\"type\":\"heatmapgl\"}],\"heatmap\":[{\"colorbar\":{\"outlinewidth\":0,\"ticks\":\"\"},\"colorscale\":[[0.0,\"#0d0887\"],[0.1111111111111111,\"#46039f\"],[0.2222222222222222,\"#7201a8\"],[0.3333333333333333,\"#9c179e\"],[0.4444444444444444,\"#bd3786\"],[0.5555555555555556,\"#d8576b\"],[0.6666666666666666,\"#ed7953\"],[0.7777777777777778,\"#fb9f3a\"],[0.8888888888888888,\"#fdca26\"],[1.0,\"#f0f921\"]],\"type\":\"heatmap\"}],\"histogram2dcontour\":[{\"colorbar\":{\"outlinewidth\":0,\"ticks\":\"\"},\"colorscale\":[[0.0,\"#0d0887\"],[0.1111111111111111,\"#46039f\"],[0.2222222222222222,\"#7201a8\"],[0.3333333333333333,\"#9c179e\"],[0.4444444444444444,\"#bd3786\"],[0.5555555555555556,\"#d8576b\"],[0.6666666666666666,\"#ed7953\"],[0.7777777777777778,\"#fb9f3a\"],[0.8888888888888888,\"#fdca26\"],[1.0,\"#f0f921\"]],\"type\":\"histogram2dcontour\"}],\"histogram2d\":[{\"colorbar\":{\"outlinewidth\":0,\"ticks\":\"\"},\"colorscale\":[[0.0,\"#0d0887\"],[0.1111111111111111,\"#46039f\"],[0.2222222222222222,\"#7201a8\"],[0.3333333333333333,\"#9c179e\"],[0.4444444444444444,\"#bd3786\"],[0.5555555555555556,\"#d8576b\"],[0.6666666666666666,\"#ed7953\"],[0.7777777777777778,\"#fb9f3a\"],[0.8888888888888888,\"#fdca26\"],[1.0,\"#f0f921\"]],\"type\":\"histogram2d\"}],\"histogram\":[{\"marker\":{\"pattern\":{\"fillmode\":\"overlay\",\"size\":10,\"solidity\":0.2}},\"type\":\"histogram\"}],\"mesh3d\":[{\"colorbar\":{\"outlinewidth\":0,\"ticks\":\"\"},\"type\":\"mesh3d\"}],\"parcoords\":[{\"line\":{\"colorbar\":{\"outlinewidth\":0,\"ticks\":\"\"}},\"type\":\"parcoords\"}],\"pie\":[{\"automargin\":true,\"type\":\"pie\"}],\"scatter3d\":[{\"line\":{\"colorbar\":{\"outlinewidth\":0,\"ticks\":\"\"}},\"marker\":{\"colorbar\":{\"outlinewidth\":0,\"ticks\":\"\"}},\"type\":\"scatter3d\"}],\"scattercarpet\":[{\"marker\":{\"colorbar\":{\"outlinewidth\":0,\"ticks\":\"\"}},\"type\":\"scattercarpet\"}],\"scattergeo\":[{\"marker\":{\"colorbar\":{\"outlinewidth\":0,\"ticks\":\"\"}},\"type\":\"scattergeo\"}],\"scattergl\":[{\"marker\":{\"colorbar\":{\"outlinewidth\":0,\"ticks\":\"\"}},\"type\":\"scattergl\"}],\"scattermapbox\":[{\"marker\":{\"colorbar\":{\"outlinewidth\":0,\"ticks\":\"\"}},\"type\":\"scattermapbox\"}],\"scatterpolargl\":[{\"marker\":{\"colorbar\":{\"outlinewidth\":0,\"ticks\":\"\"}},\"type\":\"scatterpolargl\"}],\"scatterpolar\":[{\"marker\":{\"colorbar\":{\"outlinewidth\":0,\"ticks\":\"\"}},\"type\":\"scatterpolar\"}],\"scatter\":[{\"fillpattern\":{\"fillmode\":\"overlay\",\"size\":10,\"solidity\":0.2},\"type\":\"scatter\"}],\"scatterternary\":[{\"marker\":{\"colorbar\":{\"outlinewidth\":0,\"ticks\":\"\"}},\"type\":\"scatterternary\"}],\"surface\":[{\"colorbar\":{\"outlinewidth\":0,\"ticks\":\"\"},\"colorscale\":[[0.0,\"#0d0887\"],[0.1111111111111111,\"#46039f\"],[0.2222222222222222,\"#7201a8\"],[0.3333333333333333,\"#9c179e\"],[0.4444444444444444,\"#bd3786\"],[0.5555555555555556,\"#d8576b\"],[0.6666666666666666,\"#ed7953\"],[0.7777777777777778,\"#fb9f3a\"],[0.8888888888888888,\"#fdca26\"],[1.0,\"#f0f921\"]],\"type\":\"surface\"}],\"table\":[{\"cells\":{\"fill\":{\"color\":\"#EBF0F8\"},\"line\":{\"color\":\"white\"}},\"header\":{\"fill\":{\"color\":\"#C8D4E3\"},\"line\":{\"color\":\"white\"}},\"type\":\"table\"}]},\"layout\":{\"annotationdefaults\":{\"arrowcolor\":\"#2a3f5f\",\"arrowhead\":0,\"arrowwidth\":1},\"autotypenumbers\":\"strict\",\"coloraxis\":{\"colorbar\":{\"outlinewidth\":0,\"ticks\":\"\"}},\"colorscale\":{\"diverging\":[[0,\"#8e0152\"],[0.1,\"#c51b7d\"],[0.2,\"#de77ae\"],[0.3,\"#f1b6da\"],[0.4,\"#fde0ef\"],[0.5,\"#f7f7f7\"],[0.6,\"#e6f5d0\"],[0.7,\"#b8e186\"],[0.8,\"#7fbc41\"],[0.9,\"#4d9221\"],[1,\"#276419\"]],\"sequential\":[[0.0,\"#0d0887\"],[0.1111111111111111,\"#46039f\"],[0.2222222222222222,\"#7201a8\"],[0.3333333333333333,\"#9c179e\"],[0.4444444444444444,\"#bd3786\"],[0.5555555555555556,\"#d8576b\"],[0.6666666666666666,\"#ed7953\"],[0.7777777777777778,\"#fb9f3a\"],[0.8888888888888888,\"#fdca26\"],[1.0,\"#f0f921\"]],\"sequentialminus\":[[0.0,\"#0d0887\"],[0.1111111111111111,\"#46039f\"],[0.2222222222222222,\"#7201a8\"],[0.3333333333333333,\"#9c179e\"],[0.4444444444444444,\"#bd3786\"],[0.5555555555555556,\"#d8576b\"],[0.6666666666666666,\"#ed7953\"],[0.7777777777777778,\"#fb9f3a\"],[0.8888888888888888,\"#fdca26\"],[1.0,\"#f0f921\"]]},\"colorway\":[\"#636efa\",\"#EF553B\",\"#00cc96\",\"#ab63fa\",\"#FFA15A\",\"#19d3f3\",\"#FF6692\",\"#B6E880\",\"#FF97FF\",\"#FECB52\"],\"font\":{\"color\":\"#2a3f5f\"},\"geo\":{\"bgcolor\":\"white\",\"lakecolor\":\"white\",\"landcolor\":\"#E5ECF6\",\"showlakes\":true,\"showland\":true,\"subunitcolor\":\"white\"},\"hoverlabel\":{\"align\":\"left\"},\"hovermode\":\"closest\",\"mapbox\":{\"style\":\"light\"},\"paper_bgcolor\":\"white\",\"plot_bgcolor\":\"#E5ECF6\",\"polar\":{\"angularaxis\":{\"gridcolor\":\"white\",\"linecolor\":\"white\",\"ticks\":\"\"},\"bgcolor\":\"#E5ECF6\",\"radialaxis\":{\"gridcolor\":\"white\",\"linecolor\":\"white\",\"ticks\":\"\"}},\"scene\":{\"xaxis\":{\"backgroundcolor\":\"#E5ECF6\",\"gridcolor\":\"white\",\"gridwidth\":2,\"linecolor\":\"white\",\"showbackground\":true,\"ticks\":\"\",\"zerolinecolor\":\"white\"},\"yaxis\":{\"backgroundcolor\":\"#E5ECF6\",\"gridcolor\":\"white\",\"gridwidth\":2,\"linecolor\":\"white\",\"showbackground\":true,\"ticks\":\"\",\"zerolinecolor\":\"white\"},\"zaxis\":{\"backgroundcolor\":\"#E5ECF6\",\"gridcolor\":\"white\",\"gridwidth\":2,\"linecolor\":\"white\",\"showbackground\":true,\"ticks\":\"\",\"zerolinecolor\":\"white\"}},\"shapedefaults\":{\"line\":{\"color\":\"#2a3f5f\"}},\"ternary\":{\"aaxis\":{\"gridcolor\":\"white\",\"linecolor\":\"white\",\"ticks\":\"\"},\"baxis\":{\"gridcolor\":\"white\",\"linecolor\":\"white\",\"ticks\":\"\"},\"bgcolor\":\"#E5ECF6\",\"caxis\":{\"gridcolor\":\"white\",\"linecolor\":\"white\",\"ticks\":\"\"}},\"title\":{\"x\":0.05},\"xaxis\":{\"automargin\":true,\"gridcolor\":\"white\",\"linecolor\":\"white\",\"ticks\":\"\",\"title\":{\"standoff\":15},\"zerolinecolor\":\"white\",\"zerolinewidth\":2},\"yaxis\":{\"automargin\":true,\"gridcolor\":\"white\",\"linecolor\":\"white\",\"ticks\":\"\",\"title\":{\"standoff\":15},\"zerolinecolor\":\"white\",\"zerolinewidth\":2}}}},                        {\"responsive\": true}                    ).then(function(){\n",
       "                            \n",
       "var gd = document.getElementById('3454b7fd-c391-4295-99cf-56b52b2a2b59');\n",
       "var x = new MutationObserver(function (mutations, observer) {{\n",
       "        var display = window.getComputedStyle(gd).display;\n",
       "        if (!display || display === 'none') {{\n",
       "            console.log([gd, 'removed!']);\n",
       "            Plotly.purge(gd);\n",
       "            observer.disconnect();\n",
       "        }}\n",
       "}});\n",
       "\n",
       "// Listen for the removal of the full notebook cells\n",
       "var notebookContainer = gd.closest('#notebook-container');\n",
       "if (notebookContainer) {{\n",
       "    x.observe(notebookContainer, {childList: true});\n",
       "}}\n",
       "\n",
       "// Listen for the clearing of the current output cell\n",
       "var outputEl = gd.closest('.output');\n",
       "if (outputEl) {{\n",
       "    x.observe(outputEl, {childList: true});\n",
       "}}\n",
       "\n",
       "                        })                };                });            </script>        </div>"
      ]
     },
     "metadata": {},
     "output_type": "display_data"
    }
   ],
   "source": [
    "asalsmp = df_51['Asal SMP'].value_counts()\n",
    "\n",
    "asalsmp_visual = [go.Bar(\n",
    "                 x = asalsmp.index,\n",
    "                 y = asalsmp.values,\n",
    "\n",
    ")]\n",
    "plotly.offline.iplot(asalsmp_visual)"
   ]
  },
  {
   "cell_type": "code",
   "execution_count": 111,
   "id": "9e059788-8650-46f1-9bf2-8ed1dbca64b0",
   "metadata": {
    "tags": []
   },
   "outputs": [
    {
     "data": {
      "application/vnd.plotly.v1+json": {
       "config": {
        "linkText": "Export to plot.ly",
        "plotlyServerURL": "https://plot.ly",
        "showLink": false
       },
       "data": [
        {
         "type": "bar",
         "x": [
          "Zonasi 3",
          "Belum Diketahui",
          "Zonasi 2",
          "Zonasi 1"
         ],
         "y": [
          2595,
          935,
          46,
          20
         ]
        }
       ],
       "layout": {
        "autosize": true,
        "template": {
         "data": {
          "bar": [
           {
            "error_x": {
             "color": "#2a3f5f"
            },
            "error_y": {
             "color": "#2a3f5f"
            },
            "marker": {
             "line": {
              "color": "#E5ECF6",
              "width": 0.5
             },
             "pattern": {
              "fillmode": "overlay",
              "size": 10,
              "solidity": 0.2
             }
            },
            "type": "bar"
           }
          ],
          "barpolar": [
           {
            "marker": {
             "line": {
              "color": "#E5ECF6",
              "width": 0.5
             },
             "pattern": {
              "fillmode": "overlay",
              "size": 10,
              "solidity": 0.2
             }
            },
            "type": "barpolar"
           }
          ],
          "carpet": [
           {
            "aaxis": {
             "endlinecolor": "#2a3f5f",
             "gridcolor": "white",
             "linecolor": "white",
             "minorgridcolor": "white",
             "startlinecolor": "#2a3f5f"
            },
            "baxis": {
             "endlinecolor": "#2a3f5f",
             "gridcolor": "white",
             "linecolor": "white",
             "minorgridcolor": "white",
             "startlinecolor": "#2a3f5f"
            },
            "type": "carpet"
           }
          ],
          "choropleth": [
           {
            "colorbar": {
             "outlinewidth": 0,
             "ticks": ""
            },
            "type": "choropleth"
           }
          ],
          "contour": [
           {
            "colorbar": {
             "outlinewidth": 0,
             "ticks": ""
            },
            "colorscale": [
             [
              0,
              "#0d0887"
             ],
             [
              0.1111111111111111,
              "#46039f"
             ],
             [
              0.2222222222222222,
              "#7201a8"
             ],
             [
              0.3333333333333333,
              "#9c179e"
             ],
             [
              0.4444444444444444,
              "#bd3786"
             ],
             [
              0.5555555555555556,
              "#d8576b"
             ],
             [
              0.6666666666666666,
              "#ed7953"
             ],
             [
              0.7777777777777778,
              "#fb9f3a"
             ],
             [
              0.8888888888888888,
              "#fdca26"
             ],
             [
              1,
              "#f0f921"
             ]
            ],
            "type": "contour"
           }
          ],
          "contourcarpet": [
           {
            "colorbar": {
             "outlinewidth": 0,
             "ticks": ""
            },
            "type": "contourcarpet"
           }
          ],
          "heatmap": [
           {
            "colorbar": {
             "outlinewidth": 0,
             "ticks": ""
            },
            "colorscale": [
             [
              0,
              "#0d0887"
             ],
             [
              0.1111111111111111,
              "#46039f"
             ],
             [
              0.2222222222222222,
              "#7201a8"
             ],
             [
              0.3333333333333333,
              "#9c179e"
             ],
             [
              0.4444444444444444,
              "#bd3786"
             ],
             [
              0.5555555555555556,
              "#d8576b"
             ],
             [
              0.6666666666666666,
              "#ed7953"
             ],
             [
              0.7777777777777778,
              "#fb9f3a"
             ],
             [
              0.8888888888888888,
              "#fdca26"
             ],
             [
              1,
              "#f0f921"
             ]
            ],
            "type": "heatmap"
           }
          ],
          "heatmapgl": [
           {
            "colorbar": {
             "outlinewidth": 0,
             "ticks": ""
            },
            "colorscale": [
             [
              0,
              "#0d0887"
             ],
             [
              0.1111111111111111,
              "#46039f"
             ],
             [
              0.2222222222222222,
              "#7201a8"
             ],
             [
              0.3333333333333333,
              "#9c179e"
             ],
             [
              0.4444444444444444,
              "#bd3786"
             ],
             [
              0.5555555555555556,
              "#d8576b"
             ],
             [
              0.6666666666666666,
              "#ed7953"
             ],
             [
              0.7777777777777778,
              "#fb9f3a"
             ],
             [
              0.8888888888888888,
              "#fdca26"
             ],
             [
              1,
              "#f0f921"
             ]
            ],
            "type": "heatmapgl"
           }
          ],
          "histogram": [
           {
            "marker": {
             "pattern": {
              "fillmode": "overlay",
              "size": 10,
              "solidity": 0.2
             }
            },
            "type": "histogram"
           }
          ],
          "histogram2d": [
           {
            "colorbar": {
             "outlinewidth": 0,
             "ticks": ""
            },
            "colorscale": [
             [
              0,
              "#0d0887"
             ],
             [
              0.1111111111111111,
              "#46039f"
             ],
             [
              0.2222222222222222,
              "#7201a8"
             ],
             [
              0.3333333333333333,
              "#9c179e"
             ],
             [
              0.4444444444444444,
              "#bd3786"
             ],
             [
              0.5555555555555556,
              "#d8576b"
             ],
             [
              0.6666666666666666,
              "#ed7953"
             ],
             [
              0.7777777777777778,
              "#fb9f3a"
             ],
             [
              0.8888888888888888,
              "#fdca26"
             ],
             [
              1,
              "#f0f921"
             ]
            ],
            "type": "histogram2d"
           }
          ],
          "histogram2dcontour": [
           {
            "colorbar": {
             "outlinewidth": 0,
             "ticks": ""
            },
            "colorscale": [
             [
              0,
              "#0d0887"
             ],
             [
              0.1111111111111111,
              "#46039f"
             ],
             [
              0.2222222222222222,
              "#7201a8"
             ],
             [
              0.3333333333333333,
              "#9c179e"
             ],
             [
              0.4444444444444444,
              "#bd3786"
             ],
             [
              0.5555555555555556,
              "#d8576b"
             ],
             [
              0.6666666666666666,
              "#ed7953"
             ],
             [
              0.7777777777777778,
              "#fb9f3a"
             ],
             [
              0.8888888888888888,
              "#fdca26"
             ],
             [
              1,
              "#f0f921"
             ]
            ],
            "type": "histogram2dcontour"
           }
          ],
          "mesh3d": [
           {
            "colorbar": {
             "outlinewidth": 0,
             "ticks": ""
            },
            "type": "mesh3d"
           }
          ],
          "parcoords": [
           {
            "line": {
             "colorbar": {
              "outlinewidth": 0,
              "ticks": ""
             }
            },
            "type": "parcoords"
           }
          ],
          "pie": [
           {
            "automargin": true,
            "type": "pie"
           }
          ],
          "scatter": [
           {
            "fillpattern": {
             "fillmode": "overlay",
             "size": 10,
             "solidity": 0.2
            },
            "type": "scatter"
           }
          ],
          "scatter3d": [
           {
            "line": {
             "colorbar": {
              "outlinewidth": 0,
              "ticks": ""
             }
            },
            "marker": {
             "colorbar": {
              "outlinewidth": 0,
              "ticks": ""
             }
            },
            "type": "scatter3d"
           }
          ],
          "scattercarpet": [
           {
            "marker": {
             "colorbar": {
              "outlinewidth": 0,
              "ticks": ""
             }
            },
            "type": "scattercarpet"
           }
          ],
          "scattergeo": [
           {
            "marker": {
             "colorbar": {
              "outlinewidth": 0,
              "ticks": ""
             }
            },
            "type": "scattergeo"
           }
          ],
          "scattergl": [
           {
            "marker": {
             "colorbar": {
              "outlinewidth": 0,
              "ticks": ""
             }
            },
            "type": "scattergl"
           }
          ],
          "scattermapbox": [
           {
            "marker": {
             "colorbar": {
              "outlinewidth": 0,
              "ticks": ""
             }
            },
            "type": "scattermapbox"
           }
          ],
          "scatterpolar": [
           {
            "marker": {
             "colorbar": {
              "outlinewidth": 0,
              "ticks": ""
             }
            },
            "type": "scatterpolar"
           }
          ],
          "scatterpolargl": [
           {
            "marker": {
             "colorbar": {
              "outlinewidth": 0,
              "ticks": ""
             }
            },
            "type": "scatterpolargl"
           }
          ],
          "scatterternary": [
           {
            "marker": {
             "colorbar": {
              "outlinewidth": 0,
              "ticks": ""
             }
            },
            "type": "scatterternary"
           }
          ],
          "surface": [
           {
            "colorbar": {
             "outlinewidth": 0,
             "ticks": ""
            },
            "colorscale": [
             [
              0,
              "#0d0887"
             ],
             [
              0.1111111111111111,
              "#46039f"
             ],
             [
              0.2222222222222222,
              "#7201a8"
             ],
             [
              0.3333333333333333,
              "#9c179e"
             ],
             [
              0.4444444444444444,
              "#bd3786"
             ],
             [
              0.5555555555555556,
              "#d8576b"
             ],
             [
              0.6666666666666666,
              "#ed7953"
             ],
             [
              0.7777777777777778,
              "#fb9f3a"
             ],
             [
              0.8888888888888888,
              "#fdca26"
             ],
             [
              1,
              "#f0f921"
             ]
            ],
            "type": "surface"
           }
          ],
          "table": [
           {
            "cells": {
             "fill": {
              "color": "#EBF0F8"
             },
             "line": {
              "color": "white"
             }
            },
            "header": {
             "fill": {
              "color": "#C8D4E3"
             },
             "line": {
              "color": "white"
             }
            },
            "type": "table"
           }
          ]
         },
         "layout": {
          "annotationdefaults": {
           "arrowcolor": "#2a3f5f",
           "arrowhead": 0,
           "arrowwidth": 1
          },
          "autotypenumbers": "strict",
          "coloraxis": {
           "colorbar": {
            "outlinewidth": 0,
            "ticks": ""
           }
          },
          "colorscale": {
           "diverging": [
            [
             0,
             "#8e0152"
            ],
            [
             0.1,
             "#c51b7d"
            ],
            [
             0.2,
             "#de77ae"
            ],
            [
             0.3,
             "#f1b6da"
            ],
            [
             0.4,
             "#fde0ef"
            ],
            [
             0.5,
             "#f7f7f7"
            ],
            [
             0.6,
             "#e6f5d0"
            ],
            [
             0.7,
             "#b8e186"
            ],
            [
             0.8,
             "#7fbc41"
            ],
            [
             0.9,
             "#4d9221"
            ],
            [
             1,
             "#276419"
            ]
           ],
           "sequential": [
            [
             0,
             "#0d0887"
            ],
            [
             0.1111111111111111,
             "#46039f"
            ],
            [
             0.2222222222222222,
             "#7201a8"
            ],
            [
             0.3333333333333333,
             "#9c179e"
            ],
            [
             0.4444444444444444,
             "#bd3786"
            ],
            [
             0.5555555555555556,
             "#d8576b"
            ],
            [
             0.6666666666666666,
             "#ed7953"
            ],
            [
             0.7777777777777778,
             "#fb9f3a"
            ],
            [
             0.8888888888888888,
             "#fdca26"
            ],
            [
             1,
             "#f0f921"
            ]
           ],
           "sequentialminus": [
            [
             0,
             "#0d0887"
            ],
            [
             0.1111111111111111,
             "#46039f"
            ],
            [
             0.2222222222222222,
             "#7201a8"
            ],
            [
             0.3333333333333333,
             "#9c179e"
            ],
            [
             0.4444444444444444,
             "#bd3786"
            ],
            [
             0.5555555555555556,
             "#d8576b"
            ],
            [
             0.6666666666666666,
             "#ed7953"
            ],
            [
             0.7777777777777778,
             "#fb9f3a"
            ],
            [
             0.8888888888888888,
             "#fdca26"
            ],
            [
             1,
             "#f0f921"
            ]
           ]
          },
          "colorway": [
           "#636efa",
           "#EF553B",
           "#00cc96",
           "#ab63fa",
           "#FFA15A",
           "#19d3f3",
           "#FF6692",
           "#B6E880",
           "#FF97FF",
           "#FECB52"
          ],
          "font": {
           "color": "#2a3f5f"
          },
          "geo": {
           "bgcolor": "white",
           "lakecolor": "white",
           "landcolor": "#E5ECF6",
           "showlakes": true,
           "showland": true,
           "subunitcolor": "white"
          },
          "hoverlabel": {
           "align": "left"
          },
          "hovermode": "closest",
          "mapbox": {
           "style": "light"
          },
          "paper_bgcolor": "white",
          "plot_bgcolor": "#E5ECF6",
          "polar": {
           "angularaxis": {
            "gridcolor": "white",
            "linecolor": "white",
            "ticks": ""
           },
           "bgcolor": "#E5ECF6",
           "radialaxis": {
            "gridcolor": "white",
            "linecolor": "white",
            "ticks": ""
           }
          },
          "scene": {
           "xaxis": {
            "backgroundcolor": "#E5ECF6",
            "gridcolor": "white",
            "gridwidth": 2,
            "linecolor": "white",
            "showbackground": true,
            "ticks": "",
            "zerolinecolor": "white"
           },
           "yaxis": {
            "backgroundcolor": "#E5ECF6",
            "gridcolor": "white",
            "gridwidth": 2,
            "linecolor": "white",
            "showbackground": true,
            "ticks": "",
            "zerolinecolor": "white"
           },
           "zaxis": {
            "backgroundcolor": "#E5ECF6",
            "gridcolor": "white",
            "gridwidth": 2,
            "linecolor": "white",
            "showbackground": true,
            "ticks": "",
            "zerolinecolor": "white"
           }
          },
          "shapedefaults": {
           "line": {
            "color": "#2a3f5f"
           }
          },
          "ternary": {
           "aaxis": {
            "gridcolor": "white",
            "linecolor": "white",
            "ticks": ""
           },
           "baxis": {
            "gridcolor": "white",
            "linecolor": "white",
            "ticks": ""
           },
           "bgcolor": "#E5ECF6",
           "caxis": {
            "gridcolor": "white",
            "linecolor": "white",
            "ticks": ""
           }
          },
          "title": {
           "x": 0.05
          },
          "xaxis": {
           "automargin": true,
           "gridcolor": "white",
           "linecolor": "white",
           "ticks": "",
           "title": {
            "standoff": 15
           },
           "zerolinecolor": "white",
           "zerolinewidth": 2
          },
          "yaxis": {
           "automargin": true,
           "gridcolor": "white",
           "linecolor": "white",
           "ticks": "",
           "title": {
            "standoff": 15
           },
           "zerolinecolor": "white",
           "zerolinewidth": 2
          }
         }
        },
        "xaxis": {
         "autorange": true,
         "range": [
          -0.5,
          3.5
         ],
         "showspikes": false,
         "type": "category"
        },
        "yaxis": {
         "autorange": true,
         "range": [
          0,
          2731.578947368421
         ],
         "showspikes": false,
         "type": "linear"
        }
       }
      },
      "image/png": "[encoded data removed]",
      "text/html": [
       "<div>                            <div id=\"804fc9e4-8be1-45fd-84a5-d7e702280944\" class=\"plotly-graph-div\" style=\"height:525px; width:100%;\"></div>            <script type=\"text/javascript\">                require([\"plotly\"], function(Plotly) {                    window.PLOTLYENV=window.PLOTLYENV || {};                                    if (document.getElementById(\"804fc9e4-8be1-45fd-84a5-d7e702280944\")) {                    Plotly.newPlot(                        \"804fc9e4-8be1-45fd-84a5-d7e702280944\",                        [{\"x\":[\"Zonasi 3\",\"Belum Diketahui\",\"Zonasi 2\",\"Zonasi 1\"],\"y\":[2595,935,46,20],\"type\":\"bar\"}],                        {\"template\":{\"data\":{\"barpolar\":[{\"marker\":{\"line\":{\"color\":\"#E5ECF6\",\"width\":0.5},\"pattern\":{\"fillmode\":\"overlay\",\"size\":10,\"solidity\":0.2}},\"type\":\"barpolar\"}],\"bar\":[{\"error_x\":{\"color\":\"#2a3f5f\"},\"error_y\":{\"color\":\"#2a3f5f\"},\"marker\":{\"line\":{\"color\":\"#E5ECF6\",\"width\":0.5},\"pattern\":{\"fillmode\":\"overlay\",\"size\":10,\"solidity\":0.2}},\"type\":\"bar\"}],\"carpet\":[{\"aaxis\":{\"endlinecolor\":\"#2a3f5f\",\"gridcolor\":\"white\",\"linecolor\":\"white\",\"minorgridcolor\":\"white\",\"startlinecolor\":\"#2a3f5f\"},\"baxis\":{\"endlinecolor\":\"#2a3f5f\",\"gridcolor\":\"white\",\"linecolor\":\"white\",\"minorgridcolor\":\"white\",\"startlinecolor\":\"#2a3f5f\"},\"type\":\"carpet\"}],\"choropleth\":[{\"colorbar\":{\"outlinewidth\":0,\"ticks\":\"\"},\"type\":\"choropleth\"}],\"contourcarpet\":[{\"colorbar\":{\"outlinewidth\":0,\"ticks\":\"\"},\"type\":\"contourcarpet\"}],\"contour\":[{\"colorbar\":{\"outlinewidth\":0,\"ticks\":\"\"},\"colorscale\":[[0.0,\"#0d0887\"],[0.1111111111111111,\"#46039f\"],[0.2222222222222222,\"#7201a8\"],[0.3333333333333333,\"#9c179e\"],[0.4444444444444444,\"#bd3786\"],[0.5555555555555556,\"#d8576b\"],[0.6666666666666666,\"#ed7953\"],[0.7777777777777778,\"#fb9f3a\"],[0.8888888888888888,\"#fdca26\"],[1.0,\"#f0f921\"]],\"type\":\"contour\"}],\"heatmapgl\":[{\"colorbar\":{\"outlinewidth\":0,\"ticks\":\"\"},\"colorscale\":[[0.0,\"#0d0887\"],[0.1111111111111111,\"#46039f\"],[0.2222222222222222,\"#7201a8\"],[0.3333333333333333,\"#9c179e\"],[0.4444444444444444,\"#bd3786\"],[0.5555555555555556,\"#d8576b\"],[0.6666666666666666,\"#ed7953\"],[0.7777777777777778,\"#fb9f3a\"],[0.8888888888888888,\"#fdca26\"],[1.0,\"#f0f921\"]],\"type\":\"heatmapgl\"}],\"heatmap\":[{\"colorbar\":{\"outlinewidth\":0,\"ticks\":\"\"},\"colorscale\":[[0.0,\"#0d0887\"],[0.1111111111111111,\"#46039f\"],[0.2222222222222222,\"#7201a8\"],[0.3333333333333333,\"#9c179e\"],[0.4444444444444444,\"#bd3786\"],[0.5555555555555556,\"#d8576b\"],[0.6666666666666666,\"#ed7953\"],[0.7777777777777778,\"#fb9f3a\"],[0.8888888888888888,\"#fdca26\"],[1.0,\"#f0f921\"]],\"type\":\"heatmap\"}],\"histogram2dcontour\":[{\"colorbar\":{\"outlinewidth\":0,\"ticks\":\"\"},\"colorscale\":[[0.0,\"#0d0887\"],[0.1111111111111111,\"#46039f\"],[0.2222222222222222,\"#7201a8\"],[0.3333333333333333,\"#9c179e\"],[0.4444444444444444,\"#bd3786\"],[0.5555555555555556,\"#d8576b\"],[0.6666666666666666,\"#ed7953\"],[0.7777777777777778,\"#fb9f3a\"],[0.8888888888888888,\"#fdca26\"],[1.0,\"#f0f921\"]],\"type\":\"histogram2dcontour\"}],\"histogram2d\":[{\"colorbar\":{\"outlinewidth\":0,\"ticks\":\"\"},\"colorscale\":[[0.0,\"#0d0887\"],[0.1111111111111111,\"#46039f\"],[0.2222222222222222,\"#7201a8\"],[0.3333333333333333,\"#9c179e\"],[0.4444444444444444,\"#bd3786\"],[0.5555555555555556,\"#d8576b\"],[0.6666666666666666,\"#ed7953\"],[0.7777777777777778,\"#fb9f3a\"],[0.8888888888888888,\"#fdca26\"],[1.0,\"#f0f921\"]],\"type\":\"histogram2d\"}],\"histogram\":[{\"marker\":{\"pattern\":{\"fillmode\":\"overlay\",\"size\":10,\"solidity\":0.2}},\"type\":\"histogram\"}],\"mesh3d\":[{\"colorbar\":{\"outlinewidth\":0,\"ticks\":\"\"},\"type\":\"mesh3d\"}],\"parcoords\":[{\"line\":{\"colorbar\":{\"outlinewidth\":0,\"ticks\":\"\"}},\"type\":\"parcoords\"}],\"pie\":[{\"automargin\":true,\"type\":\"pie\"}],\"scatter3d\":[{\"line\":{\"colorbar\":{\"outlinewidth\":0,\"ticks\":\"\"}},\"marker\":{\"colorbar\":{\"outlinewidth\":0,\"ticks\":\"\"}},\"type\":\"scatter3d\"}],\"scattercarpet\":[{\"marker\":{\"colorbar\":{\"outlinewidth\":0,\"ticks\":\"\"}},\"type\":\"scattercarpet\"}],\"scattergeo\":[{\"marker\":{\"colorbar\":{\"outlinewidth\":0,\"ticks\":\"\"}},\"type\":\"scattergeo\"}],\"scattergl\":[{\"marker\":{\"colorbar\":{\"outlinewidth\":0,\"ticks\":\"\"}},\"type\":\"scattergl\"}],\"scattermapbox\":[{\"marker\":{\"colorbar\":{\"outlinewidth\":0,\"ticks\":\"\"}},\"type\":\"scattermapbox\"}],\"scatterpolargl\":[{\"marker\":{\"colorbar\":{\"outlinewidth\":0,\"ticks\":\"\"}},\"type\":\"scatterpolargl\"}],\"scatterpolar\":[{\"marker\":{\"colorbar\":{\"outlinewidth\":0,\"ticks\":\"\"}},\"type\":\"scatterpolar\"}],\"scatter\":[{\"fillpattern\":{\"fillmode\":\"overlay\",\"size\":10,\"solidity\":0.2},\"type\":\"scatter\"}],\"scatterternary\":[{\"marker\":{\"colorbar\":{\"outlinewidth\":0,\"ticks\":\"\"}},\"type\":\"scatterternary\"}],\"surface\":[{\"colorbar\":{\"outlinewidth\":0,\"ticks\":\"\"},\"colorscale\":[[0.0,\"#0d0887\"],[0.1111111111111111,\"#46039f\"],[0.2222222222222222,\"#7201a8\"],[0.3333333333333333,\"#9c179e\"],[0.4444444444444444,\"#bd3786\"],[0.5555555555555556,\"#d8576b\"],[0.6666666666666666,\"#ed7953\"],[0.7777777777777778,\"#fb9f3a\"],[0.8888888888888888,\"#fdca26\"],[1.0,\"#f0f921\"]],\"type\":\"surface\"}],\"table\":[{\"cells\":{\"fill\":{\"color\":\"#EBF0F8\"},\"line\":{\"color\":\"white\"}},\"header\":{\"fill\":{\"color\":\"#C8D4E3\"},\"line\":{\"color\":\"white\"}},\"type\":\"table\"}]},\"layout\":{\"annotationdefaults\":{\"arrowcolor\":\"#2a3f5f\",\"arrowhead\":0,\"arrowwidth\":1},\"autotypenumbers\":\"strict\",\"coloraxis\":{\"colorbar\":{\"outlinewidth\":0,\"ticks\":\"\"}},\"colorscale\":{\"diverging\":[[0,\"#8e0152\"],[0.1,\"#c51b7d\"],[0.2,\"#de77ae\"],[0.3,\"#f1b6da\"],[0.4,\"#fde0ef\"],[0.5,\"#f7f7f7\"],[0.6,\"#e6f5d0\"],[0.7,\"#b8e186\"],[0.8,\"#7fbc41\"],[0.9,\"#4d9221\"],[1,\"#276419\"]],\"sequential\":[[0.0,\"#0d0887\"],[0.1111111111111111,\"#46039f\"],[0.2222222222222222,\"#7201a8\"],[0.3333333333333333,\"#9c179e\"],[0.4444444444444444,\"#bd3786\"],[0.5555555555555556,\"#d8576b\"],[0.6666666666666666,\"#ed7953\"],[0.7777777777777778,\"#fb9f3a\"],[0.8888888888888888,\"#fdca26\"],[1.0,\"#f0f921\"]],\"sequentialminus\":[[0.0,\"#0d0887\"],[0.1111111111111111,\"#46039f\"],[0.2222222222222222,\"#7201a8\"],[0.3333333333333333,\"#9c179e\"],[0.4444444444444444,\"#bd3786\"],[0.5555555555555556,\"#d8576b\"],[0.6666666666666666,\"#ed7953\"],[0.7777777777777778,\"#fb9f3a\"],[0.8888888888888888,\"#fdca26\"],[1.0,\"#f0f921\"]]},\"colorway\":[\"#636efa\",\"#EF553B\",\"#00cc96\",\"#ab63fa\",\"#FFA15A\",\"#19d3f3\",\"#FF6692\",\"#B6E880\",\"#FF97FF\",\"#FECB52\"],\"font\":{\"color\":\"#2a3f5f\"},\"geo\":{\"bgcolor\":\"white\",\"lakecolor\":\"white\",\"landcolor\":\"#E5ECF6\",\"showlakes\":true,\"showland\":true,\"subunitcolor\":\"white\"},\"hoverlabel\":{\"align\":\"left\"},\"hovermode\":\"closest\",\"mapbox\":{\"style\":\"light\"},\"paper_bgcolor\":\"white\",\"plot_bgcolor\":\"#E5ECF6\",\"polar\":{\"angularaxis\":{\"gridcolor\":\"white\",\"linecolor\":\"white\",\"ticks\":\"\"},\"bgcolor\":\"#E5ECF6\",\"radialaxis\":{\"gridcolor\":\"white\",\"linecolor\":\"white\",\"ticks\":\"\"}},\"scene\":{\"xaxis\":{\"backgroundcolor\":\"#E5ECF6\",\"gridcolor\":\"white\",\"gridwidth\":2,\"linecolor\":\"white\",\"showbackground\":true,\"ticks\":\"\",\"zerolinecolor\":\"white\"},\"yaxis\":{\"backgroundcolor\":\"#E5ECF6\",\"gridcolor\":\"white\",\"gridwidth\":2,\"linecolor\":\"white\",\"showbackground\":true,\"ticks\":\"\",\"zerolinecolor\":\"white\"},\"zaxis\":{\"backgroundcolor\":\"#E5ECF6\",\"gridcolor\":\"white\",\"gridwidth\":2,\"linecolor\":\"white\",\"showbackground\":true,\"ticks\":\"\",\"zerolinecolor\":\"white\"}},\"shapedefaults\":{\"line\":{\"color\":\"#2a3f5f\"}},\"ternary\":{\"aaxis\":{\"gridcolor\":\"white\",\"linecolor\":\"white\",\"ticks\":\"\"},\"baxis\":{\"gridcolor\":\"white\",\"linecolor\":\"white\",\"ticks\":\"\"},\"bgcolor\":\"#E5ECF6\",\"caxis\":{\"gridcolor\":\"white\",\"linecolor\":\"white\",\"ticks\":\"\"}},\"title\":{\"x\":0.05},\"xaxis\":{\"automargin\":true,\"gridcolor\":\"white\",\"linecolor\":\"white\",\"ticks\":\"\",\"title\":{\"standoff\":15},\"zerolinecolor\":\"white\",\"zerolinewidth\":2},\"yaxis\":{\"automargin\":true,\"gridcolor\":\"white\",\"linecolor\":\"white\",\"ticks\":\"\",\"title\":{\"standoff\":15},\"zerolinecolor\":\"white\",\"zerolinewidth\":2}}}},                        {\"responsive\": true}                    ).then(function(){\n",
       "                            \n",
       "var gd = document.getElementById('804fc9e4-8be1-45fd-84a5-d7e702280944');\n",
       "var x = new MutationObserver(function (mutations, observer) {{\n",
       "        var display = window.getComputedStyle(gd).display;\n",
       "        if (!display || display === 'none') {{\n",
       "            console.log([gd, 'removed!']);\n",
       "            Plotly.purge(gd);\n",
       "            observer.disconnect();\n",
       "        }}\n",
       "}});\n",
       "\n",
       "// Listen for the removal of the full notebook cells\n",
       "var notebookContainer = gd.closest('#notebook-container');\n",
       "if (notebookContainer) {{\n",
       "    x.observe(notebookContainer, {childList: true});\n",
       "}}\n",
       "\n",
       "// Listen for the clearing of the current output cell\n",
       "var outputEl = gd.closest('.output');\n",
       "if (outputEl) {{\n",
       "    x.observe(outputEl, {childList: true});\n",
       "}}\n",
       "\n",
       "                        })                };                });            </script>        </div>"
      ]
     },
     "metadata": {},
     "output_type": "display_data"
    }
   ],
   "source": [
    "status = df_51['Status Zonasi'].value_counts()\n",
    "\n",
    "visual = [go.Bar(\n",
    "         x = status.index,\n",
    "         y = status.values,\n",
    "         \n",
    ")]\n",
    "plotly.offline.iplot(visual)"
   ]
  },
  {
   "cell_type": "markdown",
   "id": "95f37a8a-7fd2-41ed-8f03-7d463bc6068e",
   "metadata": {},
   "source": [
    "## Menganalisa diurutan keberapa jika mendaftar di SMA Negeri 62 Jakarta"
   ]
  },
  {
   "cell_type": "code",
   "execution_count": 33,
   "id": "1d38f4c2-5592-4139-8006-85ee0a25fcdd",
   "metadata": {},
   "outputs": [],
   "source": [
    "df_62 = df[df['Kelurahan'].isin(['Kramat Jati', 'Dukuh', 'Bale Kambang', 'Batu Ampar', 'Cawang', 'Cililitan', 'Rambutan', 'Gedong', \n",
    "                                 'Pinang Ranti', 'Kebon Pala', 'Tengah'])].sort_values('Umur', ascending=False).reset_index()"
   ]
  },
  {
   "cell_type": "code",
   "execution_count": 41,
   "id": "c7af6621-31ff-4070-92ac-c8fd646aefa1",
   "metadata": {},
   "outputs": [
    {
     "data": {
      "text/html": [
       "<div>\n",
       "<style scoped>\n",
       "    .dataframe tbody tr th:only-of-type {\n",
       "        vertical-align: middle;\n",
       "    }\n",
       "\n",
       "    .dataframe tbody tr th {\n",
       "        vertical-align: top;\n",
       "    }\n",
       "\n",
       "    .dataframe thead th {\n",
       "        text-align: right;\n",
       "    }\n",
       "</style>\n",
       "<table border=\"1\" class=\"dataframe\">\n",
       "  <thead>\n",
       "    <tr style=\"text-align: right;\">\n",
       "      <th></th>\n",
       "      <th>index</th>\n",
       "      <th>Peringkat</th>\n",
       "      <th>Nomer Pendaftaran</th>\n",
       "      <th>Nama</th>\n",
       "      <th>Kelurahan</th>\n",
       "      <th>RW</th>\n",
       "      <th>RT</th>\n",
       "      <th>Prioritas Zonasi</th>\n",
       "      <th>Umur</th>\n",
       "      <th>Asal SMP</th>\n",
       "      <th>Jalur Daftar</th>\n",
       "      <th>Status</th>\n",
       "    </tr>\n",
       "  </thead>\n",
       "  <tbody>\n",
       "    <tr>\n",
       "      <th>0</th>\n",
       "      <td>398</td>\n",
       "      <td>1</td>\n",
       "      <td>200103200320003</td>\n",
       "      <td>MUHAMMAD ABDUL RAHMAN</td>\n",
       "      <td>Batu Ampar</td>\n",
       "      <td>4</td>\n",
       "      <td>0</td>\n",
       "      <td>3.0</td>\n",
       "      <td>15 th 00 bl 28 hr</td>\n",
       "      <td>20</td>\n",
       "      <td>Afirmasi (Inklusi)</td>\n",
       "      <td>Daftar Ulang</td>\n",
       "    </tr>\n",
       "    <tr>\n",
       "      <th>1</th>\n",
       "      <td>1635</td>\n",
       "      <td>17</td>\n",
       "      <td>200102200360004</td>\n",
       "      <td>MUZAKY HISBULLAH WIDIANTO</td>\n",
       "      <td>Dukuh</td>\n",
       "      <td>5</td>\n",
       "      <td>9</td>\n",
       "      <td>3.0</td>\n",
       "      <td>14 th 11 bl 29 hr</td>\n",
       "      <td>24</td>\n",
       "      <td>Afirmasi (KJP)</td>\n",
       "      <td>Daftar Ulang</td>\n",
       "    </tr>\n",
       "    <tr>\n",
       "      <th>2</th>\n",
       "      <td>996</td>\n",
       "      <td>1</td>\n",
       "      <td>200103201280002</td>\n",
       "      <td>TRI ZAHRINI</td>\n",
       "      <td>Batu Ampar</td>\n",
       "      <td>0</td>\n",
       "      <td>0</td>\n",
       "      <td>3.0</td>\n",
       "      <td>14 th 11 bl 23 hr</td>\n",
       "      <td>126</td>\n",
       "      <td>Afirmasi (Inklusi)</td>\n",
       "      <td>Daftar Ulang</td>\n",
       "    </tr>\n",
       "    <tr>\n",
       "      <th>3</th>\n",
       "      <td>8381</td>\n",
       "      <td>6</td>\n",
       "      <td>200107202690014</td>\n",
       "      <td>KURNIAWAN DIANSAH</td>\n",
       "      <td>Pinang Ranti</td>\n",
       "      <td>1</td>\n",
       "      <td>2</td>\n",
       "      <td>3.0</td>\n",
       "      <td>14 th 11 bl 16 hr</td>\n",
       "      <td>272</td>\n",
       "      <td>Zonasi</td>\n",
       "      <td>Daftar Ulang</td>\n",
       "    </tr>\n",
       "    <tr>\n",
       "      <th>4</th>\n",
       "      <td>2269</td>\n",
       "      <td>8</td>\n",
       "      <td>200107200590084</td>\n",
       "      <td>ARVA SABILLILAH</td>\n",
       "      <td>Cililitan</td>\n",
       "      <td>7</td>\n",
       "      <td>12</td>\n",
       "      <td>3.0</td>\n",
       "      <td>14 th 11 bl 13 hr</td>\n",
       "      <td>50</td>\n",
       "      <td>Zonasi</td>\n",
       "      <td>Daftar Ulang</td>\n",
       "    </tr>\n",
       "    <tr>\n",
       "      <th>...</th>\n",
       "      <td>...</td>\n",
       "      <td>...</td>\n",
       "      <td>...</td>\n",
       "      <td>...</td>\n",
       "      <td>...</td>\n",
       "      <td>...</td>\n",
       "      <td>...</td>\n",
       "      <td>...</td>\n",
       "      <td>...</td>\n",
       "      <td>...</td>\n",
       "      <td>...</td>\n",
       "      <td>...</td>\n",
       "    </tr>\n",
       "    <tr>\n",
       "      <th>4345</th>\n",
       "      <td>5379</td>\n",
       "      <td>32</td>\n",
       "      <td>200104201890082</td>\n",
       "      <td>NAUFAL HADI ADITYA</td>\n",
       "      <td>Rambutan</td>\n",
       "      <td>4</td>\n",
       "      <td>0</td>\n",
       "      <td>NaN</td>\n",
       "      <td>11 th 03 bl 20 hr</td>\n",
       "      <td>208</td>\n",
       "      <td>Prestasi (Akademik)</td>\n",
       "      <td>Daftar Ulang</td>\n",
       "    </tr>\n",
       "    <tr>\n",
       "      <th>4346</th>\n",
       "      <td>5691</td>\n",
       "      <td>59</td>\n",
       "      <td>200102202100046</td>\n",
       "      <td>REZA DWI PERMANA</td>\n",
       "      <td>Tengah</td>\n",
       "      <td>7</td>\n",
       "      <td>6</td>\n",
       "      <td>NaN</td>\n",
       "      <td>11 th 01 bl 09 hr</td>\n",
       "      <td>209</td>\n",
       "      <td>Afirmasi (KJP)</td>\n",
       "      <td>Daftar Ulang</td>\n",
       "    </tr>\n",
       "    <tr>\n",
       "      <th>4347</th>\n",
       "      <td>6991</td>\n",
       "      <td>9</td>\n",
       "      <td>200104202230079</td>\n",
       "      <td>ANANDA ZHAKI IBRAHIM</td>\n",
       "      <td>Gedong</td>\n",
       "      <td>3</td>\n",
       "      <td>0</td>\n",
       "      <td>NaN</td>\n",
       "      <td>11 th 00 bl 18 hr</td>\n",
       "      <td>257</td>\n",
       "      <td>Prestasi (Akademik)</td>\n",
       "      <td>Daftar Ulang</td>\n",
       "    </tr>\n",
       "    <tr>\n",
       "      <th>4348</th>\n",
       "      <td>937</td>\n",
       "      <td>7</td>\n",
       "      <td>200104201280204</td>\n",
       "      <td>ZIYAD TRYSTAN RABBANI SARWONO</td>\n",
       "      <td>Batu Ampar</td>\n",
       "      <td>4</td>\n",
       "      <td>0</td>\n",
       "      <td>NaN</td>\n",
       "      <td>11 th 00 bl 03 hr</td>\n",
       "      <td>126</td>\n",
       "      <td>Prestasi (Akademik)</td>\n",
       "      <td>Tidak Daftar Ulang</td>\n",
       "    </tr>\n",
       "    <tr>\n",
       "      <th>4349</th>\n",
       "      <td>1952</td>\n",
       "      <td>69</td>\n",
       "      <td>200102200460019</td>\n",
       "      <td>GILANG RAMADHAN</td>\n",
       "      <td>Bale Kambang</td>\n",
       "      <td>1</td>\n",
       "      <td>8</td>\n",
       "      <td>3.0</td>\n",
       "      <td>10 th 08 bl 12 hr</td>\n",
       "      <td>35</td>\n",
       "      <td>Afirmasi (KJP)</td>\n",
       "      <td>Daftar Ulang</td>\n",
       "    </tr>\n",
       "  </tbody>\n",
       "</table>\n",
       "<p>4350 rows × 12 columns</p>\n",
       "</div>"
      ],
      "text/plain": [
       "      index  Peringkat  Nomer Pendaftaran                           Nama  \\\n",
       "0       398          1    200103200320003          MUHAMMAD ABDUL RAHMAN   \n",
       "1      1635         17    200102200360004      MUZAKY HISBULLAH WIDIANTO   \n",
       "2       996          1    200103201280002                    TRI ZAHRINI   \n",
       "3      8381          6    200107202690014              KURNIAWAN DIANSAH   \n",
       "4      2269          8    200107200590084                ARVA SABILLILAH   \n",
       "...     ...        ...                ...                            ...   \n",
       "4345   5379         32    200104201890082             NAUFAL HADI ADITYA   \n",
       "4346   5691         59    200102202100046               REZA DWI PERMANA   \n",
       "4347   6991          9    200104202230079           ANANDA ZHAKI IBRAHIM   \n",
       "4348    937          7    200104201280204  ZIYAD TRYSTAN RABBANI SARWONO   \n",
       "4349   1952         69    200102200460019                GILANG RAMADHAN   \n",
       "\n",
       "         Kelurahan  RW  RT  Prioritas Zonasi               Umur Asal SMP  \\\n",
       "0       Batu Ampar   4   0               3.0  15 th 00 bl 28 hr       20   \n",
       "1            Dukuh   5   9               3.0  14 th 11 bl 29 hr       24   \n",
       "2       Batu Ampar   0   0               3.0  14 th 11 bl 23 hr      126   \n",
       "3     Pinang Ranti   1   2               3.0  14 th 11 bl 16 hr      272   \n",
       "4        Cililitan   7  12               3.0  14 th 11 bl 13 hr       50   \n",
       "...            ...  ..  ..               ...                ...      ...   \n",
       "4345      Rambutan   4   0               NaN  11 th 03 bl 20 hr      208   \n",
       "4346        Tengah   7   6               NaN  11 th 01 bl 09 hr      209   \n",
       "4347        Gedong   3   0               NaN  11 th 00 bl 18 hr      257   \n",
       "4348    Batu Ampar   4   0               NaN  11 th 00 bl 03 hr      126   \n",
       "4349  Bale Kambang   1   8               3.0  10 th 08 bl 12 hr       35   \n",
       "\n",
       "             Jalur Daftar              Status  \n",
       "0      Afirmasi (Inklusi)        Daftar Ulang  \n",
       "1          Afirmasi (KJP)        Daftar Ulang  \n",
       "2      Afirmasi (Inklusi)        Daftar Ulang  \n",
       "3                  Zonasi        Daftar Ulang  \n",
       "4                  Zonasi        Daftar Ulang  \n",
       "...                   ...                 ...  \n",
       "4345  Prestasi (Akademik)        Daftar Ulang  \n",
       "4346       Afirmasi (KJP)        Daftar Ulang  \n",
       "4347  Prestasi (Akademik)        Daftar Ulang  \n",
       "4348  Prestasi (Akademik)  Tidak Daftar Ulang  \n",
       "4349       Afirmasi (KJP)        Daftar Ulang  \n",
       "\n",
       "[4350 rows x 12 columns]"
      ]
     },
     "execution_count": 41,
     "metadata": {},
     "output_type": "execute_result"
    }
   ],
   "source": [
    "df_62"
   ]
  },
  {
   "cell_type": "code",
   "execution_count": 42,
   "id": "80ff1e59-5254-441b-ac3c-83c4e407dd39",
   "metadata": {},
   "outputs": [
    {
     "data": {
      "text/html": [
       "<div>\n",
       "<style scoped>\n",
       "    .dataframe tbody tr th:only-of-type {\n",
       "        vertical-align: middle;\n",
       "    }\n",
       "\n",
       "    .dataframe tbody tr th {\n",
       "        vertical-align: top;\n",
       "    }\n",
       "\n",
       "    .dataframe thead th {\n",
       "        text-align: right;\n",
       "    }\n",
       "</style>\n",
       "<table border=\"1\" class=\"dataframe\">\n",
       "  <thead>\n",
       "    <tr style=\"text-align: right;\">\n",
       "      <th></th>\n",
       "      <th>index</th>\n",
       "      <th>Peringkat</th>\n",
       "      <th>Nomer Pendaftaran</th>\n",
       "      <th>Nama</th>\n",
       "      <th>Kelurahan</th>\n",
       "      <th>RW</th>\n",
       "      <th>RT</th>\n",
       "      <th>Prioritas Zonasi</th>\n",
       "      <th>Umur</th>\n",
       "      <th>Asal SMP</th>\n",
       "      <th>Jalur Daftar</th>\n",
       "      <th>Status</th>\n",
       "    </tr>\n",
       "  </thead>\n",
       "  <tbody>\n",
       "    <tr>\n",
       "      <th>1413</th>\n",
       "      <td>63</td>\n",
       "      <td>64</td>\n",
       "      <td>200107200060003</td>\n",
       "      <td>TYAS ADIRA RAHAYU NINGSIH</td>\n",
       "      <td>Batu Ampar</td>\n",
       "      <td>5</td>\n",
       "      <td>7</td>\n",
       "      <td>3.0</td>\n",
       "      <td>12 th 11 bl 11 hr</td>\n",
       "      <td>49</td>\n",
       "      <td>Zonasi</td>\n",
       "      <td>Daftar Ulang</td>\n",
       "    </tr>\n",
       "  </tbody>\n",
       "</table>\n",
       "</div>"
      ],
      "text/plain": [
       "      index  Peringkat  Nomer Pendaftaran                        Nama  \\\n",
       "1413     63         64    200107200060003  TYAS ADIRA RAHAYU NINGSIH    \n",
       "\n",
       "       Kelurahan  RW  RT  Prioritas Zonasi               Umur Asal SMP  \\\n",
       "1413  Batu Ampar   5   7               3.0  12 th 11 bl 11 hr       49   \n",
       "\n",
       "     Jalur Daftar        Status  \n",
       "1413       Zonasi  Daftar Ulang  "
      ]
     },
     "execution_count": 42,
     "metadata": {},
     "output_type": "execute_result"
    }
   ],
   "source": [
    "df_62.loc[df_62['Nama'].str.contains('Tyas Adira Rahayu Ningsih', case=False)] # melihat di posisi berapa value dari kolom Nama yaitu Tyas Adira Rahayu Ningsih"
   ]
  },
  {
   "cell_type": "markdown",
   "id": "fa05a6c2-f7bd-4106-8ce4-61836a8b9e1c",
   "metadata": {},
   "source": [
    "## Menganalisa diurutan keberapa jika mendaftar di SMA Negeri 93 Jakarta"
   ]
  },
  {
   "cell_type": "code",
   "execution_count": 34,
   "id": "60ae0dd1-b3f6-4b44-9242-c176cc71d648",
   "metadata": {},
   "outputs": [],
   "source": [
    "df_93 = df[df['Kelurahan'].isin(['Tengah', 'Rambutan', 'Tanjung Barat', 'Bale Kambang', 'Batu Ampar', 'Dukuh', 'Susukan', \n",
    "                                   'Pinang Ranti', 'Lubang Buaya', 'Kramat Jati', 'Cililitan', 'Gedong'])].sort_values('Umur', ascending=False).reset_index()"
   ]
  },
  {
   "cell_type": "code",
   "execution_count": 44,
   "id": "01dbfcf4-e3b4-4bb1-8b6b-e349e8355c25",
   "metadata": {},
   "outputs": [
    {
     "data": {
      "text/html": [
       "<div>\n",
       "<style scoped>\n",
       "    .dataframe tbody tr th:only-of-type {\n",
       "        vertical-align: middle;\n",
       "    }\n",
       "\n",
       "    .dataframe tbody tr th {\n",
       "        vertical-align: top;\n",
       "    }\n",
       "\n",
       "    .dataframe thead th {\n",
       "        text-align: right;\n",
       "    }\n",
       "</style>\n",
       "<table border=\"1\" class=\"dataframe\">\n",
       "  <thead>\n",
       "    <tr style=\"text-align: right;\">\n",
       "      <th></th>\n",
       "      <th>index</th>\n",
       "      <th>Peringkat</th>\n",
       "      <th>Nomer Pendaftaran</th>\n",
       "      <th>Nama</th>\n",
       "      <th>Kelurahan</th>\n",
       "      <th>RW</th>\n",
       "      <th>RT</th>\n",
       "      <th>Prioritas Zonasi</th>\n",
       "      <th>Umur</th>\n",
       "      <th>Asal SMP</th>\n",
       "      <th>Jalur Daftar</th>\n",
       "      <th>Status</th>\n",
       "    </tr>\n",
       "  </thead>\n",
       "  <tbody>\n",
       "    <tr>\n",
       "      <th>0</th>\n",
       "      <td>398</td>\n",
       "      <td>1</td>\n",
       "      <td>200103200320003</td>\n",
       "      <td>MUHAMMAD ABDUL RAHMAN</td>\n",
       "      <td>Batu Ampar</td>\n",
       "      <td>4</td>\n",
       "      <td>0</td>\n",
       "      <td>3.0</td>\n",
       "      <td>15 th 00 bl 28 hr</td>\n",
       "      <td>20</td>\n",
       "      <td>Afirmasi (Inklusi)</td>\n",
       "      <td>Daftar Ulang</td>\n",
       "    </tr>\n",
       "    <tr>\n",
       "      <th>1</th>\n",
       "      <td>1635</td>\n",
       "      <td>17</td>\n",
       "      <td>200102200360004</td>\n",
       "      <td>MUZAKY HISBULLAH WIDIANTO</td>\n",
       "      <td>Dukuh</td>\n",
       "      <td>5</td>\n",
       "      <td>9</td>\n",
       "      <td>3.0</td>\n",
       "      <td>14 th 11 bl 29 hr</td>\n",
       "      <td>24</td>\n",
       "      <td>Afirmasi (KJP)</td>\n",
       "      <td>Daftar Ulang</td>\n",
       "    </tr>\n",
       "    <tr>\n",
       "      <th>2</th>\n",
       "      <td>996</td>\n",
       "      <td>1</td>\n",
       "      <td>200103201280002</td>\n",
       "      <td>TRI ZAHRINI</td>\n",
       "      <td>Batu Ampar</td>\n",
       "      <td>0</td>\n",
       "      <td>0</td>\n",
       "      <td>3.0</td>\n",
       "      <td>14 th 11 bl 23 hr</td>\n",
       "      <td>126</td>\n",
       "      <td>Afirmasi (Inklusi)</td>\n",
       "      <td>Daftar Ulang</td>\n",
       "    </tr>\n",
       "    <tr>\n",
       "      <th>3</th>\n",
       "      <td>8381</td>\n",
       "      <td>6</td>\n",
       "      <td>200107202690014</td>\n",
       "      <td>KURNIAWAN DIANSAH</td>\n",
       "      <td>Pinang Ranti</td>\n",
       "      <td>1</td>\n",
       "      <td>2</td>\n",
       "      <td>3.0</td>\n",
       "      <td>14 th 11 bl 16 hr</td>\n",
       "      <td>272</td>\n",
       "      <td>Zonasi</td>\n",
       "      <td>Daftar Ulang</td>\n",
       "    </tr>\n",
       "    <tr>\n",
       "      <th>4</th>\n",
       "      <td>2269</td>\n",
       "      <td>8</td>\n",
       "      <td>200107200590084</td>\n",
       "      <td>ARVA SABILLILAH</td>\n",
       "      <td>Cililitan</td>\n",
       "      <td>7</td>\n",
       "      <td>12</td>\n",
       "      <td>3.0</td>\n",
       "      <td>14 th 11 bl 13 hr</td>\n",
       "      <td>50</td>\n",
       "      <td>Zonasi</td>\n",
       "      <td>Daftar Ulang</td>\n",
       "    </tr>\n",
       "    <tr>\n",
       "      <th>...</th>\n",
       "      <td>...</td>\n",
       "      <td>...</td>\n",
       "      <td>...</td>\n",
       "      <td>...</td>\n",
       "      <td>...</td>\n",
       "      <td>...</td>\n",
       "      <td>...</td>\n",
       "      <td>...</td>\n",
       "      <td>...</td>\n",
       "      <td>...</td>\n",
       "      <td>...</td>\n",
       "      <td>...</td>\n",
       "    </tr>\n",
       "    <tr>\n",
       "      <th>4780</th>\n",
       "      <td>5691</td>\n",
       "      <td>59</td>\n",
       "      <td>200102202100046</td>\n",
       "      <td>REZA DWI PERMANA</td>\n",
       "      <td>Tengah</td>\n",
       "      <td>7</td>\n",
       "      <td>6</td>\n",
       "      <td>NaN</td>\n",
       "      <td>11 th 01 bl 09 hr</td>\n",
       "      <td>209</td>\n",
       "      <td>Afirmasi (KJP)</td>\n",
       "      <td>Daftar Ulang</td>\n",
       "    </tr>\n",
       "    <tr>\n",
       "      <th>4781</th>\n",
       "      <td>6991</td>\n",
       "      <td>9</td>\n",
       "      <td>200104202230079</td>\n",
       "      <td>ANANDA ZHAKI IBRAHIM</td>\n",
       "      <td>Gedong</td>\n",
       "      <td>3</td>\n",
       "      <td>0</td>\n",
       "      <td>NaN</td>\n",
       "      <td>11 th 00 bl 18 hr</td>\n",
       "      <td>257</td>\n",
       "      <td>Prestasi (Akademik)</td>\n",
       "      <td>Daftar Ulang</td>\n",
       "    </tr>\n",
       "    <tr>\n",
       "      <th>4782</th>\n",
       "      <td>937</td>\n",
       "      <td>7</td>\n",
       "      <td>200104201280204</td>\n",
       "      <td>ZIYAD TRYSTAN RABBANI SARWONO</td>\n",
       "      <td>Batu Ampar</td>\n",
       "      <td>4</td>\n",
       "      <td>0</td>\n",
       "      <td>NaN</td>\n",
       "      <td>11 th 00 bl 03 hr</td>\n",
       "      <td>126</td>\n",
       "      <td>Prestasi (Akademik)</td>\n",
       "      <td>Tidak Daftar Ulang</td>\n",
       "    </tr>\n",
       "    <tr>\n",
       "      <th>4783</th>\n",
       "      <td>11024</td>\n",
       "      <td>11</td>\n",
       "      <td>200104201830335</td>\n",
       "      <td>MUHAMMAD SYAHMI TRIHANDOKO</td>\n",
       "      <td>Tanjung Barat</td>\n",
       "      <td>5</td>\n",
       "      <td>0</td>\n",
       "      <td>NaN</td>\n",
       "      <td>10 th 09 bl 07 hr</td>\n",
       "      <td>154</td>\n",
       "      <td>Prestasi (Akademik)</td>\n",
       "      <td>Daftar Ulang</td>\n",
       "    </tr>\n",
       "    <tr>\n",
       "      <th>4784</th>\n",
       "      <td>1952</td>\n",
       "      <td>69</td>\n",
       "      <td>200102200460019</td>\n",
       "      <td>GILANG RAMADHAN</td>\n",
       "      <td>Bale Kambang</td>\n",
       "      <td>1</td>\n",
       "      <td>8</td>\n",
       "      <td>3.0</td>\n",
       "      <td>10 th 08 bl 12 hr</td>\n",
       "      <td>35</td>\n",
       "      <td>Afirmasi (KJP)</td>\n",
       "      <td>Daftar Ulang</td>\n",
       "    </tr>\n",
       "  </tbody>\n",
       "</table>\n",
       "<p>4785 rows × 12 columns</p>\n",
       "</div>"
      ],
      "text/plain": [
       "      index  Peringkat  Nomer Pendaftaran                           Nama  \\\n",
       "0       398          1    200103200320003          MUHAMMAD ABDUL RAHMAN   \n",
       "1      1635         17    200102200360004      MUZAKY HISBULLAH WIDIANTO   \n",
       "2       996          1    200103201280002                    TRI ZAHRINI   \n",
       "3      8381          6    200107202690014              KURNIAWAN DIANSAH   \n",
       "4      2269          8    200107200590084                ARVA SABILLILAH   \n",
       "...     ...        ...                ...                            ...   \n",
       "4780   5691         59    200102202100046               REZA DWI PERMANA   \n",
       "4781   6991          9    200104202230079           ANANDA ZHAKI IBRAHIM   \n",
       "4782    937          7    200104201280204  ZIYAD TRYSTAN RABBANI SARWONO   \n",
       "4783  11024         11    200104201830335     MUHAMMAD SYAHMI TRIHANDOKO   \n",
       "4784   1952         69    200102200460019                GILANG RAMADHAN   \n",
       "\n",
       "          Kelurahan  RW  RT  Prioritas Zonasi               Umur Asal SMP  \\\n",
       "0        Batu Ampar   4   0               3.0  15 th 00 bl 28 hr       20   \n",
       "1             Dukuh   5   9               3.0  14 th 11 bl 29 hr       24   \n",
       "2        Batu Ampar   0   0               3.0  14 th 11 bl 23 hr      126   \n",
       "3      Pinang Ranti   1   2               3.0  14 th 11 bl 16 hr      272   \n",
       "4         Cililitan   7  12               3.0  14 th 11 bl 13 hr       50   \n",
       "...             ...  ..  ..               ...                ...      ...   \n",
       "4780         Tengah   7   6               NaN  11 th 01 bl 09 hr      209   \n",
       "4781         Gedong   3   0               NaN  11 th 00 bl 18 hr      257   \n",
       "4782     Batu Ampar   4   0               NaN  11 th 00 bl 03 hr      126   \n",
       "4783  Tanjung Barat   5   0               NaN  10 th 09 bl 07 hr      154   \n",
       "4784   Bale Kambang   1   8               3.0  10 th 08 bl 12 hr       35   \n",
       "\n",
       "             Jalur Daftar              Status  \n",
       "0      Afirmasi (Inklusi)        Daftar Ulang  \n",
       "1          Afirmasi (KJP)        Daftar Ulang  \n",
       "2      Afirmasi (Inklusi)        Daftar Ulang  \n",
       "3                  Zonasi        Daftar Ulang  \n",
       "4                  Zonasi        Daftar Ulang  \n",
       "...                   ...                 ...  \n",
       "4780       Afirmasi (KJP)        Daftar Ulang  \n",
       "4781  Prestasi (Akademik)        Daftar Ulang  \n",
       "4782  Prestasi (Akademik)  Tidak Daftar Ulang  \n",
       "4783  Prestasi (Akademik)        Daftar Ulang  \n",
       "4784       Afirmasi (KJP)        Daftar Ulang  \n",
       "\n",
       "[4785 rows x 12 columns]"
      ]
     },
     "execution_count": 44,
     "metadata": {},
     "output_type": "execute_result"
    }
   ],
   "source": [
    "df_93"
   ]
  },
  {
   "cell_type": "code",
   "execution_count": 45,
   "id": "cdf2888c-9f19-4ed2-beee-dbc60afd47ba",
   "metadata": {},
   "outputs": [
    {
     "data": {
      "text/html": [
       "<div>\n",
       "<style scoped>\n",
       "    .dataframe tbody tr th:only-of-type {\n",
       "        vertical-align: middle;\n",
       "    }\n",
       "\n",
       "    .dataframe tbody tr th {\n",
       "        vertical-align: top;\n",
       "    }\n",
       "\n",
       "    .dataframe thead th {\n",
       "        text-align: right;\n",
       "    }\n",
       "</style>\n",
       "<table border=\"1\" class=\"dataframe\">\n",
       "  <thead>\n",
       "    <tr style=\"text-align: right;\">\n",
       "      <th></th>\n",
       "      <th>index</th>\n",
       "      <th>Peringkat</th>\n",
       "      <th>Nomer Pendaftaran</th>\n",
       "      <th>Nama</th>\n",
       "      <th>Kelurahan</th>\n",
       "      <th>RW</th>\n",
       "      <th>RT</th>\n",
       "      <th>Prioritas Zonasi</th>\n",
       "      <th>Umur</th>\n",
       "      <th>Asal SMP</th>\n",
       "      <th>Jalur Daftar</th>\n",
       "      <th>Status</th>\n",
       "    </tr>\n",
       "  </thead>\n",
       "  <tbody>\n",
       "    <tr>\n",
       "      <th>1709</th>\n",
       "      <td>63</td>\n",
       "      <td>64</td>\n",
       "      <td>200107200060003</td>\n",
       "      <td>TYAS ADIRA RAHAYU NINGSIH</td>\n",
       "      <td>Batu Ampar</td>\n",
       "      <td>5</td>\n",
       "      <td>7</td>\n",
       "      <td>3.0</td>\n",
       "      <td>12 th 11 bl 11 hr</td>\n",
       "      <td>49</td>\n",
       "      <td>Zonasi</td>\n",
       "      <td>Daftar Ulang</td>\n",
       "    </tr>\n",
       "  </tbody>\n",
       "</table>\n",
       "</div>"
      ],
      "text/plain": [
       "      index  Peringkat  Nomer Pendaftaran                        Nama  \\\n",
       "1709     63         64    200107200060003  TYAS ADIRA RAHAYU NINGSIH    \n",
       "\n",
       "       Kelurahan  RW  RT  Prioritas Zonasi               Umur Asal SMP  \\\n",
       "1709  Batu Ampar   5   7               3.0  12 th 11 bl 11 hr       49   \n",
       "\n",
       "     Jalur Daftar        Status  \n",
       "1709       Zonasi  Daftar Ulang  "
      ]
     },
     "execution_count": 45,
     "metadata": {},
     "output_type": "execute_result"
    }
   ],
   "source": [
    "df_93.loc[df_93['Nama'].str.contains('Tyas Adira Rahayu Ningsih', case=False)]"
   ]
  },
  {
   "cell_type": "markdown",
   "id": "9b6e08e0-ec1b-4f4e-9540-b2216692795f",
   "metadata": {},
   "source": [
    "## Menganalisa diurutan keberapa jika mendaftar di SMA Negeri 104 Jakarta"
   ]
  },
  {
   "cell_type": "code",
   "execution_count": 35,
   "id": "51f04424-3324-402c-abed-fb519b555d80",
   "metadata": {},
   "outputs": [],
   "source": [
    "df_104 = df[df['Kelurahan'].isin(['Gedong', 'Rambutan', 'Susukan', 'Dukuh', 'Tanjung Barat', 'Bale Kambang', 'Batu Ampar', \n",
    "                                  'Jati Padang', 'Tengah', 'Baru', 'Pejaten Timur', \n",
    "                                  'Pasar Minggu', 'Cijantung'])].sort_values('Umur', ascending=False).reset_index()"
   ]
  },
  {
   "cell_type": "code",
   "execution_count": 47,
   "id": "ae5a42eb-3d18-4d10-9acd-c7d2e28e3e08",
   "metadata": {},
   "outputs": [
    {
     "data": {
      "text/html": [
       "<div>\n",
       "<style scoped>\n",
       "    .dataframe tbody tr th:only-of-type {\n",
       "        vertical-align: middle;\n",
       "    }\n",
       "\n",
       "    .dataframe tbody tr th {\n",
       "        vertical-align: top;\n",
       "    }\n",
       "\n",
       "    .dataframe thead th {\n",
       "        text-align: right;\n",
       "    }\n",
       "</style>\n",
       "<table border=\"1\" class=\"dataframe\">\n",
       "  <thead>\n",
       "    <tr style=\"text-align: right;\">\n",
       "      <th></th>\n",
       "      <th>index</th>\n",
       "      <th>Peringkat</th>\n",
       "      <th>Nomer Pendaftaran</th>\n",
       "      <th>Nama</th>\n",
       "      <th>Kelurahan</th>\n",
       "      <th>RW</th>\n",
       "      <th>RT</th>\n",
       "      <th>Prioritas Zonasi</th>\n",
       "      <th>Umur</th>\n",
       "      <th>Asal SMP</th>\n",
       "      <th>Jalur Daftar</th>\n",
       "      <th>Status</th>\n",
       "    </tr>\n",
       "  </thead>\n",
       "  <tbody>\n",
       "    <tr>\n",
       "      <th>0</th>\n",
       "      <td>398</td>\n",
       "      <td>1</td>\n",
       "      <td>200103200320003</td>\n",
       "      <td>MUHAMMAD ABDUL RAHMAN</td>\n",
       "      <td>Batu Ampar</td>\n",
       "      <td>4</td>\n",
       "      <td>0</td>\n",
       "      <td>3.0</td>\n",
       "      <td>15 th 00 bl 28 hr</td>\n",
       "      <td>20</td>\n",
       "      <td>Afirmasi (Inklusi)</td>\n",
       "      <td>Daftar Ulang</td>\n",
       "    </tr>\n",
       "    <tr>\n",
       "      <th>1</th>\n",
       "      <td>1635</td>\n",
       "      <td>17</td>\n",
       "      <td>200102200360004</td>\n",
       "      <td>MUZAKY HISBULLAH WIDIANTO</td>\n",
       "      <td>Dukuh</td>\n",
       "      <td>5</td>\n",
       "      <td>9</td>\n",
       "      <td>3.0</td>\n",
       "      <td>14 th 11 bl 29 hr</td>\n",
       "      <td>24</td>\n",
       "      <td>Afirmasi (KJP)</td>\n",
       "      <td>Daftar Ulang</td>\n",
       "    </tr>\n",
       "    <tr>\n",
       "      <th>2</th>\n",
       "      <td>10077</td>\n",
       "      <td>1</td>\n",
       "      <td>200107202180018</td>\n",
       "      <td>AHMAD FAJRI</td>\n",
       "      <td>Jati Padang</td>\n",
       "      <td>8</td>\n",
       "      <td>6</td>\n",
       "      <td>1.0</td>\n",
       "      <td>14 th 11 bl 24 hr</td>\n",
       "      <td>218</td>\n",
       "      <td>Zonasi</td>\n",
       "      <td>Daftar Ulang</td>\n",
       "    </tr>\n",
       "    <tr>\n",
       "      <th>3</th>\n",
       "      <td>996</td>\n",
       "      <td>1</td>\n",
       "      <td>200103201280002</td>\n",
       "      <td>TRI ZAHRINI</td>\n",
       "      <td>Batu Ampar</td>\n",
       "      <td>0</td>\n",
       "      <td>0</td>\n",
       "      <td>3.0</td>\n",
       "      <td>14 th 11 bl 23 hr</td>\n",
       "      <td>126</td>\n",
       "      <td>Afirmasi (Inklusi)</td>\n",
       "      <td>Daftar Ulang</td>\n",
       "    </tr>\n",
       "    <tr>\n",
       "      <th>4</th>\n",
       "      <td>5678</td>\n",
       "      <td>46</td>\n",
       "      <td>200102202100027</td>\n",
       "      <td>MUHAMAD ISLAMI</td>\n",
       "      <td>Tengah</td>\n",
       "      <td>4</td>\n",
       "      <td>11</td>\n",
       "      <td>NaN</td>\n",
       "      <td>14 th 10 bl 27 hr</td>\n",
       "      <td>209</td>\n",
       "      <td>Afirmasi (KJP)</td>\n",
       "      <td>Daftar Ulang</td>\n",
       "    </tr>\n",
       "    <tr>\n",
       "      <th>...</th>\n",
       "      <td>...</td>\n",
       "      <td>...</td>\n",
       "      <td>...</td>\n",
       "      <td>...</td>\n",
       "      <td>...</td>\n",
       "      <td>...</td>\n",
       "      <td>...</td>\n",
       "      <td>...</td>\n",
       "      <td>...</td>\n",
       "      <td>...</td>\n",
       "      <td>...</td>\n",
       "      <td>...</td>\n",
       "    </tr>\n",
       "    <tr>\n",
       "      <th>4492</th>\n",
       "      <td>6991</td>\n",
       "      <td>9</td>\n",
       "      <td>200104202230079</td>\n",
       "      <td>ANANDA ZHAKI IBRAHIM</td>\n",
       "      <td>Gedong</td>\n",
       "      <td>3</td>\n",
       "      <td>0</td>\n",
       "      <td>NaN</td>\n",
       "      <td>11 th 00 bl 18 hr</td>\n",
       "      <td>257</td>\n",
       "      <td>Prestasi (Akademik)</td>\n",
       "      <td>Daftar Ulang</td>\n",
       "    </tr>\n",
       "    <tr>\n",
       "      <th>4493</th>\n",
       "      <td>937</td>\n",
       "      <td>7</td>\n",
       "      <td>200104201280204</td>\n",
       "      <td>ZIYAD TRYSTAN RABBANI SARWONO</td>\n",
       "      <td>Batu Ampar</td>\n",
       "      <td>4</td>\n",
       "      <td>0</td>\n",
       "      <td>NaN</td>\n",
       "      <td>11 th 00 bl 03 hr</td>\n",
       "      <td>126</td>\n",
       "      <td>Prestasi (Akademik)</td>\n",
       "      <td>Tidak Daftar Ulang</td>\n",
       "    </tr>\n",
       "    <tr>\n",
       "      <th>4494</th>\n",
       "      <td>4389</td>\n",
       "      <td>54</td>\n",
       "      <td>200104201070065</td>\n",
       "      <td>FATUR DWI AGENG SELO</td>\n",
       "      <td>Baru</td>\n",
       "      <td>1</td>\n",
       "      <td>0</td>\n",
       "      <td>NaN</td>\n",
       "      <td>11 th 00 bl 00 hr</td>\n",
       "      <td>179</td>\n",
       "      <td>Prestasi (Akademik)</td>\n",
       "      <td>Daftar Ulang</td>\n",
       "    </tr>\n",
       "    <tr>\n",
       "      <th>4495</th>\n",
       "      <td>11024</td>\n",
       "      <td>11</td>\n",
       "      <td>200104201830335</td>\n",
       "      <td>MUHAMMAD SYAHMI TRIHANDOKO</td>\n",
       "      <td>Tanjung Barat</td>\n",
       "      <td>5</td>\n",
       "      <td>0</td>\n",
       "      <td>NaN</td>\n",
       "      <td>10 th 09 bl 07 hr</td>\n",
       "      <td>154</td>\n",
       "      <td>Prestasi (Akademik)</td>\n",
       "      <td>Daftar Ulang</td>\n",
       "    </tr>\n",
       "    <tr>\n",
       "      <th>4496</th>\n",
       "      <td>1952</td>\n",
       "      <td>69</td>\n",
       "      <td>200102200460019</td>\n",
       "      <td>GILANG RAMADHAN</td>\n",
       "      <td>Bale Kambang</td>\n",
       "      <td>1</td>\n",
       "      <td>8</td>\n",
       "      <td>3.0</td>\n",
       "      <td>10 th 08 bl 12 hr</td>\n",
       "      <td>35</td>\n",
       "      <td>Afirmasi (KJP)</td>\n",
       "      <td>Daftar Ulang</td>\n",
       "    </tr>\n",
       "  </tbody>\n",
       "</table>\n",
       "<p>4497 rows × 12 columns</p>\n",
       "</div>"
      ],
      "text/plain": [
       "      index  Peringkat  Nomer Pendaftaran                           Nama  \\\n",
       "0       398          1    200103200320003          MUHAMMAD ABDUL RAHMAN   \n",
       "1      1635         17    200102200360004      MUZAKY HISBULLAH WIDIANTO   \n",
       "2     10077          1    200107202180018                    AHMAD FAJRI   \n",
       "3       996          1    200103201280002                    TRI ZAHRINI   \n",
       "4      5678         46    200102202100027                 MUHAMAD ISLAMI   \n",
       "...     ...        ...                ...                            ...   \n",
       "4492   6991          9    200104202230079           ANANDA ZHAKI IBRAHIM   \n",
       "4493    937          7    200104201280204  ZIYAD TRYSTAN RABBANI SARWONO   \n",
       "4494   4389         54    200104201070065           FATUR DWI AGENG SELO   \n",
       "4495  11024         11    200104201830335     MUHAMMAD SYAHMI TRIHANDOKO   \n",
       "4496   1952         69    200102200460019                GILANG RAMADHAN   \n",
       "\n",
       "          Kelurahan  RW  RT  Prioritas Zonasi               Umur Asal SMP  \\\n",
       "0        Batu Ampar   4   0               3.0  15 th 00 bl 28 hr       20   \n",
       "1             Dukuh   5   9               3.0  14 th 11 bl 29 hr       24   \n",
       "2       Jati Padang   8   6               1.0  14 th 11 bl 24 hr      218   \n",
       "3        Batu Ampar   0   0               3.0  14 th 11 bl 23 hr      126   \n",
       "4            Tengah   4  11               NaN  14 th 10 bl 27 hr      209   \n",
       "...             ...  ..  ..               ...                ...      ...   \n",
       "4492         Gedong   3   0               NaN  11 th 00 bl 18 hr      257   \n",
       "4493     Batu Ampar   4   0               NaN  11 th 00 bl 03 hr      126   \n",
       "4494           Baru   1   0               NaN  11 th 00 bl 00 hr      179   \n",
       "4495  Tanjung Barat   5   0               NaN  10 th 09 bl 07 hr      154   \n",
       "4496   Bale Kambang   1   8               3.0  10 th 08 bl 12 hr       35   \n",
       "\n",
       "             Jalur Daftar              Status  \n",
       "0      Afirmasi (Inklusi)        Daftar Ulang  \n",
       "1          Afirmasi (KJP)        Daftar Ulang  \n",
       "2                  Zonasi        Daftar Ulang  \n",
       "3      Afirmasi (Inklusi)        Daftar Ulang  \n",
       "4          Afirmasi (KJP)        Daftar Ulang  \n",
       "...                   ...                 ...  \n",
       "4492  Prestasi (Akademik)        Daftar Ulang  \n",
       "4493  Prestasi (Akademik)  Tidak Daftar Ulang  \n",
       "4494  Prestasi (Akademik)        Daftar Ulang  \n",
       "4495  Prestasi (Akademik)        Daftar Ulang  \n",
       "4496       Afirmasi (KJP)        Daftar Ulang  \n",
       "\n",
       "[4497 rows x 12 columns]"
      ]
     },
     "execution_count": 47,
     "metadata": {},
     "output_type": "execute_result"
    }
   ],
   "source": [
    "df_104"
   ]
  },
  {
   "cell_type": "code",
   "execution_count": 48,
   "id": "039003a6-e12e-4ebb-8fcf-ec30beca6d1f",
   "metadata": {},
   "outputs": [
    {
     "data": {
      "text/html": [
       "<div>\n",
       "<style scoped>\n",
       "    .dataframe tbody tr th:only-of-type {\n",
       "        vertical-align: middle;\n",
       "    }\n",
       "\n",
       "    .dataframe tbody tr th {\n",
       "        vertical-align: top;\n",
       "    }\n",
       "\n",
       "    .dataframe thead th {\n",
       "        text-align: right;\n",
       "    }\n",
       "</style>\n",
       "<table border=\"1\" class=\"dataframe\">\n",
       "  <thead>\n",
       "    <tr style=\"text-align: right;\">\n",
       "      <th></th>\n",
       "      <th>index</th>\n",
       "      <th>Peringkat</th>\n",
       "      <th>Nomer Pendaftaran</th>\n",
       "      <th>Nama</th>\n",
       "      <th>Kelurahan</th>\n",
       "      <th>RW</th>\n",
       "      <th>RT</th>\n",
       "      <th>Prioritas Zonasi</th>\n",
       "      <th>Umur</th>\n",
       "      <th>Asal SMP</th>\n",
       "      <th>Jalur Daftar</th>\n",
       "      <th>Status</th>\n",
       "    </tr>\n",
       "  </thead>\n",
       "  <tbody>\n",
       "    <tr>\n",
       "      <th>1679</th>\n",
       "      <td>63</td>\n",
       "      <td>64</td>\n",
       "      <td>200107200060003</td>\n",
       "      <td>TYAS ADIRA RAHAYU NINGSIH</td>\n",
       "      <td>Batu Ampar</td>\n",
       "      <td>5</td>\n",
       "      <td>7</td>\n",
       "      <td>3.0</td>\n",
       "      <td>12 th 11 bl 11 hr</td>\n",
       "      <td>49</td>\n",
       "      <td>Zonasi</td>\n",
       "      <td>Daftar Ulang</td>\n",
       "    </tr>\n",
       "  </tbody>\n",
       "</table>\n",
       "</div>"
      ],
      "text/plain": [
       "      index  Peringkat  Nomer Pendaftaran                        Nama  \\\n",
       "1679     63         64    200107200060003  TYAS ADIRA RAHAYU NINGSIH    \n",
       "\n",
       "       Kelurahan  RW  RT  Prioritas Zonasi               Umur Asal SMP  \\\n",
       "1679  Batu Ampar   5   7               3.0  12 th 11 bl 11 hr       49   \n",
       "\n",
       "     Jalur Daftar        Status  \n",
       "1679       Zonasi  Daftar Ulang  "
      ]
     },
     "execution_count": 48,
     "metadata": {},
     "output_type": "execute_result"
    }
   ],
   "source": [
    "df_104.loc[df_104['Nama'].str.contains('Tyas Adira Rahayu Ningsih', case=False)]"
   ]
  },
  {
   "cell_type": "markdown",
   "id": "81b7a74d-3767-4f56-88d6-adff6cfea3f1",
   "metadata": {},
   "source": [
    "## Menganalisa diurutan keberapa jika mendaftar di SMA Negeri 14 Jakarta"
   ]
  },
  {
   "cell_type": "code",
   "execution_count": 36,
   "id": "0a2dd764-5de3-41a9-ab4d-e15a08b31bfd",
   "metadata": {},
   "outputs": [],
   "source": [
    "df_14 = df[df['Kelurahan'].isin(['Cililitan', 'Cawang', 'Rawajati', 'Pejaten Barat', 'Pejaten Timur', 'Bale Kambang', \n",
    "                                 'Batu Ampar', 'Dukuh', 'Kebon Pala', 'Makasar', 'Pancoran', 'Pengadegan', \n",
    "                                 'Kramat Jati', 'Cikoko', 'Duren Tiga', 'Kalibata', 'Kebon Baru'])].sort_values('Umur', ascending=False).reset_index()"
   ]
  },
  {
   "cell_type": "code",
   "execution_count": 50,
   "id": "db59518f-049d-4619-bfe7-6b80f6383bed",
   "metadata": {},
   "outputs": [
    {
     "data": {
      "text/html": [
       "<div>\n",
       "<style scoped>\n",
       "    .dataframe tbody tr th:only-of-type {\n",
       "        vertical-align: middle;\n",
       "    }\n",
       "\n",
       "    .dataframe tbody tr th {\n",
       "        vertical-align: top;\n",
       "    }\n",
       "\n",
       "    .dataframe thead th {\n",
       "        text-align: right;\n",
       "    }\n",
       "</style>\n",
       "<table border=\"1\" class=\"dataframe\">\n",
       "  <thead>\n",
       "    <tr style=\"text-align: right;\">\n",
       "      <th></th>\n",
       "      <th>index</th>\n",
       "      <th>Peringkat</th>\n",
       "      <th>Nomer Pendaftaran</th>\n",
       "      <th>Nama</th>\n",
       "      <th>Kelurahan</th>\n",
       "      <th>RW</th>\n",
       "      <th>RT</th>\n",
       "      <th>Prioritas Zonasi</th>\n",
       "      <th>Umur</th>\n",
       "      <th>Asal SMP</th>\n",
       "      <th>Jalur Daftar</th>\n",
       "      <th>Status</th>\n",
       "    </tr>\n",
       "  </thead>\n",
       "  <tbody>\n",
       "    <tr>\n",
       "      <th>0</th>\n",
       "      <td>398</td>\n",
       "      <td>1</td>\n",
       "      <td>200103200320003</td>\n",
       "      <td>MUHAMMAD ABDUL RAHMAN</td>\n",
       "      <td>Batu Ampar</td>\n",
       "      <td>4</td>\n",
       "      <td>0</td>\n",
       "      <td>3.0</td>\n",
       "      <td>15 th 00 bl 28 hr</td>\n",
       "      <td>20</td>\n",
       "      <td>Afirmasi (Inklusi)</td>\n",
       "      <td>Daftar Ulang</td>\n",
       "    </tr>\n",
       "    <tr>\n",
       "      <th>1</th>\n",
       "      <td>1635</td>\n",
       "      <td>17</td>\n",
       "      <td>200102200360004</td>\n",
       "      <td>MUZAKY HISBULLAH WIDIANTO</td>\n",
       "      <td>Dukuh</td>\n",
       "      <td>5</td>\n",
       "      <td>9</td>\n",
       "      <td>3.0</td>\n",
       "      <td>14 th 11 bl 29 hr</td>\n",
       "      <td>24</td>\n",
       "      <td>Afirmasi (KJP)</td>\n",
       "      <td>Daftar Ulang</td>\n",
       "    </tr>\n",
       "    <tr>\n",
       "      <th>2</th>\n",
       "      <td>996</td>\n",
       "      <td>1</td>\n",
       "      <td>200103201280002</td>\n",
       "      <td>TRI ZAHRINI</td>\n",
       "      <td>Batu Ampar</td>\n",
       "      <td>0</td>\n",
       "      <td>0</td>\n",
       "      <td>3.0</td>\n",
       "      <td>14 th 11 bl 23 hr</td>\n",
       "      <td>126</td>\n",
       "      <td>Afirmasi (Inklusi)</td>\n",
       "      <td>Daftar Ulang</td>\n",
       "    </tr>\n",
       "    <tr>\n",
       "      <th>3</th>\n",
       "      <td>2269</td>\n",
       "      <td>8</td>\n",
       "      <td>200107200590084</td>\n",
       "      <td>ARVA SABILLILAH</td>\n",
       "      <td>Cililitan</td>\n",
       "      <td>7</td>\n",
       "      <td>12</td>\n",
       "      <td>3.0</td>\n",
       "      <td>14 th 11 bl 13 hr</td>\n",
       "      <td>50</td>\n",
       "      <td>Zonasi</td>\n",
       "      <td>Daftar Ulang</td>\n",
       "    </tr>\n",
       "    <tr>\n",
       "      <th>4</th>\n",
       "      <td>252</td>\n",
       "      <td>15</td>\n",
       "      <td>200102200060218</td>\n",
       "      <td>ANGGI PRATIWI</td>\n",
       "      <td>Kramat Jati</td>\n",
       "      <td>11</td>\n",
       "      <td>10</td>\n",
       "      <td>2.0</td>\n",
       "      <td>14 th 10 bl 29 hr</td>\n",
       "      <td>49</td>\n",
       "      <td>Afirmasi (KJP)</td>\n",
       "      <td>Tidak Naik Kelas</td>\n",
       "    </tr>\n",
       "    <tr>\n",
       "      <th>...</th>\n",
       "      <td>...</td>\n",
       "      <td>...</td>\n",
       "      <td>...</td>\n",
       "      <td>...</td>\n",
       "      <td>...</td>\n",
       "      <td>...</td>\n",
       "      <td>...</td>\n",
       "      <td>...</td>\n",
       "      <td>...</td>\n",
       "      <td>...</td>\n",
       "      <td>...</td>\n",
       "      <td>...</td>\n",
       "    </tr>\n",
       "    <tr>\n",
       "      <th>4462</th>\n",
       "      <td>11128</td>\n",
       "      <td>11</td>\n",
       "      <td>200107201550102</td>\n",
       "      <td>FELICIA BARUNA PUTRI NUR</td>\n",
       "      <td>Pengadegan</td>\n",
       "      <td>5</td>\n",
       "      <td>2</td>\n",
       "      <td>2.0</td>\n",
       "      <td>11 th 03 bl 26 hr</td>\n",
       "      <td>154</td>\n",
       "      <td>Zonasi</td>\n",
       "      <td>Daftar Ulang</td>\n",
       "    </tr>\n",
       "    <tr>\n",
       "      <th>4463</th>\n",
       "      <td>11332</td>\n",
       "      <td>17</td>\n",
       "      <td>200107201560059</td>\n",
       "      <td>ANDIKA JAHDAN TAZAKKA</td>\n",
       "      <td>Cikoko</td>\n",
       "      <td>5</td>\n",
       "      <td>3</td>\n",
       "      <td>2.0</td>\n",
       "      <td>11 th 03 bl 02 hr</td>\n",
       "      <td>155</td>\n",
       "      <td>Zonasi</td>\n",
       "      <td>Daftar Ulang</td>\n",
       "    </tr>\n",
       "    <tr>\n",
       "      <th>4464</th>\n",
       "      <td>11571</td>\n",
       "      <td>22</td>\n",
       "      <td>200107201640050</td>\n",
       "      <td>YUANITA VERA FIRDAYANTI</td>\n",
       "      <td>Kalibata</td>\n",
       "      <td>8</td>\n",
       "      <td>4</td>\n",
       "      <td>2.0</td>\n",
       "      <td>11 th 00 bl 11 hr</td>\n",
       "      <td>182</td>\n",
       "      <td>Zonasi</td>\n",
       "      <td>Daftar Ulang</td>\n",
       "    </tr>\n",
       "    <tr>\n",
       "      <th>4465</th>\n",
       "      <td>937</td>\n",
       "      <td>7</td>\n",
       "      <td>200104201280204</td>\n",
       "      <td>ZIYAD TRYSTAN RABBANI SARWONO</td>\n",
       "      <td>Batu Ampar</td>\n",
       "      <td>4</td>\n",
       "      <td>0</td>\n",
       "      <td>NaN</td>\n",
       "      <td>11 th 00 bl 03 hr</td>\n",
       "      <td>126</td>\n",
       "      <td>Prestasi (Akademik)</td>\n",
       "      <td>Tidak Daftar Ulang</td>\n",
       "    </tr>\n",
       "    <tr>\n",
       "      <th>4466</th>\n",
       "      <td>1952</td>\n",
       "      <td>69</td>\n",
       "      <td>200102200460019</td>\n",
       "      <td>GILANG RAMADHAN</td>\n",
       "      <td>Bale Kambang</td>\n",
       "      <td>1</td>\n",
       "      <td>8</td>\n",
       "      <td>3.0</td>\n",
       "      <td>10 th 08 bl 12 hr</td>\n",
       "      <td>35</td>\n",
       "      <td>Afirmasi (KJP)</td>\n",
       "      <td>Daftar Ulang</td>\n",
       "    </tr>\n",
       "  </tbody>\n",
       "</table>\n",
       "<p>4467 rows × 12 columns</p>\n",
       "</div>"
      ],
      "text/plain": [
       "      index  Peringkat  Nomer Pendaftaran                           Nama  \\\n",
       "0       398          1    200103200320003          MUHAMMAD ABDUL RAHMAN   \n",
       "1      1635         17    200102200360004      MUZAKY HISBULLAH WIDIANTO   \n",
       "2       996          1    200103201280002                    TRI ZAHRINI   \n",
       "3      2269          8    200107200590084                ARVA SABILLILAH   \n",
       "4       252         15    200102200060218                  ANGGI PRATIWI   \n",
       "...     ...        ...                ...                            ...   \n",
       "4462  11128         11    200107201550102       FELICIA BARUNA PUTRI NUR   \n",
       "4463  11332         17    200107201560059          ANDIKA JAHDAN TAZAKKA   \n",
       "4464  11571         22    200107201640050        YUANITA VERA FIRDAYANTI   \n",
       "4465    937          7    200104201280204  ZIYAD TRYSTAN RABBANI SARWONO   \n",
       "4466   1952         69    200102200460019                GILANG RAMADHAN   \n",
       "\n",
       "         Kelurahan  RW  RT  Prioritas Zonasi               Umur Asal SMP  \\\n",
       "0       Batu Ampar   4   0               3.0  15 th 00 bl 28 hr       20   \n",
       "1            Dukuh   5   9               3.0  14 th 11 bl 29 hr       24   \n",
       "2       Batu Ampar   0   0               3.0  14 th 11 bl 23 hr      126   \n",
       "3        Cililitan   7  12               3.0  14 th 11 bl 13 hr       50   \n",
       "4      Kramat Jati  11  10               2.0  14 th 10 bl 29 hr       49   \n",
       "...            ...  ..  ..               ...                ...      ...   \n",
       "4462    Pengadegan   5   2               2.0  11 th 03 bl 26 hr      154   \n",
       "4463        Cikoko   5   3               2.0  11 th 03 bl 02 hr      155   \n",
       "4464      Kalibata   8   4               2.0  11 th 00 bl 11 hr      182   \n",
       "4465    Batu Ampar   4   0               NaN  11 th 00 bl 03 hr      126   \n",
       "4466  Bale Kambang   1   8               3.0  10 th 08 bl 12 hr       35   \n",
       "\n",
       "             Jalur Daftar              Status  \n",
       "0      Afirmasi (Inklusi)        Daftar Ulang  \n",
       "1          Afirmasi (KJP)        Daftar Ulang  \n",
       "2      Afirmasi (Inklusi)        Daftar Ulang  \n",
       "3                  Zonasi        Daftar Ulang  \n",
       "4          Afirmasi (KJP)    Tidak Naik Kelas  \n",
       "...                   ...                 ...  \n",
       "4462               Zonasi        Daftar Ulang  \n",
       "4463               Zonasi        Daftar Ulang  \n",
       "4464               Zonasi        Daftar Ulang  \n",
       "4465  Prestasi (Akademik)  Tidak Daftar Ulang  \n",
       "4466       Afirmasi (KJP)        Daftar Ulang  \n",
       "\n",
       "[4467 rows x 12 columns]"
      ]
     },
     "execution_count": 50,
     "metadata": {},
     "output_type": "execute_result"
    }
   ],
   "source": [
    "df_14"
   ]
  },
  {
   "cell_type": "code",
   "execution_count": 51,
   "id": "4899e7f2-77e8-4fbd-85b2-7c13cda5d33c",
   "metadata": {},
   "outputs": [
    {
     "data": {
      "text/html": [
       "<div>\n",
       "<style scoped>\n",
       "    .dataframe tbody tr th:only-of-type {\n",
       "        vertical-align: middle;\n",
       "    }\n",
       "\n",
       "    .dataframe tbody tr th {\n",
       "        vertical-align: top;\n",
       "    }\n",
       "\n",
       "    .dataframe thead th {\n",
       "        text-align: right;\n",
       "    }\n",
       "</style>\n",
       "<table border=\"1\" class=\"dataframe\">\n",
       "  <thead>\n",
       "    <tr style=\"text-align: right;\">\n",
       "      <th></th>\n",
       "      <th>index</th>\n",
       "      <th>Peringkat</th>\n",
       "      <th>Nomer Pendaftaran</th>\n",
       "      <th>Nama</th>\n",
       "      <th>Kelurahan</th>\n",
       "      <th>RW</th>\n",
       "      <th>RT</th>\n",
       "      <th>Prioritas Zonasi</th>\n",
       "      <th>Umur</th>\n",
       "      <th>Asal SMP</th>\n",
       "      <th>Jalur Daftar</th>\n",
       "      <th>Status</th>\n",
       "    </tr>\n",
       "  </thead>\n",
       "  <tbody>\n",
       "    <tr>\n",
       "      <th>1441</th>\n",
       "      <td>63</td>\n",
       "      <td>64</td>\n",
       "      <td>200107200060003</td>\n",
       "      <td>TYAS ADIRA RAHAYU NINGSIH</td>\n",
       "      <td>Batu Ampar</td>\n",
       "      <td>5</td>\n",
       "      <td>7</td>\n",
       "      <td>3.0</td>\n",
       "      <td>12 th 11 bl 11 hr</td>\n",
       "      <td>49</td>\n",
       "      <td>Zonasi</td>\n",
       "      <td>Daftar Ulang</td>\n",
       "    </tr>\n",
       "  </tbody>\n",
       "</table>\n",
       "</div>"
      ],
      "text/plain": [
       "      index  Peringkat  Nomer Pendaftaran                        Nama  \\\n",
       "1441     63         64    200107200060003  TYAS ADIRA RAHAYU NINGSIH    \n",
       "\n",
       "       Kelurahan  RW  RT  Prioritas Zonasi               Umur Asal SMP  \\\n",
       "1441  Batu Ampar   5   7               3.0  12 th 11 bl 11 hr       49   \n",
       "\n",
       "     Jalur Daftar        Status  \n",
       "1441       Zonasi  Daftar Ulang  "
      ]
     },
     "execution_count": 51,
     "metadata": {},
     "output_type": "execute_result"
    }
   ],
   "source": [
    "df_14.loc[df_14['Nama'].str.contains('Tyas Adira Rahayu Ningsih', case=False)]"
   ]
  },
  {
   "cell_type": "code",
   "execution_count": 52,
   "id": "a5d81e78-a119-4e0f-9a31-7860e22ad22e",
   "metadata": {},
   "outputs": [],
   "source": [
    "df_51.to_excel('data_ppdb_sma51.xlsx')"
   ]
  },
  {
   "cell_type": "code",
   "execution_count": null,
   "id": "ab9be7ed-3cbf-479b-bb9c-e32d9854c301",
   "metadata": {},
   "outputs": [],
   "source": []
  }
 ],
 "metadata": {
  "kernelspec": {
   "display_name": "Python 3 (ipykernel)",
   "language": "python",
   "name": "python3"
  },
  "language_info": {
   "codemirror_mode": {
    "name": "ipython",
    "version": 3
   },
   "file_extension": ".py",
   "mimetype": "text/x-python",
   "name": "python",
   "nbconvert_exporter": "python",
   "pygments_lexer": "ipython3",
   "version": "3.9.7"
  }
 },
 "nbformat": 4,
 "nbformat_minor": 5
}
